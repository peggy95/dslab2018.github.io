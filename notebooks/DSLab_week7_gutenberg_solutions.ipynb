{
 "cells": [
  {
   "cell_type": "code",
   "execution_count": 1,
   "metadata": {},
   "outputs": [],
   "source": [
    "%matplotlib inline\n",
    "import matplotlib.pylab as plt\n",
    "import sys, os, glob\n",
    "import numpy as np\n",
    "import subprocess\n",
    "\n",
    "plt.rcParams['figure.figsize'] = (10,6)\n",
    "plt.rcParams['font.size'] = 18\n",
    "plt.style.use('fivethirtyeight')"
   ]
  },
  {
   "cell_type": "markdown",
   "metadata": {},
   "source": [
    "# Analyzing the Gutenberg Books Corpus\n",
    "\n",
    "The [Gutenberg Project](http://www.gutenberg.org/) is a collection of free books available online. In this lab we will use it to learn how to do analysis on text-based key-value datasets. \n",
    "\n",
    "Our ultimate goal in this lab is to produce something like the [Google Ngram Viewer](https://books.google.com/ngrams) but for the Gutenberg book corpus. \n",
    "\n",
    "The structure of this lab is as follows:\n",
    "\n",
    "1. basic inspection of data using Spark\n",
    "2. using basic Spark functions like `reduceByKey` to perform aggregations - how many authors are there? How many unique words?\n",
    "3. transforming the data - vectorizing text documents\n",
    "4. creating an N-gram viewer"
   ]
  },
  {
   "cell_type": "markdown",
   "metadata": {},
   "source": [
    "## Starting up the Spark runtime: initializing a `SparkContext` "
   ]
  },
  {
   "cell_type": "code",
   "execution_count": 2,
   "metadata": {},
   "outputs": [
    {
     "data": {
      "text/html": [
       "\n",
       "        <div>\n",
       "            <p><b>SparkContext</b></p>\n",
       "\n",
       "            <p><a href=\"http://10.90.38.21:4042\">Spark UI</a></p>\n",
       "\n",
       "            <dl>\n",
       "              <dt>Version</dt>\n",
       "                <dd><code>v2.2.0.2.6.4.0-91</code></dd>\n",
       "              <dt>Master</dt>\n",
       "                <dd><code>yarn</code></dd>\n",
       "              <dt>AppName</dt>\n",
       "                <dd><code>gutenberg-roskar</code></dd>\n",
       "            </dl>\n",
       "        </div>\n",
       "        "
      ],
      "text/plain": [
       "<SparkContext master=yarn appName=gutenberg-roskar>"
      ]
     },
     "execution_count": 2,
     "metadata": {},
     "output_type": "execute_result"
    }
   ],
   "source": [
    "import getpass\n",
    "import pyspark\n",
    "conf = pyspark.conf.SparkConf()\n",
    "conf.setMaster('yarn')\n",
    "conf.setAppName('gutenberg-{0}'.format(getpass.getuser()))\n",
    "conf.set('spark.executor.memory', '4g')\n",
    "conf.set('spark.executor.instances', '4')\n",
    "sc = pyspark.SparkContext.getOrCreate(conf)\n",
    "conf = sc.getConf()\n",
    "sc"
   ]
  },
  {
   "cell_type": "markdown",
   "metadata": {},
   "source": [
    "## The data\n",
    "\n",
    "The Gutenberg corpus has already been ingested and pre-processed for you. It is saved on HDFS as an RDD of `(book_id, text)` key-value pairs. In a separate data file, we saved a dictionary which contains the metadata for all the books in the RDD. "
   ]
  },
  {
   "cell_type": "markdown",
   "metadata": {},
   "source": [
    "## Load the data from HDFS"
   ]
  },
  {
   "cell_type": "code",
   "execution_count": 3,
   "metadata": {},
   "outputs": [],
   "source": [
    "gutenberg_rdd = sc.sequenceFile('/datasets/gutenberg/gutenberg_rdd').setName('gutenberg_rdd').cache()"
   ]
  },
  {
   "cell_type": "markdown",
   "metadata": {},
   "source": [
    "Lets quickly have a look at what this data looks like. These inspection methods are critical for getting a handle of the data in Spark - you will use them often!"
   ]
  },
  {
   "cell_type": "code",
   "execution_count": 4,
   "metadata": {},
   "outputs": [
    {
     "data": {
      "text/plain": [
       "('15266',\n",
       " 'The Project Gutenberg eBook, What Peace Means, by Henry van Dyke\\n\\n\\nThis eBook is for the use of anyone anywhere at no cost and with\\nalmost no restrictions whatsoever.  You may copy it, give it away or\\nre-use it under the terms of the Project Gutenberg License included\\nwith this eBook or online at www.gutenberg.net\\n\\n\\n\\n\\n\\nTitle: What Peace Means\\n\\nAuthor: Henry van Dyke\\n\\nRelease Date: March 5, 2005  [eBook #15266]\\n\\nLanguage: English\\n\\nCharacter set encoding: ISO-8859-1\\n\\n\\n***START OF THE PROJECT GUTENBERG EBOOK WHAT PEACE MEANS***\\n\\n\\nE-text prepared by Juliet Sutherland, Melissa Er-Raqabi, and the Project\\nGutenberg Online Distributed Proofreading Team (http://www.pgdp.net)\\n\\n\\n\\nWHAT PEACE MEANS\\n\\nby\\n\\nHENRY VAN DYKE\\n\\nNew York          Chicago\\nFleming H. Revell Company\\nLondon    and   Edinburgh\\n\\n1919\\n\\n\\n\\n\\n\\n\\n\\nTo\\nMy Son in the Faith\\nMy Brother in the Work\\nTertius van Dyke\\n\\n\\n\\n\\nFOREWORD\\n\\nThis little book contains three plain sermons which were preached in New\\nYork in the Easter season of 1919, in the Park Avenue Presbyterian\\nChurch, of which my son is minister. I had no thought that they would\\never be printed. They were, and are, just _daily bread discourses_ meant\\nto serve the spiritual needs of a congregation of Christian people,\\nseekers after truth, inquirers about duty, strangers and pilgrims, in\\nthe great city and the troubled world.\\n\\nBut if, as friends think, these simple chapters may be of service\\nthrough the printed page to a larger circle of readers, I willingly and\\nfreely let them go.\\n\\nMay the blessing of Jesus follow them on their humble path. May the\\nSpirit of Truth bring them home to some hearts that want them,--to those\\nwho desire to escape from evil and do good,--to those who \"seek peace\\nand ensue it.\"\\n\\nHENRY VAN DYKE.\\n\\nPark Avenue Church Manse, New York City.\\n\\n\\n\\n\\nCONTENTS\\n\\n  I. PEACE IN THE SOUL\\n\\n II. PEACE ON EARTH THROUGH RIGHTEOUSNESS\\n\\nIII. THE POWER OF AN ENDLESS LIFE\\n\\n\\n\\n\\nI\\n\\nPeace in the Soul\\n\\n_Peace I leave with you: my peace I give unto you._--ST. JOHN 14:27.\\n\\n\\nPeace is one of the great words of the Holy Scriptures.\\nIt is woven through the Old Testament and the New like a golden thread.\\nIt inheres and abides in the character of God,--\\n\\n    \"The central peace subsisting at the heart\\n    Of endless agitation.\"\\n\\nIt is the deepest and most universal desire of man, whose prayer in all\\nages has been, \"Grant us Thy Peace, O Lord.\" It is the reward of the\\nrighteous, the blessing of the good, the crown of life\\'s effort, and the\\nglory of eternity.\\n\\nThe prophets foretell the beauty of its coming and the psalmists sing of\\nthe joy which it brings. Jesus Christ is its Divine Messiah, its high\\npriest and its holy prince. The evangelists and prophets proclaim and\\npreach it. From beginning to end the Bible is full of the praise of\\npeace.\\n\\nYet there never was a book more full of stories of trouble and strife,\\ndisaster and sorrow. God Himself is revealed in it not as a calm,\\nuntroubled, self-absorbed Deity, occupied in beatific contemplation of\\nHis own perfections. He is a God who works and labours, who wars against\\nthe evil, who fights for the good. The psalmist speaks of Him as \"The\\nLord of Hosts, strong and mighty in battle.\" The Revelation of St. John\\ntells us that \"There was war in Heaven; Michael and his angels fought\\nagainst the dragon.\" Jesus Christ said: \"I came not to send peace, but a\\nsword.\"\\n\\nIt is evident, then, that this idea of \"peace,\" like all good and noble\\nthings, has its counterfeit, its false and subtle versary, which steals\\nits name and its garments to deceive and betray the hearts of men. We\\nfind this clearly taught in the Bible. Not more earnestly does it praise\\ntrue peace than it denounces false peace.\\n\\n_There is no peace, saith the Lord, unto the wicked_ (Isaiah 48:22).\\n\\n_For they have healed the hurt of the daughter of my people slightly,\\nsaying, Peace, peace; when there is no peace_ (Jer. 8:11).\\n\\n_If thou hadst known, even thou, at least in this thy day, the things\\nwhich belong unto thy peace! but now they are hid from thine eyes_ (St.\\nLuke 19:42).\\n\\n_For to be carnally minded is death; but to be spiritually minded is\\nlife and peace_ (Romans 8:6).\\n\\nThere never was a time in human history when a right understanding of\\nthe nature of true peace, the path which leads to it, the laws which\\ngovern it, was more necessary or more important than it is to-day.\\n\\nThe world has just passed through a ghastly experience of war at its\\nworst. Never in history has there been such slaughter, such agony, such\\nwaste, such desolation, in a brief space of time, as in the four\\nterrible years of conflict which German militarism forced on the world\\nin the twentieth century. Having seen it, I know what it means.\\n\\nNow we have \"supped full with horrors.\" We have had more than enough of\\nthat bloody banquet The heart of humanity longs for peace, as it has\\nalways longed, but now with a new intensity, greater than ever before.\\nYet the second course of war continues. The dogs fight for the crumbs\\nunder the peace-table. Ignorant armies clash by night. Cities are\\nbombarded and sacked. The barbarous Bolsheviki raise the red flag of\\nviolence and threaten a war of classes throughout the world.\\n\\nYou can never make a golden age out of leaden men, or a peaceful world\\nout of lovers of strife.\\n\\nWhere shall peace be found? How shall it be attained and safeguarded?\\nEvidently the militarists have assaulted it with their doctrine that\\nmight makes right. Evidently the pacifists have betrayed it with their\\ndoctrine of passive acceptance of wrong. Somewhere between these two\\nerrors there must be a ground of truth on which Christians can stand to\\ndefend their faith and maintain their hope of a better future for the\\nworld.\\n\\nLet me begin by speaking of _Peace in the Soul_. That is where religion\\nbegins, in the heart of a person. Its flowers and fruits are social.\\nThey are for the blessing of the world. But its root is personal. You\\ncan never start with a class--conscious or a mass--conscious\\nChristianity. It must begin with just you and God.\\n\\nMarshal Joffre, that fine Christian soldier, said a memorable thing\\nabout the winning of the war: \"Our victory will be the fruit of\\nindividual sacrifice.\" So of the coming of peace on earth we may say the\\nsame: it will be the fruit of the entrance of peace into individual\\nhearts and lives.\\n\\nA world at war is the necessary result of human restlessness and\\nenmities. \"From whence come wars and fightings among you? Come they not\\nhence, even of your lusts, that war in your members?\" Envy, malice,\\ngreed, hatred, deceit,--these are the begetters of strife on earth.\\n\\nA world at peace can come only from the cooperation of peaceful human\\nspirits. Therefore we must commence to learn what peace is, by seeking\\nit in our souls through faith.\\n\\nChrist promised peace to His disciples at the Communion in that little\\nupper room in Jerusalem, nineteen hundred years ago. Evidently it was\\nnot an outward but an inward peace. He told them that they would have a\\nlot of trouble in the world. But He assured them that this could not\\novercome them if they believed in Him and in His Father God. He warned\\nthem of conflict, and assured them of inward peace.\\n\\nWhat are the elements of this wondrous gift which Christ gave to His\\ndisciples, and which He offers to us?\\n\\nI. First, the peace of Christ is the peace of being divinely loved.\\nNothing rests and satisfies the heart like the sense of being loved. Let\\nus take as an illustration the case of a little child, which has grown\\ntired and fretful at its play, and is frightened suddenly by some\\nchildish terror. Weeping, it runs to its mother. She takes the child in\\nher arms, folds it to her breast, bends over it, and soothes it with\\nfond words which mean only this: \"I love you.\" Very soon the child sinks\\nto rest, contented and happy, in the sense of being loved. \"Herein is\\nlove, not that we loved God, but that he loved us, and sent his Son to\\nbe the propitiation for our sins.\" In Jesus Christ God is stretching out\\nHis arms to us, drawing us to His bosom, enfolding us in the secret of\\npeace. If we believe in Jesus Christ as the Son of God, He makes us sure\\nof a Divine affection, deep, infinite, inexhaustible, imperishable. \"For\\nGod so loved the world, that he gave his only begotten Son, that\\nwhosoever believeth in him should not perish, but have everlasting\\nlife.\" God, who \"spared not his dearly-beloved Son, but delivered him up\\nfor us all, how shall he not with him also freely give us all things?\"\\n\"Nothing shall be able to separate us from the love of God, which is in\\nChrist Jesus our Lord.\"\\n\\nII. The Christian peace is the peace of being divinely controlled. The\\nman who accepts Jesus Christ truly, accepts Him as Master and Lord. He\\nbelieves that Christ has a purpose for him, which will surely be\\nfulfilled? work for him, which will surely be blessed if he only tries\\nto do it. Most of the discords of life come from a conflict of\\nauthorities, of plans, of purposes. Suppose that a building were going\\nup, and the architect had one design for it, and the builder had\\nanother. What perplexity and confusion there would be! How ill things\\nwould fit! What perpetual quarrels and blunders and disappointments! But\\nwhen the workman accepts the designer\\'s plan and simply does his best to\\ncarry that out, harmony, joyful labour, and triumph are the result. If\\nwe accept God\\'s plan for us, yield to Him as the daily controller and\\ndirector of our life, our work, however hard, becomes peaceful and\\nsecure. No perils can frighten, no interruptions can dishearten us.\\n\\nNot many years ago some workmen were digging a tunnel, when a sudden\\nfall of earth blocked the mouth of the opening. Their companions on the\\noutside found out what had happened, and started to dig through the mass\\nof earth to the rescue. It was several hours before they made their way\\nthrough. When they went in they found the workmen going on with their\\nlabour on the tunnel. \"We knew,\" said one of them, \"that you\\'d come to\\nhelp us, and we thought the best way to make time pass quick was to keep\\non with the work.\" That is what a Christian may say to Christ amid the\\ndangers and disasters of life. We know that He will never forsake us,\\nand the best way to be at peace is to be about His business. He says to\\nus: \"As the Father sent me, even so send I you.\"\\n\\nIII. The Christian peace is the peace of being divinely forgiven.\\n\\n\"In every man,\" said a philosopher, \"there is something which, if we\\nknew it, would make us despise him.\" Let us turn the saying, and change\\nit from a bitter cynicism into a wholesome truth.\\n\\nIn every one of us there is something which, if we realize it, makes us\\ncondemn ourselves as sinners, and hunger and thirst after righteousness,\\nand long for forgiveness.\\n\\nIt is this deep consciousness of sin, of evil in our hearts and lives,\\nthat makes us restless and unhappy. The plasters and soothing lotions\\nwith which the easy-going philosophy of modern times covers it up, do\\nnot heal it; they only hide it. There is no cure for it, there is no\\nrest for the sinful soul, except the divine forgiveness. There is no\\nsure pledge of this except in the holy sacrifice and blessed promise of\\nChrist, \"Son, daughter, thy sins are forgiven thee, go in peace.\"\\n\\nUnderstand, I do not mean that what we need and want is to have our sins\\nignored and overlooked. On the contrary, that is just what would fail to\\nbring us true rest. For if God took no account of sins, required no\\nrepentance and reparation, He would not be holy, just, and faithful, a\\nGod whom we can adore and love and trust.\\n\\nNor do I mean that what we need is merely to have the punishment of sins\\nremitted. That would not satisfy the heart. Is the child contented when\\nthe father says, \"Well, I will not punish you. Go away\"? No, what the\\nchild wants is to hear the father say, \"I forgive you. Come to me.\" It\\nis to be welcomed back to the father\\'s home, to the father\\'s heart, that\\nthe child longs.\\n\\nPeace means not to have the offense ignored, but to have it pardoned:\\nnot to the punishment omitted, but to have separation from God ended and\\ndone with. That is the peace of being divinely forgiven,--a peace which\\nrecognizes sin, and triumphs over it,--a peace which not merely saves us\\nfrom death but welcomes us home to the divine love from which we have\\nwandered.\\n\\nThat is the peace which Christ offers to each one of us in His Gospel.\\nWe need it in this modern world as much as men and women ever needed it\\nin the old world. No New Era will ever change its meaning or do away\\nwith its necessity. Indeed, it seems to me that we need this\\nold-fashioned religion to-day more than ever.\\n\\nWe need it for our own comfort and strength. We need it to deliver us\\nfrom the vanity and hollowness, the fever and hysteria of the present\\nage. We need it to make us better soldiers and workers for every good\\ncause. Peace is coming to all the earth some day through Christ. And\\nthose who shall do most to help Him bring it are the men and women to\\nwhom He gives Peace in the Soul.\\n\\n\\n\\n\\nII\\n\\nPeace on Earth Through Righteousness\\n\\n_And the work of righteousness shall be peace: and the effect of\\nrighteousness quietness and confidence forever._\\n\\n--ISAIAH 32:17.\\n\\n\\nAfter we have found peace in our own souls through faith\\nin God and in His Son, Jesus Christ our Saviour, if our faith is honest,\\nwe must feel the desire and the duty of helping to make peace prevail on\\nearth.\\n\\nBut here we are, in a world of confusion and conflict. Darkness and\\nignorance strive against light. Evil hates and assaults good. Wrong\\ntakes up arms against right. Greed and pride and passion call on\\nviolence to defeat justice and enthrone blind force. So has it been\\nsince Cain killed Abel, since Christ was crucified on Calvary, and so it\\nis to-day wherever men uphold the false doctrine that \"might makes\\nright.\"\\n\\nThe Bible teaches us that there is no foundation for enduring peace on\\nearth except in righteousness: that it is our duty to suffer for that\\ncause if need be: that we are bound to fight for it if we have the\\npower: and that if God gives us the victory we must use it for the\\nperpetuation of righteous peace.\\n\\nIn these words I sum up what seems to me the Christian doctrine of war\\nand peace,--the truth that in time of war we must stand for the right,\\nand that when peace comes in sight, we must do our best to found it upon\\njustice. These two truths cannot be separated. If we forget the meaning\\nof the Christian duty to which God called us in the late war, all our\\nsacrifice of blood and treasure will have been in vain. If we forget the\\nwatchword which called our boys to the colours, our victory will be\\nfruitless. We have fought in this twentieth century against the pagan\\nGerman doctrine of war as the supreme arbiter between the tribes of\\nmankind. They that took the sword must perish by the sword. But in the\\nhour of victory we must uphold the end for which we have fought and\\nsuffered,--the advance of the world towards a peaceful life founded on\\nreason and justice and fair-play for every man.\\n\\nSo there are two heads to this sermon. First, the indelible remembrance\\nof a righteous acceptance of war. Second, the reasonable hope of a\\nrighteous foundation of peace.\\n\\nI. First of all, then, it must never be forgotten that the Allies and\\nAmerica were forced to enter this war as a work of righteousness in\\norder to make the world safe for peace.\\n\\nPeace means something more than the mere absence of hostilities. It\\nmeans justice, honour, fair-play, order, security, and the\\nwell-protected right of every man and nation to life, liberty, and the\\npursuit of happiness. It was the German contempt for these Christian\\nideals, it was the German idolatry of the pagan Odin, naked, cruel,\\nbloody, god of war, it was the German will to power and dream of\\nworld-dominion, that made the world unsafe for real peace in 1914.\\n\\nNever could that safety be secured until that enemy of mankind was\\novercome. Not only for democracy, but also for human peace, it was\\nnecessary, as President Wilson said, that \"the German power, a thing\\nwithout honour, conscience, or capacity for covenanted faith, must be\\ncrushed.\"\\n\\nI saw, from my post of observation in Holland, the hosts of heathen\\nGermany massing for their attack on the world\\'s peace in the spring of\\n1914. Long before the pretext of war was provided by the murder of the\\nAustrian Crown-Prince in Serajevo, I saw the troops, the artillery, the\\nmountains of ammunition, assembled at Aix-la-Chapelle and Trier, ready\\nfor the invasion of neutral Belgium and Luxembourg, and the foul stroke\\nat France.\\n\\nEvery civilized nation in Europe desired peace and pleaded for it.\\nLittle Servia offered to go before the Court of Arbitration at The Hague\\nand be tried for the offense of which she was accused. Russia, Italy,\\nFrance and England entreated Germany not to make war, but to submit the\\ndispute to judicial settlement, to a righteous decision by a conference\\nof powers. But Germany said no. She had prepared for war, she wanted\\nwar, she got war. And now she must abide by the result of her choice.\\n\\nI have seen also with my own eyes the horrors wrought by Germany in her\\nconduct of the war in Belgium and Northern France. Words fail me to\\ndescribe them. Childhood has been crucified, womanhood outraged,\\ncivilization trampled in the dust. The nations and the men who took\\narms against these deviltries were the servants of the righteous God and\\nthe followers of the merciful Christ.\\n\\nHe told us, \"If any man smite thee on the right cheek, turn unto him the\\nleft also.\" But never did He tell us to abandon the bodies and the lives\\nof our women and children to the outrage of beasts in human form. On the\\ncontrary, He said to His disciples, in His parting discourse, \"He that\\nhath no sword let him sell his garment and buy one.\"\\n\\nDoes any silly pacifist say that means a spiritual sword? No. You could\\nget that without selling your garment. It means a real sword,--as real\\nas the purse and the scrip which Christ told His followers to carry with\\nthem. It means the power of arms dedicated to the service of\\nrighteousness without which the world can never be safe for peace.\\n\\nHere, then, we may stand on the Word of God, on the work of\\nrighteousness in making the world safe for peace. Let me tell you of my\\nfaith that every one who has given his life for that cause, has entered\\ninto eternal rest.\\n\\nII. Come we now to consider the second part of the text: \"the effect of\\nrighteousness, quietness and confidence forever.\"\\n\\nWhat shall be the nature of the peace to be concluded after our victory\\nin this righteous war?\\n\\nHere we have to oppose the demands of the bloodthirsty civilians. They\\nask that German towns should endure the same sufferings which have been\\ninflicted on the towns of Belgium and Northern France. Let me say\\nfrankly that I do not believe you could persuade our officers to order\\nsuch atrocities, or our soldiers to obey such orders. Read the order\\nwhich one of the noble warriors of France, General Pétain, issued to his\\nmen:\\n\\n     \"To-morrow, in order to better dictate peace, you are going to\\n     carry your arms as far as the Rhine. Into that land of\\n     Alsace-Lorraine that is so dear to us, you will march as\\n     liberators. You will go further; all the way into Germany to occupy\\n     lands which are the necessary guarantees for just reparation.\\n\\n     \"France has suffered in her ravaged fields and in her ruined\\n     villages. The freed provinces have had to submit to intolerable\\n     vexations and odious outrages, but you are not to answer these\\n     crimes by the commission of violences, which, under the spur of\\n     your resentment, may seem to you legitimate.\\n\\n     \"You are to remain under discipline and to show respect to persons\\n     and property. You will know, after having vanquished your adversary\\n     by force of arms, how to impress him further by the dignity of your\\n     attitude, and the world will not know which to admire most, your\\n     conduct in success or your heroism in fighting.\"\\n\\nThe destruction of the commonplace Cathedral of Cologne could never\\nrecompense the damage done to the glorious Cathedral of Rheims. Nor\\ncould the slaughter of a million German women and children restore the\\ninnocent victims of Belgium, France, Servia, and Armenia to life. We do\\nnot thirst for blood. We desire justice.\\n\\nNo doubt the ends of justice demand that the principal brigands who are\\nresponsible for the atrocities of this war should be tried before an\\ninternational court If convicted they should be duly punished. But not\\nby mob-law or violence. Nothing could be less desirable than the\\nassassination of William Hohenzollern. It would be absurd and horrible\\nto give a martyr\\'s crown to a criminal. Vengeance belongeth unto God. He\\nalone is wise and great enough to deal adequately with the case. It is\\nfor us to keep our righteous indignation free from the poison of\\npersonal hatred, and to do no more than is needed to uphold and\\nvindicate the eternal law.\\n\\nWilliam Hohenzollern, and his fellow-conspirators who are responsible\\nfor the beginning and the conduct of the dreadful war from which all\\nthe toiling peoples of earth have suffered, must be brought to the bar\\nof justice and sentenced; otherwise the world will have no defense\\nagainst the anarchists who say that government is a vain thing; and the\\nbloody Bolshevists who proclaim the Empire of the Ignorant,--the\\nBoob-Rah,--as the future rule of the world, will have free scope.\\n\\nIt is evident that a league of free, democratic states, pledged by\\nmutual covenant to uphold the settlement of international differences by\\nreason and justice before the use of violence, offers the only hope of a\\ndurable peace among the nations. It is also the only defense against\\nthat deadly and destructive war of classes with which Bolshevism\\nthreatens the whole world. The spirit of Bolshevism is atheism and\\nenmity; its method is violence and tyranny; its result would be a reign\\nof terror under that empty-headed monster, \"the dictatorship of the\\nproletariat.\" God save us from that! It would be the worst possible\\noutcome of the war in which we have offered and sacrificed so much, and\\nin which God has given us the opportunity to make \"a covenant of peace.\"\\n\\nHow vast, how immeasurable, are the responsibilities which this great\\nvictory in righteous war has laid upon the Allies and America. God help\\nus to live up to them. God help us to sow the future not with dragon\\'s\\nteeth, but with seeds of blessed harvest. God paint upon the broken\\nstorm-cloud the rainbow of eternal hope. God help us and our friends to\\nmake a peace that shall mean good to all mankind. God send upon our\\nvictory the light of the cross of Christ our Saviour, where mercy and\\ntruth meet together, righteousness and peace kiss each other.\\n\\n\\n\\n\\nIII\\n\\nThe Power of an Endless Life\\n\\n_Who is made, not after the law of a carnal commandment, but after the\\npower of an endless life._\\n\\n--Hebrews 7:16.\\n\\n\\nThe message and hope of immortality are nowhere more\\ndistinctly conveyed to our minds than in connection with that\\nresurrection morn when Jesus appeared to Mary Magdalene. The anniversary\\nof that day will ever be the festival of the human soul. Even those who\\ndo not clearly understand or fully accept its meaning in history and\\nreligion,--even children and ignorant folk and doubters and\\nunbelievers,--yes, even frivolous people and sullen people, feel that\\nthere is something in this festival which meets the need and longing of\\ntheir hearts. It is a day of joy and gladness, a day of liberation and\\npromise, a day for flowers to bloom and birds to sing, a day of\\nspiritual spring-tide and immortal hope.\\n\\nMankind desires and needs such a day. We are overshadowed in all our\\naffections and aspirations, all our efforts, and designs, by the dark\\nmystery of bodily death; the uncertainty and the brevity of earthly\\nexistence make us tremble and despair; the futility of our plans dismays\\nus; the insecurity of our dearest treasure in lives linked to ours fills\\nus with dismay.\\n\\nIs there no escape from Death, the Tyrant, the autocrat, the destroyer,\\nthe last enemy? Why love, why look upward, why strive for better things\\nif this imperator of failure, ultimate extinction, rules the universe?\\nNo hope beyond the grave means no peace this side of it. A life without\\nhope is a life without God. If Death ends all, then there is no Father\\nin Heaven in whom we can trust. Who shall deliver us from the body of\\nthis Death?\\n\\nNow comes Easter with its immortal promise and assurance, Jesus of\\nNazareth, who died on Calvary, a martyr of humanity, a sacrifice of\\nDivinity, is alive and appears to His humble followers. The manner of\\nHis appearance, to Mary Magdalene, to His disciples, is not the most\\nimportant thing. The fact is that He did appear. He who was crucified in\\nthe cause of righteousness and mercy, lives on and forever. The message\\nof His resurrection is \"the power of an endless life.\"\\n\\nThe proof of this message is in the effect that it produced. It\\ntransformed the handful of Jesus\\' followers from despair to confidence.\\nIt gave Christianity its growing influence over the heart of humanity.\\nIt is this message of immortality that makes religion vital to the human\\nworld to-day, and essential to the foundation of peace on earth.\\n\\nWe must not forget in our personal griefs and longings, in our sorrows\\nfor those whom we have lost and our desire to find them again, in our\\nsense of our own mortal frailty and the brief duration of earthly life,\\nthe celestial impulse which demands a life triumphant over death.\\n\\nThe strongest of all supports for peace on earth is the faith in\\nimmortality. The truth is, the very character of our being here in this\\nworld demands continuance beyond death. There is nothing good or great\\nthat we think or feel or endeavour, that is not a reaching out to\\nsomething better. Our finest knowledge is but the consciousness of\\nlimitation and the longing that it may be removed. Our best moral effort\\nis but a slow advance towards something better. Our sense of the\\ndifference between good and evil, our penitence, our aspiration, all\\nthis moral freight with which our souls are laden, is a cargo consigned\\nto an unseen country. Our bill of lading reads, \"To the immortal life.\"\\nIf we must sink in mid-ocean, then all is lost, and the voyage of life\\nis a predestined wreck.\\n\\nThe wisest, the strongest, the best of mankind, have felt this most\\ndeeply. The faith in immortality belongs to the childhood of the race,\\nand the greatest of the sages have always returned to it and taken\\nrefuge in it. Socrates and Plato, Cicero and Plutarch, Montesquieu and\\nFranklin, Kant and Emerson, Tennyson and Browning,--how do they all bear\\nwitness to the incompleteness of life and reach out to a completion\\nbeyond the grave.\\n\\n    \"No great Thinker ever lived and taught you\\n    All the wonder that his soul received;\\n    No great Painter ever set on canvas\\n    All the glorious vision he conceived.\\n\\n    \"No Musician ever held your spirit\\n    Charmed and bound in his melodious chains;\\n    But, be sure, he heard, and strove to render,\\n    Feeble echoes of celestial strains.\\n\\n    \"No real Poet ever wove in numbers\\n    All his dream, but the diviner part,\\n    Hidden from all the world, spake to him only\\n    In the voiceless silence of his heart.\\n\\n    \"So with Love: for Love and Art united\\n    Are twin mysteries: different yet the same;\\n    Poor indeed would be the love of any\\n    Who could find its full and perfect name.\\n\\n    \"Love may strive; but vain is its endeavour\\n    All its boundless riches to unfold;\\n    Still its tenderest, truest secret lingers\\n    Ever in its deepest depths untold.\\n\\n    \"Things of Time have voices: speak and perish.\\n    Art and Love speak; but their words must be\\n    Like sighings of illimitable forests\\n    And waves of an unfathomable sea.\"\\n\\nAnd can it be that death shall put the final seal of irretrievable ruin\\non all this uncompleted effort? Can it be that the grave shall whelm all\\nthis unuttered love in endless silence? Ah, what a wild waste of\\nprecious treasure, what a mad destruction of fair designs, what an\\nutter failure, life would be if death must end all!\\n\\nThe very reasonableness of our nature, our sense of order, declare the\\nimpotence of Death to create such a wreck. And most of all our deep\\naffections cry out against the conclusion of despair. They will not hear\\nof dissolution. They reach out their hands into the darkness. They\\ndemand and they promise an unending fellowship, a deepening communion, a\\nmore perfect satisfaction. Do you remember what Thackeray wrote? \"If\\nlove lives through all life, and survives through all sorrow; and\\nremains steadfast with us through all changes; and in all darkness of\\nspirit burns brightly; and if we die, deplores us forever, and still\\nloves us equally; and exists with the very last gasp and throb of the\\nfaithful bosom, whence it passes with the pure soul beyond death, surely\\nit shall be immortal. Though we who remain are separated from it, is it\\nnot ours in heaven? If we love still those whom we lose, can we\\naltogether lose those whom we love?\"\\n\\nTo deny this instinct is to deny that which lies at the very root of our\\nlife. If love perishes with death, then our affections are our worst\\ncurses, the world is the cruellest torture-house, and \"all things work\\ntogether for evil to those who love.\" Do you believe it? Is it possible?\\nNay, all that is best and noblest and purest within us rejects such a\\nfaith in Absolute Evil as the power that has created and rules the\\nworld. In the presence of love we feel that we behold that which must\\nbelong to a good God and therefore cannot die. Destruction cannot touch\\nit. The grave cannot hold it. Loving and being loved, we dare to stand\\nin the very doorway of the tomb, and assert the power of an endless\\nlife.\\n\\nAnd it seems to me that this courage never comes to us so fully as when\\nwe are brought in closest contact with death, when we are brought face\\nto face with that dread shadow and forced either to deny its power, once\\nand forever, or to give up everything and die with our hopes. I wish\\nthat I could make this clear to you as it lies in my own experience.\\nPerhaps in trying to do it I should speak closer to your own heart than\\nin any other way. For surely\\n\\n    \"There is no flock, however watched and tended\\n      But one dead lamb is there.\\n    There is no fireside, howsoe\\'er defended\\n      But has a vacant chair.\"\\n\\nA flower grew in your garden. You delighted in its beauty and fragrance.\\nIt gave you all it had to give, but it did not love you. It could not.\\nWhen the time came for it to die, you were sorry. But it did not seem to\\nyou strange or unnatural. There was no waste. Its mission was fulfilled.\\nYou understood why its petals should fall, its leaf wither, its root\\nand branch decay. And even if a storm came and snapped it, still there\\nwas nothing lost that was indispensable, nothing that could not be\\nrestored.\\n\\nA child grew in your household, dearly loved and answering your love.\\nYou saw that soul unfold, learning to know the evil from the good,\\nlearning to accept duty and to resist selfishness, learning to be brave\\nand true and kind, learning to give you day by day a deeper and a richer\\nsympathy, learning to love God and to pray and to be good. And then\\nperhaps you saw that young heart being perfected under the higher and\\nholier discipline of suffering, bearing pain patiently, facing trouble\\nand danger like a hero, not shrinking even from the presence of death,\\nbut trusting all to your love and to God\\'s, and taking just what came\\nfrom day to day, from hour to hour. And then suddenly the light went out\\nin the shining eyes. The brave heart stopped. The soul was gone. Lost,\\nperished, blotted out forever in the darkness of death? Ah, no; you know\\nbetter than that. That clear, dawning intelligence, that deepening love,\\nthat childlike faith in God, that pure innocence of soul, did not come\\nfrom the dust. How could they return thither? The music ceases because\\nthe instrument is broken. But the player is not dead. He is learning a\\nbetter music. He is finding a more perfect instrument. It is impossible\\nthat he should be holden of death. God wastes nothing so precious.\\n\\n             \"What is excellent\\n    As God lives is permanent.\\n    Hearts are dust; hearts\\' loves remain.\\n    Hearts\\' love will meet thee again.\"\\n\\nBut I am sure that we must go further than this in order to understand\\nthe full strength and comfort of the text. The assertion of the\\nimpotence of death to end all is based upon something deeper than the\\nprophecy of immortality in the human heart. It has a stronger foundation\\nthan the outreachings of human knowledge and moral effort towards a\\nhigher state in which completion may be attained. It has a more secure\\nground to rest upon than the deathless affection with which our love\\nclings to its object The impotence of death is revealed to us in the\\nspiritual perfection of Christ.\\n\\nHere then, in the \"power of an endless life,\" I find the corner-stone of\\npeace on earth among men of good-will Take this mortal life as a thing\\nof seventy years, more or less, to which death puts a final period, and\\nyou have nothing but confusion, chance and futility,--nothing safe,\\nnothing realized, nothing completed. Evil often triumphs. Virtue often\\nis defeated.\\n\\n                       \"The good die young,\\n    And we whose hearts are dry as summer dust\\n    Burn to the socket.\"\\n\\nBut take death, as Christ teaches us, not as a full stop, but as only a\\ncomma in the story of an endless life, and then the whole aspect of our\\nexistence is changed. That which is material, base, evil, drops down.\\nThat which is spiritual, noble, good, rises to lead us on.\\n\\nThe conviction of immortality, the forward-looking faith in a life\\nbeyond the grave, the spirit of Easter, is essential to peace on earth\\nfor three reasons.\\n\\nI. It is the only faith that lifts man\\'s soul, which is immortal, above\\nhis body, which is perishable. It raises him out of the tyranny of the\\nflesh to the service of his ideals. It makes him sure that there are\\nthings worth fighting and dying for. The fighting and the dying, for the\\ncause of justice and liberty, are sacrifices on the Divine altar which\\nshall never be forgotten.\\n\\nII. The faith in immortality carries with it the assurance of a Divine\\nreassessment of earth\\'s inequalities. Those who have suffered unjustly\\nhere will be recompensed in the future. Those who have acted wickedly\\nand unjustly here will be punished. Whether that punishment will be\\nfinal or remedial we do not know. Perhaps it may lead to the extinction\\nof the soul of evil, perhaps to its purifying and deliverance. On these\\nquestions I fall back on the word of God: \"The wages of sin is death,\\nbut the gift of God is eternal life in Christ Jesus our Lord.\"\\n\\nIII. The faith in immortality brings with it the sense of order,\\ntranquillity, steadiness and courage in the present life. It sets us\\nfree from mean and cowardly temptations, makes it easier to resist the\\nwild animal passions of lust and greed and cruelty, brings us into\\neternal relations and fellowships, makes us partners with the wise and\\ngood of all the ages, ennobles our earthly patriotism by giving us a\\nheavenly citizenship. Yea, it knits us in bonds of love with the coming\\ngeneration. It is better than the fountain of youth. We shall know and\\nsee them as they go on their way, long after we have left the path. The\\nfaith in immortality sets a touch of the imperishable on every generous\\nimpulse and unselfish deed. It inspires to sublime and heroic\\nvirtues,--spiritual splendours,--deeds of sacrifice and suffering for\\nwhich earth has no adequate recompense, but whose reward is great in\\nheaven. Here is the patience of the saints, the glorious courage of\\npatriots, martyrs, and confessors, something more bright and shining\\nthan secular morality can bring forth,--a flashing of the inward light\\nwhich fails not, but grows clearer as death draws near. What noble\\nevidences of this come to us out of the great war.\\n\\n\"Are you in great distress?\" asked a nurse of an American soldier whose\\nlegs had been shot away on the battle-field. \"I am in as great peace,\"\\nsaid he, \"through Jesus my Lord, as a man can possibly be, out of\\nParadise.\"\\n\\nA secretary of the Y.M.C.A., the night before he was killed, wrote to\\nhis father: \"I have not been sent here to die: I am to fight: I offer my\\nlife for future generations; I shall not die, I shall merely change my\\ndirection. He who walks before us is so great that we cannot lose Him\\nfrom sight.\"\\n\\nA simple French boy, grievously wounded, is dying in the ambulance. He\\nis a Protestant The nurse who bends over him is a Catholic sister. She\\nwrites down his words as they fall slowly from his lips: \"O my God, let\\nThy will be done and not mine. O my God, Thou knowest that I never\\nwished war, but that I have fought because it was Thy will; I offered my\\nlife so that peace might prevail. O my God, I pray for all my dear\\nones, ... father, mother, brothers, sisters. Give a hundredfold to\\nthose nurses for all they have done for me. I pray for them one and\\nall.\"\\n\\nHere, in the midst of carnage and confusion, horror and death, was\\nperfect peace, the triumph of immortality.\\n\\nWhat then shall we say of the new teachers and masters, the cynical\\nlords of materialism and misrule, who tell us that they are going to\\nbanish this outworn superstition and all others like it from the mind of\\nman? They are going to make a new world in which men shall walk by\\nsight, and not by faith; a world in which universal happiness shall be\\nproduced by the forcible division of material goods, and brotherhood\\npromoted by the simple expedient of killing those whom they dislike; a\\nworld in which there shall be neither nation, God, nor Church, nor\\nanywhere a thought of any life but this which ends in the grave. It is a\\nmad dream of wild and reckless men. But it threatens evil to all the\\nworld. Do you remember what happened when the French Revolution took\\nthat course, abolished the Sabbath, defiled the Churches, broke down the\\naltars, and enthroned a harlot as the Goddess of Reason? The Reign of\\nTerror followed. Something like that has happened, recently, in many\\nparts of Europe. And if these new tyrants of ignorance, unbelief, and\\nunmorality have their way, the madness and the darkness will spread\\nuntil the black cloud charged with death covers the face of the earth\\nfor a season with shame and anguish and destruction. A sane world, an\\norderly world, a peaceful world, can never be founded on materialism.\\nThat foundation is a quicksand in which all that is dearest to man goes\\ndown in death.\\n\\nReligion is essential to true peace in the soul and to peace on earth\\nthrough righteousness. Immortality is essential to true religion.\\nThanks be to God who hath given us Jesus Christ, who was dead and is\\nalive again and liveth forevermore, to touch and ennoble, to inspire and\\nconsole, to pacify and uplift our earthly existence with the power of an\\nendless life.\\n\\n\\n\\n***END OF THE PROJECT GUTENBERG EBOOK WHAT PEACE MEANS***\\n\\n\\n******* This file should be named 15266-8.txt or 15266-8.zip *******\\n\\n\\nThis and all associated files of various formats will be found in:\\nhttp://www.gutenberg.org/dirs/1/5/2/6/15266\\n\\n\\n\\nUpdated editions will replace the previous one--the old editions\\nwill be renamed.\\n\\nCreating the works from public domain print editions means that no\\none owns a United States copyright in these works, so the Foundation\\n(and you!) can copy and distribute it in the United States without\\npermission and without paying copyright royalties.  Special rules,\\nset forth in the General Terms of Use part of this license, apply to\\ncopying and distributing Project Gutenberg-tm electronic works to\\nprotect the PROJECT GUTENBERG-tm concept and trademark.  Project\\nGutenberg is a registered trademark, and may not be used if you\\ncharge for the eBooks, unless you receive specific permission.  If you\\ndo not charge anything for copies of this eBook, complying with the\\nrules is very easy.  You may use this eBook for nearly any purpose\\nsuch as creation of derivative works, reports, performances and\\nresearch.  They may be modified and printed and given away--you may do\\npractically ANYTHING with public domain eBooks.  Redistribution is\\nsubject to the trademark license, especially commercial\\nredistribution.\\n\\n\\n\\n*** START: FULL LICENSE ***\\n\\nTHE FULL PROJECT GUTENBERG LICENSE\\nPLEASE READ THIS BEFORE YOU DISTRIBUTE OR USE THIS WORK\\n\\nTo protect the Project Gutenberg-tm mission of promoting the free\\ndistribution of electronic works, by using or distributing this work\\n(or any other work associated in any way with the phrase \"Project\\nGutenberg\"), you agree to comply with all the terms of the Full Project\\nGutenberg-tm License (available with this file or online at\\nhttp://gutenberg.net/license).\\n\\n\\nSection 1.  General Terms of Use and Redistributing Project Gutenberg-tm\\nelectronic works\\n\\n1.A.  By reading or using any part of this Project Gutenberg-tm\\nelectronic work, you indicate that you have read, understand, agree to\\nand accept all the terms of this license and intellectual property\\n(trademark/copyright) agreement.  If you do not agree to abide by all\\nthe terms of this agreement, you must cease using and return or destroy\\nall copies of Project Gutenberg-tm electronic works in your possession.\\nIf you paid a fee for obtaining a copy of or access to a Project\\nGutenberg-tm electronic work and you do not agree to be bound by the\\nterms of this agreement, you may obtain a refund from the person or\\nentity to whom you paid the fee as set forth in paragraph 1.E.8.\\n\\n1.B.  \"Project Gutenberg\" is a registered trademark.  It may only be\\nused on or associated in any way with an electronic work by people who\\nagree to be bound by the terms of this agreement.  There are a few\\nthings that you can do with most Project Gutenberg-tm electronic works\\neven without complying with the full terms of this agreement.  See\\nparagraph 1.C below.  There are a lot of things you can do with Project\\nGutenberg-tm electronic works if you follow the terms of this agreement\\nand help preserve free future access to Project Gutenberg-tm electronic\\nworks.  See paragraph 1.E below.\\n\\n1.C.  The Project Gutenberg Literary Archive Foundation (\"the Foundation\"\\nor PGLAF), owns a compilation copyright in the collection of Project\\nGutenberg-tm electronic works.  Nearly all the individual works in the\\ncollection are in the public domain in the United States.  If an\\nindividual work is in the public domain in the United States and you are\\nlocated in the United States, we do not claim a right to prevent you from\\ncopying, distributing, performing, displaying or creating derivative\\nworks based on the work as long as all references to Project Gutenberg\\nare removed.  Of course, we hope that you will support the Project\\nGutenberg-tm mission of promoting free access to electronic works by\\nfreely sharing Project Gutenberg-tm works in compliance with the terms of\\nthis agreement for keeping the Project Gutenberg-tm name associated with\\nthe work.  You can easily comply with the terms of this agreement by\\nkeeping this work in the same format with its attached full Project\\nGutenberg-tm License when you share it without charge with others.\\n\\n1.D.  The copyright laws of the place where you are located also govern\\nwhat you can do with this work.  Copyright laws in most countries are in\\na constant state of change.  If you are outside the United States, check\\nthe laws of your country in addition to the terms of this agreement\\nbefore downloading, copying, displaying, performing, distributing or\\ncreating derivative works based on this work or any other Project\\nGutenberg-tm work.  The Foundation makes no representations concerning\\nthe copyright status of any work in any country outside the United\\nStates.\\n\\n1.E.  Unless you have removed all references to Project Gutenberg:\\n\\n1.E.1.  The following sentence, with active links to, or other immediate\\naccess to, the full Project Gutenberg-tm License must appear prominently\\nwhenever any copy of a Project Gutenberg-tm work (any work on which the\\nphrase \"Project Gutenberg\" appears, or with which the phrase \"Project\\nGutenberg\" is associated) is accessed, displayed, performed, viewed,\\ncopied or distributed:\\n\\nThis eBook is for the use of anyone anywhere at no cost and with\\nalmost no restrictions whatsoever.  You may copy it, give it away or\\nre-use it under the terms of the Project Gutenberg License included\\nwith this eBook or online at www.gutenberg.net\\n\\n1.E.2.  If an individual Project Gutenberg-tm electronic work is derived\\nfrom the public domain (does not contain a notice indicating that it is\\nposted with permission of the copyright holder), the work can be copied\\nand distributed to anyone in the United States without paying any fees\\nor charges.  If you are redistributing or providing access to a work\\nwith the phrase \"Project Gutenberg\" associated with or appearing on the\\nwork, you must comply either with the requirements of paragraphs 1.E.1\\nthrough 1.E.7 or obtain permission for the use of the work and the\\nProject Gutenberg-tm trademark as set forth in paragraphs 1.E.8 or\\n1.E.9.\\n\\n1.E.3.  If an individual Project Gutenberg-tm electronic work is posted\\nwith the permission of the copyright holder, your use and distribution\\nmust comply with both paragraphs 1.E.1 through 1.E.7 and any additional\\nterms imposed by the copyright holder.  Additional terms will be linked\\nto the Project Gutenberg-tm License for all works posted with the\\npermission of the copyright holder found at the beginning of this work.\\n\\n1.E.4.  Do not unlink or detach or remove the full Project Gutenberg-tm\\nLicense terms from this work, or any files containing a part of this\\nwork or any other work associated with Project Gutenberg-tm.\\n\\n1.E.5.  Do not copy, display, perform, distribute or redistribute this\\nelectronic work, or any part of this electronic work, without\\nprominently displaying the sentence set forth in paragraph 1.E.1 with\\nactive links or immediate access to the full terms of the Project\\nGutenberg-tm License.\\n\\n1.E.6.  You may convert to and distribute this work in any binary,\\ncompressed, marked up, nonproprietary or proprietary form, including any\\nword processing or hypertext form.  However, if you provide access to or\\ndistribute copies of a Project Gutenberg-tm work in a format other than\\n\"Plain Vanilla ASCII\" or other format used in the official version\\nposted on the official Project Gutenberg-tm web site (www.gutenberg.net),\\nyou must, at no additional cost, fee or expense to the user, provide a\\ncopy, a means of exporting a copy, or a means of obtaining a copy upon\\nrequest, of the work in its original \"Plain Vanilla ASCII\" or other\\nform.  Any alternate format must include the full Project Gutenberg-tm\\nLicense as specified in paragraph 1.E.1.\\n\\n1.E.7.  Do not charge a fee for access to, viewing, displaying,\\nperforming, copying or distributing any Project Gutenberg-tm works\\nunless you comply with paragraph 1.E.8 or 1.E.9.\\n\\n1.E.8.  You may charge a reasonable fee for copies of or providing\\naccess to or distributing Project Gutenberg-tm electronic works provided\\nthat\\n\\n- You pay a royalty fee of 20% of the gross profits you derive from\\n     the use of Project Gutenberg-tm works calculated using the method\\n     you already use to calculate your applicable taxes.  The fee is\\n     owed to the owner of the Project Gutenberg-tm trademark, but he\\n     has agreed to donate royalties under this paragraph to the\\n     Project Gutenberg Literary Archive Foundation.  Royalty payments\\n     must be paid within 60 days following each date on which you\\n     prepare (or are legally required to prepare) your periodic tax\\n     returns.  Royalty payments should be clearly marked as such and\\n     sent to the Project Gutenberg Literary Archive Foundation at the\\n     address specified in Section 4, \"Information about donations to\\n     the Project Gutenberg Literary Archive Foundation.\"\\n\\n- You provide a full refund of any money paid by a user who notifies\\n     you in writing (or by e-mail) within 30 days of receipt that s/he\\n     does not agree to the terms of the full Project Gutenberg-tm\\n     License.  You must require such a user to return or\\n     destroy all copies of the works possessed in a physical medium\\n     and discontinue all use of and all access to other copies of\\n     Project Gutenberg-tm works.\\n\\n- You provide, in accordance with paragraph 1.F.3, a full refund of any\\n     money paid for a work or a replacement copy, if a defect in the\\n     electronic work is discovered and reported to you within 90 days\\n     of receipt of the work.\\n\\n- You comply with all other terms of this agreement for free\\n     distribution of Project Gutenberg-tm works.\\n\\n1.E.9.  If you wish to charge a fee or distribute a Project Gutenberg-tm\\nelectronic work or group of works on different terms than are set\\nforth in this agreement, you must obtain permission in writing from\\nboth the Project Gutenberg Literary Archive Foundation and Michael\\nHart, the owner of the Project Gutenberg-tm trademark.  Contact the\\nFoundation as set forth in Section 3 below.\\n\\n1.F.\\n\\n1.F.1.  Project Gutenberg volunteers and employees expend considerable\\neffort to identify, do copyright research on, transcribe and proofread\\npublic domain works in creating the Project Gutenberg-tm\\ncollection.  Despite these efforts, Project Gutenberg-tm electronic\\nworks, and the medium on which they may be stored, may contain\\n\"Defects,\" such as, but not limited to, incomplete, inaccurate or\\ncorrupt data, transcription errors, a copyright or other intellectual\\nproperty infringement, a defective or damaged disk or other medium, a\\ncomputer virus, or computer codes that damage or cannot be read by\\nyour equipment.\\n\\n1.F.2.  LIMITED WARRANTY, DISCLAIMER OF DAMAGES - Except for the \"Right\\nof Replacement or Refund\" described in paragraph 1.F.3, the Project\\nGutenberg Literary Archive Foundation, the owner of the Project\\nGutenberg-tm trademark, and any other party distributing a Project\\nGutenberg-tm electronic work under this agreement, disclaim all\\nliability to you for damages, costs and expenses, including legal\\nfees.  YOU AGREE THAT YOU HAVE NO REMEDIES FOR NEGLIGENCE, STRICT\\nLIABILITY, BREACH OF WARRANTY OR BREACH OF CONTRACT EXCEPT THOSE\\nPROVIDED IN PARAGRAPH F3.  YOU AGREE THAT THE FOUNDATION, THE\\nTRADEMARK OWNER, AND ANY DISTRIBUTOR UNDER THIS AGREEMENT WILL NOT BE\\nLIABLE TO YOU FOR ACTUAL, DIRECT, INDIRECT, CONSEQUENTIAL, PUNITIVE OR\\nINCIDENTAL DAMAGES EVEN IF YOU GIVE NOTICE OF THE POSSIBILITY OF SUCH\\nDAMAGE.\\n\\n1.F.3.  LIMITED RIGHT OF REPLACEMENT OR REFUND - If you discover a\\ndefect in this electronic work within 90 days of receiving it, you can\\nreceive a refund of the money (if any) you paid for it by sending a\\nwritten explanation to the person you received the work from.  If you\\nreceived the work on a physical medium, you must return the medium with\\nyour written explanation.  The person or entity that provided you with\\nthe defective work may elect to provide a replacement copy in lieu of a\\nrefund.  If you received the work electronically, the person or entity\\nproviding it to you may choose to give you a second opportunity to\\nreceive the work electronically in lieu of a refund.  If the second copy\\nis also defective, you may demand a refund in writing without further\\nopportunities to fix the problem.\\n\\n1.F.4.  Except for the limited right of replacement or refund set forth\\nin paragraph 1.F.3, this work is provided to you \\'AS-IS\\', WITH NO OTHER\\nWARRANTIES OF ANY KIND, EXPRESS OR IMPLIED, INCLUDING BUT NOT LIMITED TO\\nWARRANTIES OF MERCHANTIBILITY OR FITNESS FOR ANY PURPOSE.\\n\\n1.F.5.  Some states do not allow disclaimers of certain implied\\nwarranties or the exclusion or limitation of certain types of damages.\\nIf any disclaimer or limitation set forth in this agreement violates the\\nlaw of the state applicable to this agreement, the agreement shall be\\ninterpreted to make the maximum disclaimer or limitation permitted by\\nthe applicable state law.  The invalidity or unenforceability of any\\nprovision of this agreement shall not void the remaining provisions.\\n\\n1.F.6.  INDEMNITY - You agree to indemnify and hold the Foundation, the\\ntrademark owner, any agent or employee of the Foundation, anyone\\nproviding copies of Project Gutenberg-tm electronic works in accordance\\nwith this agreement, and any volunteers associated with the production,\\npromotion and distribution of Project Gutenberg-tm electronic works,\\nharmless from all liability, costs and expenses, including legal fees,\\nthat arise directly or indirectly from any of the following which you do\\nor cause to occur: (a) distribution of this or any Project Gutenberg-tm\\nwork, (b) alteration, modification, or additions or deletions to any\\nProject Gutenberg-tm work, and (c) any Defect you cause.\\n\\n\\nSection  2.  Information about the Mission of Project Gutenberg-tm\\n\\nProject Gutenberg-tm is synonymous with the free distribution of\\nelectronic works in formats readable by the widest variety of computers\\nincluding obsolete, old, middle-aged and new computers.  It exists\\nbecause of the efforts of hundreds of volunteers and donations from\\npeople in all walks of life.\\n\\nVolunteers and financial support to provide volunteers with the\\nassistance they need, is critical to reaching Project Gutenberg-tm\\'s\\ngoals and ensuring that the Project Gutenberg-tm collection will\\nremain freely available for generations to come.  In 2001, the Project\\nGutenberg Literary Archive Foundation was created to provide a secure\\nand permanent future for Project Gutenberg-tm and future generations.\\nTo learn more about the Project Gutenberg Literary Archive Foundation\\nand how your efforts and donations can help, see Sections 3 and 4\\nand the Foundation web page at http://www.gutenberg.net/fundraising/pglaf.\\n\\n\\nSection 3.  Information about the Project Gutenberg Literary Archive\\nFoundation\\n\\nThe Project Gutenberg Literary Archive Foundation is a non profit\\n501(c)(3) educational corporation organized under the laws of the\\nstate of Mississippi and granted tax exempt status by the Internal\\nRevenue Service.  The Foundation\\'s EIN or federal tax identification\\nnumber is 64-6221541.  Contributions to the Project Gutenberg\\nLiterary Archive Foundation are tax deductible to the full extent\\npermitted by U.S. federal laws and your state\\'s laws.\\n\\nThe Foundation\\'s principal office is located at 4557 Melan Dr. S.\\nFairbanks, AK, 99712., but its volunteers and employees are scattered\\nthroughout numerous locations.  Its business office is located at\\n809 North 1500 West, Salt Lake City, UT 84116, (801) 596-1887, email\\nbusiness@pglaf.org.  Email contact links and up to date contact\\ninformation can be found at the Foundation\\'s web site and official\\npage at http://www.gutenberg.net/about/contact\\n\\nFor additional contact information:\\n     Dr. Gregory B. Newby\\n     Chief Executive and Director\\n     gbnewby@pglaf.org\\n\\nSection 4.  Information about Donations to the Project Gutenberg\\nLiterary Archive Foundation\\n\\nProject Gutenberg-tm depends upon and cannot survive without wide\\nspread public support and donations to carry out its mission of\\nincreasing the number of public domain and licensed works that can be\\nfreely distributed in machine readable form accessible by the widest\\narray of equipment including outdated equipment.  Many small donations\\n($1 to $5,000) are particularly important to maintaining tax exempt\\nstatus with the IRS.\\n\\nThe Foundation is committed to complying with the laws regulating\\ncharities and charitable donations in all 50 states of the United\\nStates.  Compliance requirements are not uniform and it takes a\\nconsiderable effort, much paperwork and many fees to meet and keep up\\nwith these requirements.  We do not solicit donations in locations\\nwhere we have not received written confirmation of compliance.  To\\nSEND DONATIONS or determine the status of compliance for any\\nparticular state visit http://www.gutenberg.net/fundraising/donate\\n\\nWhile we cannot and do not solicit contributions from states where we\\nhave not met the solicitation requirements, we know of no prohibition\\nagainst accepting unsolicited donations from donors in such states who\\napproach us with offers to donate.\\n\\nInternational donations are gratefully accepted, but we cannot make\\nany statements concerning tax treatment of donations received from\\noutside the United States.  U.S. laws alone swamp our small staff.\\n\\nPlease check the Project Gutenberg Web pages for current donation\\nmethods and addresses.  Donations are accepted in a number of other\\nways including including checks, online payments and credit card\\ndonations.  To donate, please visit:\\nhttp://www.gutenberg.net/fundraising/donate\\n\\n\\nSection 5.  General Information About Project Gutenberg-tm electronic\\nworks.\\n\\nProfessor Michael S. Hart is the originator of the Project Gutenberg-tm\\nconcept of a library of electronic works that could be freely shared\\nwith anyone.  For thirty years, he produced and distributed Project\\nGutenberg-tm eBooks with only a loose network of volunteer support.\\n\\nProject Gutenberg-tm eBooks are often created from several printed\\neditions, all of which are confirmed as Public Domain in the U.S.\\nunless a copyright notice is included.  Thus, we do not necessarily\\nkeep eBooks in compliance with any particular paper edition.\\n\\nMost people start at our Web site which has the main PG search facility:\\n\\n     http://www.gutenberg.net\\n\\nThis Web site includes information about Project Gutenberg-tm,\\nincluding how to make donations to the Project Gutenberg Literary\\nArchive Foundation, how to help produce our new eBooks, and how to\\nsubscribe to our email newsletter to hear about new eBooks.\\n\\n')"
      ]
     },
     "execution_count": 4,
     "metadata": {},
     "output_type": "execute_result"
    }
   ],
   "source": [
    "gutenberg_rdd.first()"
   ]
  },
  {
   "cell_type": "markdown",
   "metadata": {},
   "source": [
    "No surprises there - the first element of the tuple is an ID string and the second element is the book text. \n",
    "\n",
    "How many books do we have total?"
   ]
  },
  {
   "cell_type": "code",
   "execution_count": 5,
   "metadata": {},
   "outputs": [
    {
     "data": {
      "text/plain": [
       "18296"
      ]
     },
     "execution_count": 5,
     "metadata": {},
     "output_type": "execute_result"
    }
   ],
   "source": [
    "gutenberg_rdd.count()"
   ]
  },
  {
   "cell_type": "markdown",
   "metadata": {},
   "source": [
    "Check the line a few cells above where we loaded the data from HDFS - notice the `cache()` at the end. This means that we asked Spark to try and put as much of the RDD as possible into memory. It's not always possible to store all the data in memory, in which case Spark will periodically drop parts of RDDs and need to recompute or reload them. \n",
    "\n",
    "* Check the Spark UI (find the link in the second cell of this notebook) and find the `Storage` tab \n",
    "* What fraction of the `gutenberg_rdd` is cached? "
   ]
  },
  {
   "cell_type": "markdown",
   "metadata": {},
   "source": [
    "Notice another piece of information on the storage tab -- `Cached Partitions`. The RDD is split into \"partitions\", each partition consisting of many pieces of data in this case the `(ID, text)` tuples. Spark distributes computation by distributing the partitions among the executors.\n",
    "\n",
    "![spark-rdd](../figs/spark-rdd.png)"
   ]
  },
  {
   "cell_type": "markdown",
   "metadata": {},
   "source": [
    "The \"driver\" in this case is this notebook -- it communicates with the workers via the `SparkContext` and the RDD methods. "
   ]
  },
  {
   "cell_type": "markdown",
   "metadata": {},
   "source": [
    "### Load in the metadata dictionary and broadcast it\n",
    "\n",
    "The metadata is saved as a dictionary on disk. If we want to use the metadata along with the RDD, we need to ship the metadata to the workers as well. In Spark, the best way to achieve this is via \"broadcasting\" - the metadata lookup table (dictionary in this case) is sent to the workers via a torrent mechanism and stored in each worker's RAM. There, it can be quickly retrieved for computation. \n",
    "\n",
    "Note that each worker holds *all* of the broadcast metadata, but only a subset of the partitions."
   ]
  },
  {
   "cell_type": "code",
   "execution_count": 6,
   "metadata": {},
   "outputs": [],
   "source": [
    "import json\n",
    "\n",
    "with open('../data/gutenberg_metadata.json', 'r') as f :\n",
    "    meta = json.load(f)"
   ]
  },
  {
   "cell_type": "markdown",
   "metadata": {},
   "source": [
    "The metadata object is just a normal python dictionary, keyed by book `gid`. For example, the metadata for the book with `gid` 101 looks like:"
   ]
  },
  {
   "cell_type": "code",
   "execution_count": 7,
   "metadata": {},
   "outputs": [
    {
     "data": {
      "text/plain": [
       "{'author_id': '66',\n",
       " 'author_name': ['Sterling', ' Bruce'],\n",
       " 'birth_year': '1954',\n",
       " 'death_year': None,\n",
       " 'downloads': '239',\n",
       " 'first_name': 'Bruce',\n",
       " 'gid': '101',\n",
       " 'language': 'en',\n",
       " 'last_name': 'Sterling',\n",
       " 'license': 'Copyrighted. Read the copyright notice inside this book for details.',\n",
       " 'subtitle': '',\n",
       " 'title': 'The Hacker Crackdown: Law and Disorder on the Electronic Frontier'}"
      ]
     },
     "execution_count": 7,
     "metadata": {},
     "output_type": "execute_result"
    }
   ],
   "source": [
    "meta['101']"
   ]
  },
  {
   "cell_type": "markdown",
   "metadata": {},
   "source": [
    "We now ship the metadata to all of the workers:"
   ]
  },
  {
   "cell_type": "code",
   "execution_count": 8,
   "metadata": {},
   "outputs": [],
   "source": [
    "# create meta_b by broadcasting meta_dict\n",
    "meta_b = sc.broadcast(meta)"
   ]
  },
  {
   "cell_type": "markdown",
   "metadata": {},
   "source": [
    "Remember that our `gutenberg_rdd` contains `gid`'s as keys and text as values and if we want some other piece of metadata, we can just access it via the lookup table, for example to extract the first names of the authors, we can do something like this: "
   ]
  },
  {
   "cell_type": "code",
   "execution_count": 9,
   "metadata": {},
   "outputs": [
    {
     "data": {
      "text/plain": [
       "'Henry'"
      ]
     },
     "execution_count": 9,
     "metadata": {},
     "output_type": "execute_result"
    }
   ],
   "source": [
    "gutenberg_rdd.map(lambda x: meta_b.value[x[0]]['first_name']).first()"
   ]
  },
  {
   "cell_type": "markdown",
   "metadata": {},
   "source": [
    "### Histogram of book publication years\n",
    "Now we're ready to start asking some questions of the data. To begin with, lets do a simple histogram of the year distribution of the books. Since we don't have original publication dates, we just use the simple formula: \n",
    "\n",
    "$year = max\\left((year_{birth} + year_{death})/2, year_{birth} + offset\\right)$, \n",
    "\n",
    "where $offset$ is a number drawn from a gaussian centered on 40 with $\\sigma = 5$ years. This means that we assume most people write their books around age 40. ;)\n",
    "\n",
    "The function `publication_year` is provided for you and you should use it to *transform* the `year_rdd` into an RDD of publication years. \n"
   ]
  },
  {
   "cell_type": "code",
   "execution_count": 10,
   "metadata": {},
   "outputs": [],
   "source": [
    "from random import gauss\n",
    "\n",
    "def publication_year(gid) : \n",
    "    \"\"\"Returns the publication year for the given gutenberg id (gid)\"\"\"\n",
    "    \n",
    "    # extract the metadata dictionary for this gid\n",
    "    meta = meta_b.value[gid] \n",
    "    \n",
    "    birth_year = int(meta['birth_year'])\n",
    "    if meta['death_year'] is None : \n",
    "        year = birth_year + gauss(40,5)\n",
    "    else :\n",
    "        death_year = int(meta['death_year'])\n",
    "        year = max((birth_year + death_year) / 2.0, birth_year + gauss(40,5))\n",
    "\n",
    "    return min(int(year),2015)"
   ]
  },
  {
   "cell_type": "code",
   "execution_count": 11,
   "metadata": {},
   "outputs": [],
   "source": [
    "# TODO: map gutenberg_rdd to contain just the publication years by using the publication_year function above\n",
    "year_rdd = gutenberg_rdd.keys().map(publication_year)"
   ]
  },
  {
   "cell_type": "code",
   "execution_count": 12,
   "metadata": {},
   "outputs": [
    {
     "data": {
      "text/plain": [
       "[1892, 1908, 1894, 1960, 1884]"
      ]
     },
     "execution_count": 12,
     "metadata": {},
     "output_type": "execute_result"
    }
   ],
   "source": [
    "year_rdd.take(5)"
   ]
  },
  {
   "cell_type": "markdown",
   "metadata": {},
   "source": [
    "Now lets use the built-in histogram RDD method to compute the year-frequency distribution. We'll make a function to do the actual plotting.\n",
    "\n",
    "Remember to check the Spark UI `Stages` tab to see what's happening! Can you see how large individual partitions are in bytes? How long does each one take to process?"
   ]
  },
  {
   "cell_type": "code",
   "execution_count": 13,
   "metadata": {},
   "outputs": [],
   "source": [
    "def plot_histogram(rdd, nbins=100, logy=False):\n",
    "    \"\"\"Plot a histogram of values in an RDD\"\"\"\n",
    "    hist = rdd.histogram(nbins)\n",
    "    bins = np.array(hist[0])\n",
    "    bins = 0.5*(bins[:-1]+bins[1:])\n",
    "    vals = np.array(hist[1])\n",
    "\n",
    "    plt.plot(bins, vals)\n",
    "    plt.xlabel('year'); plt.ylabel('count');\n",
    "    if logy:\n",
    "        plt.semilogy();"
   ]
  },
  {
   "cell_type": "code",
   "execution_count": 14,
   "metadata": {},
   "outputs": [
    {
     "data": {
      "image/png": "[encoded data removed]",
      "text/plain": [
       "<Figure size 720x432 with 1 Axes>"
      ]
     },
     "metadata": {},
     "output_type": "display_data"
    }
   ],
   "source": [
    "plot_histogram(year_rdd)"
   ]
  },
  {
   "cell_type": "markdown",
   "metadata": {},
   "source": [
    "It's clear we have very few books before 1750. Lets filter the `year_rdd` to only include years after 1750 and produce the histogram again."
   ]
  },
  {
   "cell_type": "code",
   "execution_count": 15,
   "metadata": {},
   "outputs": [
    {
     "data": {
      "image/png": "[encoded data removed]",
      "text/plain": [
       "<Figure size 720x432 with 1 Axes>"
      ]
     },
     "metadata": {},
     "output_type": "display_data"
    }
   ],
   "source": [
    "# TODO: filter the year_rdd to only include years after 1750\n",
    "plot_histogram(year_rdd.filter(lambda year: year>1750), nbins=50, logy=True)"
   ]
  },
  {
   "cell_type": "markdown",
   "metadata": {},
   "source": [
    "If you're playing around with the year ranges or the binning you will have noticed that this plot takes a while to generate. How could you speed it up? \n",
    "\n",
    "Hint: which data would be very cheap to cache?"
   ]
  },
  {
   "cell_type": "markdown",
   "metadata": {},
   "source": [
    "### Inspecting the metadata some more\n",
    "\n",
    "Lets do a couple more checks and practice using the Spark API. \n",
    "\n",
    "#### How many unique authors are there in the dataset? \n",
    "\n",
    "1. make `author_rdd` that is composed of a string `\"last_name, first_name\"` (use the broadcast variable `meta_b` to get the data for each `gid`)\n",
    "2. keep only the unique author strings (*hint*: look at the [Spark RDD API](http://spark.apache.org/docs/latest/api/python/pyspark.html#pyspark.RDD) to find an appropriate method)\n",
    "3. count the number of elements remaining\n",
    "\n",
    "**note**: use `meta_b.value` to access the actual metadata dictionary, i.e. to get the metadata for `gid=101`:"
   ]
  },
  {
   "cell_type": "code",
   "execution_count": 16,
   "metadata": {},
   "outputs": [
    {
     "data": {
      "text/plain": [
       "{'author_id': '66',\n",
       " 'author_name': ['Sterling', ' Bruce'],\n",
       " 'birth_year': '1954',\n",
       " 'death_year': None,\n",
       " 'downloads': '239',\n",
       " 'first_name': 'Bruce',\n",
       " 'gid': '101',\n",
       " 'language': 'en',\n",
       " 'last_name': 'Sterling',\n",
       " 'license': 'Copyrighted. Read the copyright notice inside this book for details.',\n",
       " 'subtitle': '',\n",
       " 'title': 'The Hacker Crackdown: Law and Disorder on the Electronic Frontier'}"
      ]
     },
     "execution_count": 16,
     "metadata": {},
     "output_type": "execute_result"
    }
   ],
   "source": [
    "meta_b.value['101']"
   ]
  },
  {
   "cell_type": "code",
   "execution_count": 17,
   "metadata": {},
   "outputs": [],
   "source": [
    "# TODO: map gutenberg_rdd to contain the string \"last_name, first_name\" \n",
    "# note: make sure you use strings here and not lists of strings for author names\n",
    "author_rdd = gutenberg_rdd.map(lambda doc: '{0}, {1}'.format(meta_b.value[doc[0]]['last_name'], meta_b.value[doc[0]]['first_name']))"
   ]
  },
  {
   "cell_type": "code",
   "execution_count": 18,
   "metadata": {},
   "outputs": [
    {
     "name": "stdout",
     "output_type": "stream",
     "text": [
      "Number of distinct authors: 7017 \n"
     ]
    }
   ],
   "source": [
    "# TODO: use RDD methods to obtain the distinct author name strings and count them\n",
    "n_authors = author_rdd.distinct().count()\n",
    "print(\"Number of distinct authors: %s \" % n_authors)"
   ]
  },
  {
   "cell_type": "code",
   "execution_count": 19,
   "metadata": {},
   "outputs": [],
   "source": [
    "assert(n_authors == 7017)"
   ]
  },
  {
   "cell_type": "markdown",
   "metadata": {},
   "source": [
    "#### Most-represented authors in the corpus: \n",
    "\n",
    "Here we will use a very common map/reduce pattern to count the number of occurrences of a key. The trick is to transform the RDD into key-value pairs of `(key, 1)`. For example, we might have an RDD like:\n",
    "\n",
    "    [('a', 1),\n",
    "     ('b', 1), \n",
    "     ('c', 1), \n",
    "     ('a', 1), \n",
    "     ('b', 1)]\n",
    "\n",
    "If we fed this RDD to `reduceByKey` and used the simple `add` operator (see the spark intro notebook) we would get back something like\n",
    "\n",
    "    [('a', 2), ('b', 2), ('c', 1)]\n",
    "\n",
    "1. use the `author_rdd` from above\n",
    "2. use the pattern `(key, 1)` to set up an RDD that can be passed to [`reduceByKey`](http://spark.apache.org/docs/latest/api/python/pyspark.html#pyspark.RDD.reduceByKey)\n",
    "3. run `reduceByKey`, yielding an RDD composed of `(author, count)` tuples\n",
    "4. sort by descending order of number of books per author and print out the top 10 (try using [`takeOrdered`](http://spark.apache.org/docs/latest/api/python/pyspark.html#pyspark.RDD.takeOrdered))"
   ]
  },
  {
   "cell_type": "code",
   "execution_count": 20,
   "metadata": {},
   "outputs": [
    {
     "data": {
      "text/plain": [
       "[('Balzac, Honoré de', 121),\n",
       " ('Kingston, William Henry Giles', 113),\n",
       " ('Twain, Mark', 104),\n",
       " ('Ballantyne, R. M. (Robert Michael)', 95),\n",
       " ('Jacobs, W. W. (William Wymark)', 94),\n",
       " ('Pepys, Samuel', 85),\n",
       " ('Fenn, George Manville', 83),\n",
       " ('Shakespeare, William', 82),\n",
       " ('Dumas, Alexandre', 73),\n",
       " ('Verne, Jules', 72)]"
      ]
     },
     "execution_count": 20,
     "metadata": {},
     "output_type": "execute_result"
    }
   ],
   "source": [
    "# TODO: generate a list of top 20 authors, reverse-sorted by the number of books they have in the corpus\n",
    "(author_rdd.map(lambda x: (x,1))\n",
    "           .reduceByKey(lambda a, b: a+b)\n",
    "           .sortBy(lambda x: -x[1])\n",
    "           .take(10))"
   ]
  },
  {
   "cell_type": "markdown",
   "metadata": {},
   "source": [
    "Finally, lets do the same thing per language, just to get an idea of how much data there is: "
   ]
  },
  {
   "cell_type": "code",
   "execution_count": 21,
   "metadata": {},
   "outputs": [],
   "source": [
    "# TODO: generate a lang_rdd that contains just the language of each book\n",
    "lang_rdd = gutenberg_rdd.keys().map(lambda gid: meta_b.value[gid]['language'])"
   ]
  },
  {
   "cell_type": "code",
   "execution_count": 22,
   "metadata": {},
   "outputs": [
    {
     "data": {
      "text/plain": [
       "[('en', 14921),\n",
       " ('fr', 1171),\n",
       " ('fi', 461),\n",
       " ('nl', 329),\n",
       " ('pt', 312),\n",
       " ('de', 299),\n",
       " ('es', 198),\n",
       " ('it', 167),\n",
       " ('zh', 155),\n",
       " ('eo', 50),\n",
       " ('sv', 48),\n",
       " ('tl', 34),\n",
       " ('la', 26),\n",
       " ('pl', 20),\n",
       " ('ca', 19),\n",
       " ('da', 18),\n",
       " ('el', 13),\n",
       " ('hu', 10),\n",
       " ('no', 10),\n",
       " ('cs', 6),\n",
       " ('cy', 3),\n",
       " ('ru', 3),\n",
       " ('sr', 3),\n",
       " ('af', 2),\n",
       " ('enm', 2),\n",
       " ('is', 2),\n",
       " ('nah', 2),\n",
       " ('fy', 1),\n",
       " ('he', 1),\n",
       " ('gl', 1),\n",
       " ('kha', 1),\n",
       " ('ia', 1),\n",
       " ('ceb', 1),\n",
       " ('fur', 1),\n",
       " ('gla', 1),\n",
       " ('nap', 1),\n",
       " ('nai', 1),\n",
       " ('oc', 1),\n",
       " ('kld', 1)]"
      ]
     },
     "execution_count": 22,
     "metadata": {},
     "output_type": "execute_result"
    }
   ],
   "source": [
    "# TODO: reduce the `lang_rdd` to yield the number of books in each language\n",
    "(lang_rdd.map(lambda x: (x,1))\n",
    "         .reduceByKey(lambda a,b: a+b)\n",
    "         .sortBy(lambda x: -x[1])\n",
    "         .collect())"
   ]
  },
  {
   "cell_type": "markdown",
   "metadata": {},
   "source": [
    "## How many unique words were used in English in these 500+ years? \n",
    "\n",
    "We could have done the above metadata gymnastics without ever invoking a distributed processing framework by simply extracting the years from the metadata dictionary of course -- nevertheless we used the metadata to have a closer look at some of the RDD methods. However, the actual text of each data element is where the bulk of the data volume lies. \n",
    "\n",
    "To construct a corpus wide vocabulary, we have to deconstruct each document into a list of words and then extract the unique words from the entire data set. If our dataset fits into memory of a single machine, this is a simple `set` operation. But what if it doesn't? \n",
    "\n",
    "We'll assume the latter is the case and construct one global RDD of words. Here we aren't necessarily interested in preserving the provenance of words, but just finding the unique words in the whole corpus, so we drop the metadata altogether. \n",
    "\n",
    "### The steps are as follows:\n",
    "\n",
    "1. remove punctuation from the text (a `remove_punctuation` function has been created for you below)\n",
    "2. make the text lowercase (use the `lower()` method of python strings)\n",
    "1. map the entire RDD of text into an RDD of single words (you need to use [flatMap](http://spark.apache.org/docs/latest/api/python/pyspark.html#pyspark.RDD.flatMap) -- this returns a different number of elements than it takes in)\n",
    "2. use the `distinct` method of the resulting RDD to transform it into an RDD with only unique words\n",
    "\n",
    "Here's an illustration of how **`flatMap`** differs from **`map`**:\n",
    "\n",
    "![flatMap](../figs/flatMap_example.svg)"
   ]
  },
  {
   "cell_type": "markdown",
   "metadata": {},
   "source": [
    "<div class=\"alert alert-info\">\n",
    "<p><strong>Hint</strong></p> \n",
    "<p>In python, splitting a string into a set of words separated by spaces is easy: </p>\n",
    "</div>"
   ]
  },
  {
   "cell_type": "code",
   "execution_count": 23,
   "metadata": {},
   "outputs": [
    {
     "data": {
      "text/plain": [
       "['splitting', 'a', 'string', 'is', 'super', 'simple']"
      ]
     },
     "execution_count": 23,
     "metadata": {},
     "output_type": "execute_result"
    }
   ],
   "source": [
    "line = 'splitting a string is super simple'\n",
    "line.split()"
   ]
  },
  {
   "cell_type": "code",
   "execution_count": 24,
   "metadata": {},
   "outputs": [],
   "source": [
    "# here we define a function that strips out all punctuation\n",
    "import re\n",
    "import string\n",
    "\n",
    "def remove_punctuation(text): \n",
    "    \"\"\"Return text without punctuation\"\"\"\n",
    "    regex = re.compile('[%s]' % re.escape(string.punctuation))\n",
    "    return regex.sub('', text)"
   ]
  },
  {
   "cell_type": "code",
   "execution_count": 25,
   "metadata": {},
   "outputs": [
    {
     "data": {
      "text/plain": [
       "'This Is A Punctuated Sentence'"
      ]
     },
     "execution_count": 25,
     "metadata": {},
     "output_type": "execute_result"
    }
   ],
   "source": [
    "# for example:\n",
    "remove_punctuation('This! Is, A; Punctuated- Sentence/')"
   ]
  },
  {
   "cell_type": "code",
   "execution_count": 26,
   "metadata": {},
   "outputs": [],
   "source": [
    "# TODO: define `english_rdd` which should contain only english-language books -- we will need this again later\n",
    "# hint: check whick keys are available in `meta_b.value`\n",
    "english_rdd = gutenberg_rdd.filter(lambda doc: meta_b.value[doc[0]]['language'] == 'en')"
   ]
  },
  {
   "cell_type": "code",
   "execution_count": 27,
   "metadata": {},
   "outputs": [
    {
     "name": "stdout",
     "output_type": "stream",
     "text": [
      "Number of unique English words:  4486584\n"
     ]
    }
   ],
   "source": [
    "# TODO: define `distinct_rdd` which should contain all lowercase, unique words in the english books of the corpus\n",
    "distinct_rdd = (english_rdd.values() # this is a quick way to get rid of the keys since we don't need them anymore\n",
    "                           .map(remove_punctuation)\n",
    "                           .flatMap(lambda text: text.lower().split())\n",
    "                           .distinct())\n",
    "nwords = distinct_rdd.count()\n",
    "print(\"Number of unique English words: \", nwords)"
   ]
  },
  {
   "cell_type": "code",
   "execution_count": 28,
   "metadata": {},
   "outputs": [
    {
     "data": {
      "text/plain": [
       "['is',\n",
       " '15266',\n",
       " 'presbyterian',\n",
       " 'beauty',\n",
       " 'always',\n",
       " 'imperishable',\n",
       " 'truly',\n",
       " 'labour',\n",
       " 'interruptions',\n",
       " 'france',\n",
       " 'accused',\n",
       " 'voyage',\n",
       " 'refuge',\n",
       " 'hidden',\n",
       " 'trying',\n",
       " 'selfishness',\n",
       " 'down',\n",
       " 'lips',\n",
       " 'walk',\n",
       " 'compliance']"
      ]
     },
     "execution_count": 28,
     "metadata": {},
     "output_type": "execute_result"
    }
   ],
   "source": [
    "distinct_rdd.take(20)"
   ]
  },
  {
   "cell_type": "markdown",
   "metadata": {},
   "source": [
    "Of course not all of these are actual words, this is just how many character sequences separated by spaces we found. The pre-processing steps are less than perfect so there is some garbage in there. We will trim this down to just the most commonly-used ones later and that will get rid of most of the nonsense. "
   ]
  },
  {
   "cell_type": "markdown",
   "metadata": {},
   "source": [
    "## What are the most common words? \n",
    "\n",
    "A \"map/reduce\" tutorial has to include a word counting example -- it's basically the equivalent of a \"Hello World!\" in programming!\n",
    "\n",
    "So, lets count the occurences of all the words across the entire corpus. This is a fairly straightforward operation, but it exposes some very common patterns that can be useful for many tasks. To simplify this a bit, we'll use only the English-language corpus for the moment.\n",
    "\n",
    "Here are the steps we need to take:\n",
    "\n",
    "0. keep only the english language books (use a filter)\n",
    "1. `flatMap` each document into (`word, count`) pairs, but only for words that are not in the `stop_words` set (try with a list comprehension!)\n",
    "2. call `reduceByKey` to sum up all the `count`s for each word\n",
    "3. finally sort it in descending order to see the most common words first\n",
    "\n",
    "The first part here (filtering and `flatMap`) is much like what we did before, but with a twist: for each word, check that it is *not* a member of the `stop_words` set. \"Stop words\" include common words like \"a, the, he\" etc.  "
   ]
  },
  {
   "cell_type": "code",
   "execution_count": 29,
   "metadata": {
    "scrolled": true
   },
   "outputs": [],
   "source": [
    "from pickle import load\n",
    "with open('../data/stop_words.dump', 'rb') as f:\n",
    "    stop_words = load(f).union(['gutenbergtm', 'gutenberg', 'electronic', 'foundation', 'license', 'copyright', 'donation', 'donations'])\n",
    "stop_words_b = sc.broadcast(stop_words)"
   ]
  },
  {
   "cell_type": "code",
   "execution_count": 30,
   "metadata": {},
   "outputs": [],
   "source": [
    "# TODO: use flatMap to extract the words from each document's text using the english_rdd we made above\n",
    "#       Don't forget to make everything lowercase, remove the punctuation, and filter out the stop words!\n",
    "\n",
    "words_rdd = (english_rdd.values()\n",
    "                        .map(remove_punctuation)\n",
    "                        .flatMap(lambda text: text.lower().split())\n",
    "                        .filter(lambda word: word not in stop_words_b.value)\n",
    "                        .setName('words_rdd'))"
   ]
  },
  {
   "cell_type": "markdown",
   "metadata": {},
   "source": [
    "Now that we have our \"flattened\" data set, do the counting by:\n",
    "\n",
    "1. mapping each word in `words_rdd` into a `(word, 1)` tuple \n",
    "2. using `reduceByKey` to calculate the word frequencies \n",
    "3. using the `sortBy` method to sort the word counts in descending order"
   ]
  },
  {
   "cell_type": "code",
   "execution_count": 31,
   "metadata": {},
   "outputs": [],
   "source": [
    "# TODO: do the word count!\n",
    "# Note that we subsample the dataset a bit in the first step here to make the calculation a little faster\n",
    "word_count = (words_rdd.sample(False, 0.2) \n",
    "                       .map(lambda word: (word, 1))\n",
    "                       .reduceByKey(lambda a,b: a+b)\n",
    "                       .sortBy(lambda x: -x[1])\n",
    "                       .setName('word_count')\n",
    "                       .cache())"
   ]
  },
  {
   "cell_type": "code",
   "execution_count": 32,
   "metadata": {},
   "outputs": [],
   "source": [
    "assert(word_count.keys().take(5) == ['said', 'man', 'time', 'little', 'like'])"
   ]
  },
  {
   "cell_type": "markdown",
   "metadata": {},
   "source": [
    "### Top 100 most common words"
   ]
  },
  {
   "cell_type": "code",
   "execution_count": 33,
   "metadata": {},
   "outputs": [
    {
     "data": {
      "text/plain": [
       "[('said', 581598),\n",
       " ('man', 333958),\n",
       " ('time', 320766),\n",
       " ('little', 296737),\n",
       " ('like', 283942),\n",
       " ('did', 276733),\n",
       " ('project', 273130),\n",
       " ('work', 258950),\n",
       " ('great', 257125),\n",
       " ('know', 231207),\n",
       " ('mr', 217480),\n",
       " ('old', 216481),\n",
       " ('good', 216403),\n",
       " ('come', 210848),\n",
       " ('men', 209049),\n",
       " ('way', 197355),\n",
       " ('came', 192549),\n",
       " ('life', 190250),\n",
       " ('day', 185651),\n",
       " ('long', 182942),\n",
       " ('make', 176823),\n",
       " ('say', 170840),\n",
       " ('think', 162033),\n",
       " ('shall', 161629),\n",
       " ('new', 154923),\n",
       " ('away', 154921),\n",
       " ('just', 154291),\n",
       " ('people', 151956),\n",
       " ('thought', 150482),\n",
       " ('went', 149287),\n",
       " ('eyes', 144271),\n",
       " ('hand', 139236),\n",
       " ('place', 137823),\n",
       " ('dont', 137752),\n",
       " ('right', 136883),\n",
       " ('young', 127909),\n",
       " ('house', 127769),\n",
       " ('years', 125022),\n",
       " ('works', 122625),\n",
       " ('face', 121855),\n",
       " ('things', 118763),\n",
       " ('left', 118618),\n",
       " ('head', 116549),\n",
       " ('let', 114477),\n",
       " ('saw', 112815),\n",
       " ('world', 112814),\n",
       " ('tell', 110061),\n",
       " ('took', 108236),\n",
       " ('night', 107993),\n",
       " ('love', 107809),\n",
       " ('far', 106127),\n",
       " ('sir', 105278),\n",
       " ('look', 105156),\n",
       " ('god', 105078),\n",
       " ('mrs', 104759),\n",
       " ('looked', 104699),\n",
       " ('set', 103466),\n",
       " ('days', 103109),\n",
       " ('mind', 102590),\n",
       " ('got', 100507),\n",
       " ('father', 99948),\n",
       " ('going', 99070),\n",
       " ('thing', 97693),\n",
       " ('home', 95534),\n",
       " ('small', 95228),\n",
       " ('use', 94861),\n",
       " ('heart', 94731),\n",
       " ('asked', 94289),\n",
       " ('country', 93869),\n",
       " ('knew', 93860),\n",
       " ('told', 93684),\n",
       " ('seen', 93199),\n",
       " ('having', 92523),\n",
       " ('course', 92485),\n",
       " ('called', 91629),\n",
       " ('heard', 91430),\n",
       " ('better', 91388),\n",
       " ('soon', 89018),\n",
       " ('moment', 88673),\n",
       " ('end', 87488),\n",
       " ('general', 87344),\n",
       " ('hands', 85421),\n",
       " ('quite', 84493),\n",
       " ('states', 83860),\n",
       " ('king', 83751),\n",
       " ('water', 82434),\n",
       " ('room', 81432),\n",
       " ('state', 81383),\n",
       " ('woman', 81342),\n",
       " ('yes', 81297),\n",
       " ('terms', 81114),\n",
       " ('lord', 80694),\n",
       " ('does', 80650),\n",
       " ('mother', 80578),\n",
       " ('words', 79996),\n",
       " ('oh', 79988),\n",
       " ('light', 78814),\n",
       " ('gave', 78070),\n",
       " ('turned', 77577),\n",
       " ('want', 77258)]"
      ]
     },
     "execution_count": 33,
     "metadata": {},
     "output_type": "execute_result"
    }
   ],
   "source": [
    "word_count.take(100)"
   ]
  },
  {
   "cell_type": "markdown",
   "metadata": {},
   "source": [
    "# Computing word frequency vs. time\n",
    "\n",
    "Now we have all the components to build a simple tool that visualizes the relative word frequency as a function of time in the Gutenberg corpus. For inspiration, see the [Google Ngram viewer](https://books.google.com/ngrams).\n",
    "\n",
    "### Converting documents into vectors\n",
    "\n",
    "To make quantitative analysis of the corpus possible, we will convert each document into a vector that represents the word counts for each word appearing in the document. \n",
    "\n",
    "This will look something like this. Imagine we have have a corpus consisting of two \"documents\"\n",
    "\n",
    "    document 1: \"a dog bit me\"\n",
    "    document 2: \"i bit the dog back\"\n",
    "    \n",
    "Then our corpus vocabulary (of 1-grams) is\n",
    "\n",
    "    [\"a\", \"dog\", \"bit\", \"me\", \"i\", \"the\", \"back\"]\n",
    "    \n",
    "Since this is an array and each word in the array has a unique index, we can \"encode\" the two documents using this index mapping. Our corpus now looks like this: \n",
    "\n",
    "    document 1: [1, 1, 1, 1, 0, 0, 0]\n",
    "    document 2: [0, 1, 1, 0, 1, 1, 1]\n",
    "    \n",
    "In order for the vector indices to remain consistent across the whole corpus, the first step is to build a corpus-wide lookup table, a `word --> index` mapping. \n",
    "\n",
    "\n",
    "### Generating word counts \n",
    "\n",
    "Once each document is converted to a vector, doing the word counts for sub-groups of documents is a simple vector addition operation. In our case, we will reduce the vectors by year, yielding an RDD that will have the total number of occurrences of each word in every year. From there, it is trivial to look up the desired word and plot the relative frequency vs. year. \n",
    "\n",
    "## Create the vocabulary lookup table\n",
    "Create a look-up table of words by attaching a unique index to each word. The Spark API provides a [zipWithIndex](http://spark.apache.org/docs/latest/api/python/pyspark.html#pyspark.RDD.zipWithIndex) method that makes this easy. \n",
    "\n",
    "Above, we created the `word_count` RDD that already contains the unique words and their associated counts. To reduce the size of the lookup table (and the size of the vectors), we will restrict ourselves to using only the first 100k words. \n",
    "\n",
    "You can either create the `(word, index)` pairs in the RDD and collect the top 100,000 as a dictionary using `collectAsMap`, or you can collect the top 100,000 words from `word_count` RDD and turn them into a dictionary locally. \n",
    "\n",
    "These are the steps we need to take to make the vocabulary lookup from an RDD:\n",
    "\n",
    "1. use `zipWithIndex` on the keys of `word_count` to generate a unique index for each word -- we don't care about the counts anymore, so we can get rid of the values and just work with the keys using the `keys()` method\n",
    "2. use filter to retain only the first 100000 words \n",
    "3. finally, use [collectAsMap](http://spark.apache.org/docs/latest/api/python/pyspark.html#pyspark.RDD.collectAsMap) to return the resulting RDD to the driver as a dictionary. "
   ]
  },
  {
   "cell_type": "code",
   "execution_count": 34,
   "metadata": {},
   "outputs": [],
   "source": [
    "# TODO: create word_lookup, a dictionary that maps each of the top 100,000 words to a unique integer\n",
    "word_lookup = word_count.keys().zipWithIndex().filter(lambda x: x[1]<100000).collectAsMap()"
   ]
  },
  {
   "cell_type": "markdown",
   "metadata": {},
   "source": [
    "Make a `word_lookup` into a broadcast variable so we can use it on all the workers:"
   ]
  },
  {
   "cell_type": "code",
   "execution_count": 35,
   "metadata": {},
   "outputs": [],
   "source": [
    "word_lookup_b = sc.broadcast(word_lookup)"
   ]
  },
  {
   "cell_type": "markdown",
   "metadata": {},
   "source": [
    "This dictionary is approximately 6 Mb in size - without a broadcast, it would get sent over the network to each task, resulting in a lot of network traffic! As a broadcast variable, it gets sent only *once* to each *executor*, i.e. it's transferred only 20 times (if you are using the defaults, otherwise however many executors you have). "
   ]
  },
  {
   "cell_type": "markdown",
   "metadata": {},
   "source": [
    "## Vectorize the documents\n",
    "\n",
    "Now that we have a vocabulary lookup table, we can use this to turn each document into a vector. \n",
    "\n",
    "This is done by counting up the occurrences of all words in the document that are also in the global vocabulary. \n",
    "\n",
    "The function `vectorize_doc` below accomplishes this by using a dictionary to keep track of the local word count. Once the counting is done we use the counts to create a sparse vector that represents the document. A sparse vector consists of two arrays, one representing the *locations* of the non-zero values, and the other the values themselves. \n",
    "\n",
    "To return to our contrived example from above, we had \n",
    "\n",
    "    document 1: \"a dog bit me\"\n",
    "    document 2: \"i bit the dog back\"\n",
    "    \n",
    "which turned into \n",
    "\n",
    "    document 1: [1, 1, 1, 1, 0, 0, 0]\n",
    "    document 2: [0, 1, 1, 0, 1, 1, 1]\n",
    "\n",
    "with a vocabulary of \n",
    "\n",
    "    [\"a\", \"dog\", \"bit\", \"me\", \"i\", \"the\", \"back\"]\n",
    "    \n",
    "As sparse vectors, these two documents could be represented with two arrays: \n",
    "\n",
    "    document 1: indices = [0,1,2,3]; values = [1, 1, 1, 1]\n",
    "    document 2: indices = [1,2,4,5,6]; values = [1, 1, 1, 1, 1]\n",
    "\n",
    "We use Spark's own `SparseVector` data type, for which we must specify a size (total number of features), a (sorted) array of indices, and an array of values. This means that we start to save space if sparsity is > 50%. Note that the `SparseVector` provides some nice higher-level methods, but it does not allow simple operations like addition. If a lot of vector arithmetic is needed, you should use the scipy sparse types instead. "
   ]
  },
  {
   "cell_type": "markdown",
   "metadata": {},
   "source": [
    "In the next cell, we define two functions: \n",
    "\n",
    "* **`extract_ngrams`** converts a sequence of words or characters into a sequence of n-grams (here we are just using single worde, i.e. 1-grams so we'll postpone talking about ngrams until later)\n",
    "\n",
    "* **`vectorize_doc`** converts a document into a sparse vector by using `extract_ngrams` to tokenize it and a vocabulary mapping to turn each word into a vector component"
   ]
  },
  {
   "cell_type": "code",
   "execution_count": 36,
   "metadata": {},
   "outputs": [],
   "source": [
    "from pyspark.mllib.linalg import SparseVector\n",
    "\n",
    "def extract_ngrams(tokens, ngram_range=[1,1], select_ngrams = None, ngram_type='word'):\n",
    "    \"\"\"\n",
    "    Turn tokens into a sequence of n-grams \n",
    "\n",
    "    Arguments:\n",
    "\n",
    "        tokens: a list of tokens\n",
    "\n",
    "    Optional Keywords:\n",
    "\n",
    "        ngram_range: a tuple with min, max ngram ngram_range\n",
    "    \n",
    "        select_ngrams: the vocabulary to use\n",
    "    \n",
    "        ngram_type: whether to produce word or character ngrams\n",
    "\n",
    "    Output:\n",
    "\n",
    "    Generator yielding a list of ngrams in the desired range\n",
    "    generated from the input list of tokens\n",
    "\n",
    "    \"\"\"\n",
    "    join_str = \"\" if ngram_type=='character' else \" \"\n",
    "    \n",
    "    # handle token n-grams\n",
    "    min_n, max_n = ngram_range\n",
    "    n_tokens = len(tokens)\n",
    "    \n",
    "    for n in range(min_n, min(max_n + 1, n_tokens + 1)):\n",
    "        for i in range(n_tokens - n + 1):\n",
    "            if n == 1: \n",
    "                res = tokens[i]\n",
    "            else : \n",
    "                res = join_str.join(tokens[i: i+n])\n",
    "           \n",
    "            # if we are using a lookup vocabulary, check for membership here\n",
    "            if select_ngrams is not None : \n",
    "                if res in select_ngrams: \n",
    "                    yield res\n",
    "            else : \n",
    "                yield res\n",
    "            \n",
    "\n",
    "def vectorize_doc(doc, vocab, ngram_range = [1,1], ngram_type='word') : \n",
    "    \"\"\"\n",
    "    Returns a vector representation of `doc` given the reference \n",
    "    vocabulary `vocab` after tokenizing it with `tokenizer`\n",
    "    \n",
    "    Arguments: \n",
    "        \n",
    "        doc: a sequence of tokens (words or characters)\n",
    "        \n",
    "        vocab: the vocabulary mapping\n",
    "        \n",
    "    Keywords:\n",
    "    \n",
    "        ngram_range: the range of ngrams to process\n",
    "        \n",
    "        ngram_type: whether to produce character or word ngrams; default is \n",
    "        \n",
    "    Returns:\n",
    "    \n",
    "        a sparse vector representation of the document given the vocabulary mapping\n",
    "    \"\"\"\n",
    "    from collections import defaultdict\n",
    "    from scipy.sparse import csr_matrix \n",
    "        \n",
    "    # count all the word occurences \n",
    "    data = np.zeros(len(vocab))\n",
    "    \n",
    "    for ngram in extract_ngrams(doc, ngram_range, vocab, ngram_type) : \n",
    "         data[vocab[ngram]] += 1\n",
    "            \n",
    "    # only keep the nonzero indices for the sparse representation\n",
    "    indices = data.nonzero()[0]\n",
    "    values = data[indices]\n",
    "    \n",
    "    return SparseVector(len(vocab), indices, values)"
   ]
  },
  {
   "cell_type": "markdown",
   "metadata": {},
   "source": [
    "Using these functions to vectorize our two-sentence test corpus: "
   ]
  },
  {
   "cell_type": "code",
   "execution_count": 37,
   "metadata": {},
   "outputs": [],
   "source": [
    "import string\n",
    "s1 = \"a dog bit me\"\n",
    "s2 = \"i bit the dog back\"\n",
    "vocab = [\"a\", \"dog\", \"bit\", \"me\", \"i\", \"the\", \"back\"]\n",
    "vocab_dict = {word:ind for ind, word in enumerate(vocab)}"
   ]
  },
  {
   "cell_type": "code",
   "execution_count": 38,
   "metadata": {},
   "outputs": [
    {
     "name": "stdout",
     "output_type": "stream",
     "text": [
      "a dog bit me\n",
      "(7,[0,1,2,3],[1.0,1.0,1.0,1.0])\n",
      "i bit the dog back\n",
      "(7,[1,2,4,5,6],[1.0,1.0,1.0,1.0,1.0])\n"
     ]
    }
   ],
   "source": [
    "print(s1)\n",
    "print(vectorize_doc(s1.split(), vocab_dict))\n",
    "print(s2)\n",
    "print(vectorize_doc(s2.split(), vocab_dict))"
   ]
  },
  {
   "cell_type": "markdown",
   "metadata": {},
   "source": [
    "Now we have all the components we need to create an RDD of english-language books vectorized using the most common 100k words. All we need to do is to use `mapValues` to map the text of each document in `english_rdd` into a vector using `vectorize_doc` and our broadcast vocabulary lookup table `word_lookup_b`. Recall that the broadcast variable, `word_lookup_b` is just a wrapper for the lookup table; to pass the actual lookup table to the `vectorize_doc` function, use `word_lookup_b.value`."
   ]
  },
  {
   "cell_type": "code",
   "execution_count": 39,
   "metadata": {},
   "outputs": [],
   "source": [
    "# TODO\n",
    "vector_rdd = english_rdd.mapValues(lambda text: vectorize_doc(text.split(), word_lookup_b.value)).cache()"
   ]
  },
  {
   "cell_type": "code",
   "execution_count": 40,
   "metadata": {
    "scrolled": true
   },
   "outputs": [
    {
     "data": {
      "text/plain": [
       "[('15266',\n",
       "  SparseVector(100000, {0: 6.0, 1: 5.0, 2: 4.0, 3: 3.0, 4: 6.0, 5: 5.0, 7: 37.0, 8: 12.0, 9: 7.0, 11: 2.0, 12: 8.0, 13: 6.0, 14: 6.0, 15: 6.0, 16: 4.0, 17: 16.0, 18: 9.0, 19: 3.0, 20: 15.0, 21: 6.0, 22: 1.0, 23: 22.0, 24: 7.0, 25: 4.0, 26: 6.0, 27: 5.0, 28: 3.0, 29: 2.0, 30: 1.0, 32: 1.0, 34: 5.0, 35: 1.0, 37: 3.0, 38: 23.0, 39: 3.0, 40: 7.0, 41: 2.0, 43: 3.0, 44: 3.0, 45: 20.0, 46: 3.0, 47: 4.0, 48: 1.0, 49: 16.0, 50: 1.0, 52: 1.0, 53: 1.0, 56: 10.0, 57: 4.0, 58: 1.0, 59: 1.0, 60: 2.0, 61: 5.0, 62: 3.0, 63: 2.0, 64: 2.0, 65: 10.0, 66: 8.0, 67: 1.0, 68: 2.0, 69: 1.0, 70: 3.0, 71: 2.0, 72: 1.0, 73: 1.0, 74: 2.0, 76: 7.0, 77: 1.0, 79: 4.0, 81: 1.0, 83: 4.0, 86: 1.0, 87: 6.0, 90: 19.0, 92: 3.0, 94: 5.0, 96: 3.0, 97: 4.0, 99: 2.0, 101: 3.0, 102: 4.0, 103: 2.0, 105: 1.0, 106: 7.0, 108: 1.0, 112: 1.0, 118: 8.0, 119: 2.0, 120: 3.0, 121: 7.0, 122: 8.0, 123: 2.0, 126: 6.0, 130: 3.0, 132: 10.0, 134: 2.0, 136: 5.0, 137: 1.0, 140: 4.0, 141: 1.0, 142: 1.0, 143: 1.0, 144: 1.0, 145: 3.0, 146: 2.0, 147: 17.0, 148: 7.0, 149: 7.0, 150: 4.0, 151: 1.0, 153: 8.0, 154: 4.0, 155: 1.0, 157: 1.0, 160: 3.0, 161: 3.0, 163: 5.0, 166: 1.0, 168: 3.0, 170: 1.0, 171: 1.0, 172: 2.0, 176: 8.0, 177: 4.0, 178: 1.0, 180: 6.0, 182: 8.0, 184: 1.0, 185: 4.0, 186: 4.0, 187: 1.0, 188: 2.0, 189: 1.0, 191: 1.0, 193: 1.0, 195: 1.0, 196: 2.0, 198: 4.0, 200: 2.0, 202: 2.0, 207: 2.0, 208: 2.0, 209: 2.0, 210: 2.0, 211: 3.0, 213: 2.0, 214: 5.0, 215: 1.0, 219: 9.0, 221: 4.0, 222: 2.0, 223: 1.0, 224: 4.0, 227: 4.0, 228: 1.0, 232: 1.0, 233: 4.0, 234: 2.0, 235: 1.0, 236: 8.0, 237: 1.0, 238: 8.0, 241: 1.0, 242: 1.0, 243: 3.0, 245: 1.0, 246: 9.0, 247: 2.0, 249: 1.0, 250: 1.0, 256: 2.0, 257: 12.0, 258: 5.0, 259: 1.0, 260: 1.0, 261: 2.0, 262: 6.0, 264: 1.0, 265: 2.0, 266: 2.0, 267: 1.0, 269: 6.0, 270: 3.0, 271: 1.0, 272: 1.0, 274: 1.0, 275: 1.0, 280: 1.0, 281: 4.0, 284: 6.0, 285: 2.0, 288: 2.0, 289: 3.0, 295: 3.0, 297: 6.0, 300: 1.0, 301: 1.0, 302: 1.0, 305: 1.0, 307: 1.0, 308: 1.0, 314: 1.0, 318: 1.0, 319: 2.0, 320: 3.0, 321: 2.0, 328: 10.0, 329: 1.0, 330: 2.0, 332: 3.0, 336: 4.0, 338: 7.0, 339: 1.0, 345: 1.0, 346: 7.0, 347: 3.0, 350: 2.0, 353: 2.0, 354: 4.0, 363: 1.0, 364: 3.0, 367: 2.0, 368: 3.0, 369: 8.0, 370: 10.0, 375: 4.0, 377: 3.0, 378: 40.0, 380: 1.0, 381: 1.0, 382: 1.0, 383: 1.0, 385: 10.0, 390: 3.0, 391: 6.0, 392: 3.0, 393: 1.0, 395: 3.0, 397: 2.0, 401: 1.0, 403: 1.0, 404: 1.0, 405: 1.0, 409: 3.0, 413: 7.0, 414: 1.0, 417: 1.0, 418: 13.0, 419: 1.0, 425: 1.0, 426: 1.0, 427: 3.0, 428: 3.0, 429: 1.0, 430: 1.0, 431: 1.0, 432: 1.0, 437: 1.0, 441: 3.0, 442: 2.0, 443: 2.0, 444: 1.0, 447: 1.0, 448: 4.0, 454: 1.0, 456: 1.0, 457: 1.0, 465: 1.0, 471: 5.0, 472: 3.0, 473: 2.0, 475: 6.0, 476: 6.0, 480: 1.0, 484: 1.0, 487: 4.0, 489: 1.0, 490: 1.0, 491: 7.0, 492: 2.0, 494: 6.0, 498: 1.0, 499: 3.0, 502: 3.0, 505: 8.0, 506: 1.0, 507: 2.0, 508: 1.0, 509: 2.0, 511: 1.0, 513: 1.0, 514: 1.0, 517: 2.0, 518: 7.0, 521: 2.0, 525: 1.0, 526: 4.0, 532: 1.0, 538: 1.0, 542: 4.0, 546: 1.0, 547: 2.0, 548: 2.0, 549: 3.0, 552: 3.0, 553: 3.0, 566: 1.0, 567: 1.0, 569: 1.0, 570: 4.0, 572: 1.0, 576: 3.0, 577: 2.0, 579: 1.0, 582: 2.0, 589: 3.0, 590: 2.0, 593: 1.0, 595: 3.0, 600: 1.0, 603: 3.0, 604: 2.0, 605: 1.0, 606: 1.0, 610: 1.0, 618: 2.0, 625: 1.0, 630: 1.0, 635: 1.0, 637: 1.0, 638: 4.0, 640: 6.0, 641: 1.0, 643: 5.0, 645: 2.0, 648: 6.0, 649: 2.0, 651: 1.0, 652: 5.0, 653: 2.0, 654: 3.0, 656: 6.0, 658: 1.0, 659: 1.0, 660: 1.0, 661: 2.0, 670: 1.0, 673: 1.0, 677: 1.0, 679: 1.0, 680: 2.0, 687: 1.0, 690: 2.0, 693: 2.0, 696: 2.0, 697: 2.0, 699: 1.0, 701: 5.0, 702: 4.0, 705: 1.0, 714: 1.0, 715: 2.0, 718: 2.0, 719: 1.0, 721: 1.0, 723: 3.0, 724: 2.0, 726: 1.0, 729: 3.0, 737: 1.0, 741: 2.0, 742: 6.0, 744: 1.0, 746: 2.0, 748: 3.0, 752: 4.0, 754: 2.0, 755: 1.0, 756: 3.0, 757: 5.0, 762: 6.0, 765: 6.0, 767: 1.0, 771: 3.0, 779: 3.0, 782: 1.0, 785: 2.0, 786: 1.0, 787: 3.0, 801: 3.0, 805: 3.0, 809: 1.0, 812: 2.0, 813: 2.0, 820: 2.0, 822: 1.0, 823: 1.0, 824: 1.0, 825: 1.0, 826: 2.0, 828: 1.0, 829: 4.0, 834: 3.0, 835: 2.0, 840: 3.0, 841: 3.0, 844: 3.0, 845: 4.0, 846: 1.0, 847: 3.0, 848: 2.0, 851: 2.0, 853: 2.0, 854: 4.0, 859: 1.0, 861: 4.0, 863: 2.0, 864: 3.0, 865: 1.0, 869: 2.0, 877: 1.0, 878: 1.0, 882: 1.0, 885: 1.0, 888: 3.0, 890: 1.0, 896: 2.0, 898: 2.0, 900: 1.0, 907: 3.0, 909: 1.0, 913: 3.0, 916: 1.0, 918: 1.0, 920: 1.0, 922: 3.0, 929: 2.0, 930: 1.0, 931: 2.0, 932: 1.0, 935: 1.0, 936: 1.0, 940: 3.0, 941: 1.0, 946: 3.0, 948: 1.0, 952: 1.0, 956: 1.0, 958: 1.0, 965: 1.0, 966: 1.0, 967: 5.0, 968: 2.0, 969: 1.0, 970: 1.0, 974: 3.0, 979: 3.0, 980: 1.0, 981: 1.0, 983: 3.0, 992: 2.0, 995: 2.0, 997: 1.0, 998: 2.0, 1001: 2.0, 1006: 1.0, 1008: 1.0, 1013: 1.0, 1018: 3.0, 1027: 4.0, 1029: 1.0, 1043: 4.0, 1045: 1.0, 1049: 1.0, 1051: 1.0, 1053: 1.0, 1054: 1.0, 1055: 2.0, 1056: 2.0, 1057: 3.0, 1059: 1.0, 1068: 1.0, 1069: 2.0, 1071: 4.0, 1077: 2.0, 1078: 1.0, 1082: 1.0, 1083: 3.0, 1084: 1.0, 1085: 2.0, 1086: 2.0, 1094: 1.0, 1097: 1.0, 1101: 2.0, 1105: 4.0, 1108: 5.0, 1110: 1.0, 1119: 2.0, 1122: 1.0, 1123: 2.0, 1124: 4.0, 1135: 1.0, 1136: 1.0, 1141: 2.0, 1146: 1.0, 1153: 4.0, 1158: 2.0, 1160: 1.0, 1161: 3.0, 1163: 2.0, 1173: 1.0, 1180: 3.0, 1183: 3.0, 1188: 1.0, 1191: 2.0, 1192: 1.0, 1196: 2.0, 1199: 1.0, 1200: 2.0, 1210: 1.0, 1211: 2.0, 1214: 2.0, 1215: 1.0, 1222: 1.0, 1223: 1.0, 1226: 3.0, 1228: 1.0, 1229: 2.0, 1233: 1.0, 1238: 2.0, 1242: 2.0, 1243: 3.0, 1246: 2.0, 1247: 1.0, 1249: 4.0, 1254: 2.0, 1255: 1.0, 1262: 1.0, 1264: 1.0, 1268: 1.0, 1286: 1.0, 1301: 1.0, 1311: 1.0, 1315: 1.0, 1320: 1.0, 1322: 2.0, 1323: 1.0, 1325: 2.0, 1327: 2.0, 1329: 1.0, 1331: 3.0, 1334: 1.0, 1336: 1.0, 1343: 1.0, 1346: 2.0, 1349: 4.0, 1357: 1.0, 1358: 2.0, 1361: 1.0, 1367: 1.0, 1371: 2.0, 1379: 1.0, 1385: 1.0, 1390: 1.0, 1399: 1.0, 1408: 1.0, 1416: 1.0, 1418: 3.0, 1431: 2.0, 1433: 1.0, 1438: 1.0, 1442: 1.0, 1447: 1.0, 1448: 1.0, 1457: 1.0, 1460: 1.0, 1463: 1.0, 1465: 2.0, 1467: 1.0, 1472: 1.0, 1482: 2.0, 1489: 2.0, 1492: 1.0, 1494: 1.0, 1495: 1.0, 1503: 1.0, 1507: 1.0, 1511: 1.0, 1517: 2.0, 1529: 1.0, 1536: 1.0, 1537: 1.0, 1545: 1.0, 1548: 1.0, 1551: 2.0, 1554: 4.0, 1558: 1.0, 1560: 1.0, 1565: 1.0, 1574: 2.0, 1576: 1.0, 1578: 1.0, 1580: 2.0, 1581: 1.0, 1582: 1.0, 1584: 1.0, 1588: 7.0, 1597: 1.0, 1601: 1.0, 1602: 1.0, 1603: 1.0, 1605: 2.0, 1606: 1.0, 1607: 1.0, 1609: 3.0, 1612: 1.0, 1616: 1.0, 1618: 1.0, 1620: 1.0, 1623: 1.0, 1627: 1.0, 1630: 1.0, 1632: 1.0, 1633: 3.0, 1635: 3.0, 1638: 1.0, 1639: 1.0, 1642: 2.0, 1649: 3.0, 1650: 1.0, 1657: 1.0, 1661: 1.0, 1665: 2.0, 1670: 1.0, 1672: 1.0, 1674: 1.0, 1686: 1.0, 1688: 1.0, 1690: 4.0, 1700: 3.0, 1701: 1.0, 1702: 1.0, 1706: 3.0, 1707: 1.0, 1710: 2.0, 1712: 1.0, 1715: 1.0, 1718: 4.0, 1719: 2.0, 1726: 1.0, 1729: 1.0, 1735: 1.0, 1739: 1.0, 1746: 2.0, 1754: 2.0, 1756: 1.0, 1767: 5.0, 1773: 1.0, 1777: 3.0, 1783: 1.0, 1787: 2.0, 1795: 1.0, 1800: 1.0, 1801: 1.0, 1808: 1.0, 1813: 2.0, 1819: 5.0, 1821: 3.0, 1822: 1.0, 1827: 3.0, 1834: 6.0, 1836: 1.0, 1842: 1.0, 1845: 3.0, 1849: 2.0, 1859: 1.0, 1862: 2.0, 1864: 1.0, 1873: 1.0, 1876: 1.0, 1877: 4.0, 1879: 1.0, 1884: 1.0, 1890: 1.0, 1891: 2.0, 1904: 1.0, 1905: 2.0, 1909: 1.0, 1911: 1.0, 1913: 1.0, 1917: 3.0, 1918: 2.0, 1922: 1.0, 1936: 3.0, 1938: 3.0, 1939: 2.0, 1941: 2.0, 1942: 1.0, 1943: 2.0, 1953: 2.0, 1956: 1.0, 1961: 2.0, 1962: 1.0, 1963: 1.0, 1964: 2.0, 1965: 1.0, 1973: 2.0, 1979: 1.0, 1988: 2.0, 1991: 1.0, 1998: 1.0, 2000: 1.0, 2002: 2.0, 2005: 1.0, 2010: 1.0, 2019: 1.0, 2022: 1.0, 2026: 2.0, 2027: 1.0, 2032: 1.0, 2051: 1.0, 2052: 1.0, 2059: 1.0, 2065: 1.0, 2072: 1.0, 2080: 2.0, 2083: 1.0, 2086: 1.0, 2091: 2.0, 2098: 1.0, 2104: 1.0, 2107: 2.0, 2109: 1.0, 2110: 1.0, 2119: 1.0, 2122: 1.0, 2126: 1.0, 2128: 2.0, 2137: 1.0, 2142: 1.0, 2143: 1.0, 2154: 2.0, 2163: 1.0, 2165: 1.0, 2166: 1.0, 2177: 1.0, 2178: 1.0, 2179: 2.0, 2180: 3.0, 2181: 1.0, 2184: 1.0, 2195: 1.0, 2211: 1.0, 2212: 1.0, 2219: 2.0, 2228: 1.0, 2234: 2.0, 2240: 2.0, 2244: 1.0, 2245: 2.0, 2247: 1.0, 2253: 1.0, 2280: 1.0, 2283: 1.0, 2289: 1.0, 2298: 1.0, 2303: 2.0, 2308: 1.0, 2310: 1.0, 2311: 1.0, 2319: 1.0, 2322: 1.0, 2332: 4.0, 2333: 1.0, 2345: 1.0, 2350: 2.0, 2368: 1.0, 2370: 1.0, 2372: 2.0, 2380: 2.0, 2384: 3.0, 2403: 1.0, 2410: 1.0, 2415: 2.0, 2416: 1.0, 2418: 1.0, 2425: 1.0, 2427: 1.0, 2432: 2.0, 2436: 1.0, 2443: 1.0, 2447: 2.0, 2455: 2.0, 2466: 2.0, 2467: 2.0, 2471: 2.0, 2479: 2.0, 2480: 1.0, 2485: 1.0, 2489: 1.0, 2498: 1.0, 2499: 1.0, 2500: 1.0, 2509: 2.0, 2510: 2.0, 2514: 2.0, 2517: 1.0, 2519: 1.0, 2521: 1.0, 2535: 1.0, 2542: 2.0, 2550: 2.0, 2559: 1.0, 2566: 2.0, 2571: 1.0, 2574: 1.0, 2599: 1.0, 2601: 1.0, 2604: 2.0, 2612: 1.0, 2614: 1.0, 2615: 1.0, 2616: 2.0, 2617: 1.0, 2618: 4.0, 2621: 2.0, 2622: 3.0, 2642: 1.0, 2650: 1.0, 2652: 1.0, 2656: 1.0, 2661: 1.0, 2662: 1.0, 2669: 1.0, 2673: 2.0, 2683: 1.0, 2684: 1.0, 2686: 1.0, 2688: 2.0, 2691: 1.0, 2700: 1.0, 2710: 1.0, 2711: 1.0, 2730: 1.0, 2733: 1.0, 2741: 1.0, 2747: 2.0, 2751: 1.0, 2759: 1.0, 2773: 1.0, 2780: 2.0, 2788: 1.0, 2791: 1.0, 2797: 1.0, 2799: 1.0, 2805: 1.0, 2809: 2.0, 2822: 1.0, 2825: 1.0, 2852: 1.0, 2854: 1.0, 2858: 1.0, 2861: 1.0, 2877: 2.0, 2880: 1.0, 2894: 1.0, 2902: 1.0, 2909: 1.0, 2918: 1.0, 2923: 1.0, 2926: 1.0, 2930: 1.0, 2947: 1.0, 2962: 1.0, 2966: 1.0, 2974: 1.0, 2977: 2.0, 2978: 1.0, 2982: 1.0, 2988: 1.0, 2999: 1.0, 3000: 3.0, 3010: 1.0, 3019: 3.0, 3021: 1.0, 3043: 1.0, 3048: 2.0, 3058: 1.0, 3064: 1.0, 3065: 1.0, 3066: 1.0, 3067: 3.0, 3085: 1.0, 3093: 2.0, 3102: 1.0, 3105: 1.0, 3116: 1.0, 3132: 1.0, 3138: 1.0, 3155: 2.0, 3156: 1.0, 3167: 2.0, 3174: 1.0, 3177: 1.0, 3197: 1.0, 3223: 3.0, 3235: 2.0, 3238: 2.0, 3243: 1.0, 3247: 1.0, 3252: 2.0, 3254: 1.0, 3258: 1.0, 3283: 1.0, 3288: 1.0, 3296: 3.0, 3300: 1.0, 3301: 1.0, 3311: 1.0, 3312: 1.0, 3315: 1.0, 3340: 1.0, 3341: 1.0, 3345: 1.0, 3349: 1.0, 3352: 1.0, 3368: 1.0, 3371: 1.0, 3372: 1.0, 3375: 1.0, 3387: 1.0, 3389: 1.0, 3396: 1.0, 3401: 1.0, 3412: 1.0, 3432: 1.0, 3433: 1.0, 3439: 1.0, 3443: 1.0, 3457: 1.0, 3465: 1.0, 3468: 1.0, 3470: 1.0, 3478: 1.0, 3497: 1.0, 3499: 1.0, 3511: 1.0, 3520: 2.0, 3535: 1.0, 3557: 5.0, 3565: 1.0, 3577: 1.0, 3590: 1.0, 3595: 1.0, 3612: 1.0, 3623: 1.0, 3645: 1.0, 3647: 1.0, 3655: 1.0, 3658: 1.0, 3662: 1.0, 3673: 2.0, 3682: 1.0, 3695: 1.0, 3697: 1.0, 3701: 1.0, 3709: 1.0, 3712: 1.0, 3715: 1.0, 3741: 1.0, 3749: 1.0, 3753: 2.0, 3760: 1.0, 3766: 2.0, 3767: 1.0, 3776: 1.0, 3785: 1.0, 3797: 1.0, 3804: 1.0, 3807: 1.0, 3811: 1.0, 3813: 1.0, 3835: 1.0, 3852: 2.0, 3856: 1.0, 3859: 1.0, 3863: 4.0, 3869: 1.0, 3875: 1.0, 3876: 1.0, 3878: 1.0, 3905: 1.0, 3907: 1.0, 3910: 1.0, 3912: 1.0, 3915: 1.0, 3963: 1.0, 3977: 1.0, 3984: 2.0, 4028: 1.0, 4036: 1.0, 4040: 2.0, 4042: 1.0, 4046: 1.0, 4049: 1.0, 4062: 3.0, 4064: 1.0, 4065: 8.0, 4076: 1.0, 4101: 1.0, 4116: 1.0, 4131: 1.0, 4132: 1.0, 4156: 1.0, 4159: 1.0, 4160: 1.0, 4163: 1.0, 4178: 1.0, 4192: 1.0, 4193: 1.0, 4194: 1.0, 4241: 1.0, 4246: 3.0, 4256: 1.0, 4264: 1.0, 4268: 1.0, 4291: 1.0, 4295: 1.0, 4303: 1.0, 4307: 1.0, 4350: 1.0, 4357: 1.0, 4363: 1.0, 4368: 1.0, 4381: 1.0, 4392: 1.0, 4410: 1.0, 4424: 1.0, 4441: 1.0, 4465: 1.0, 4477: 1.0, 4478: 1.0, 4483: 1.0, 4484: 1.0, 4490: 2.0, 4519: 1.0, 4531: 1.0, 4537: 1.0, 4557: 1.0, 4562: 1.0, 4567: 1.0, 4580: 1.0, 4588: 1.0, 4599: 1.0, 4603: 1.0, 4616: 1.0, 4618: 1.0, 4641: 1.0, 4643: 1.0, 4662: 1.0, 4665: 1.0, 4673: 1.0, 4678: 1.0, 4687: 1.0, 4695: 1.0, 4696: 1.0, 4703: 1.0, 4706: 1.0, 4713: 1.0, 4717: 1.0, 4725: 1.0, 4729: 1.0, 4736: 1.0, 4746: 3.0, 4759: 1.0, 4777: 1.0, 4780: 1.0, 4782: 1.0, 4785: 1.0, 4786: 1.0, 4805: 1.0, 4820: 1.0, 4841: 1.0, 4842: 1.0, 4844: 1.0, 4868: 1.0, 4878: 1.0, 4881: 1.0, 4882: 1.0, 4913: 1.0, 4915: 1.0, 4924: 1.0, 4926: 1.0, 4935: 1.0, 4952: 1.0, 4954: 1.0, 4957: 1.0, 4958: 1.0, 4978: 1.0, 4998: 1.0, 5004: 1.0, 5019: 1.0, 5032: 1.0, 5039: 2.0, 5100: 1.0, 5105: 1.0, 5141: 1.0, 5149: 1.0, 5180: 1.0, 5187: 1.0, 5191: 1.0, 5206: 1.0, 5220: 2.0, 5262: 1.0, 5263: 1.0, 5266: 1.0, 5271: 1.0, 5274: 1.0, 5314: 1.0, 5320: 2.0, 5363: 1.0, 5411: 1.0, 5426: 2.0, 5457: 1.0, 5459: 1.0, 5504: 1.0, 5509: 1.0, 5513: 1.0, 5558: 1.0, 5572: 1.0, 5580: 1.0, 5590: 1.0, 5594: 1.0, 5628: 1.0, 5645: 1.0, 5674: 1.0, 5675: 2.0, 5697: 1.0, 5700: 1.0, 5774: 1.0, 5781: 1.0, 5807: 1.0, 5856: 1.0, 5858: 1.0, 5864: 1.0, 5898: 1.0, 5901: 1.0, 5906: 1.0, 5945: 1.0, 5971: 1.0, 5975: 1.0, 5986: 1.0, 5990: 1.0, 6005: 7.0, 6044: 1.0, 6070: 2.0, 6087: 1.0, 6112: 1.0, 6152: 2.0, 6191: 1.0, 6192: 2.0, 6195: 1.0, 6197: 1.0, 6200: 1.0, 6201: 1.0, 6257: 2.0, 6280: 1.0, 6295: 1.0, 6296: 1.0, 6316: 1.0, 6386: 1.0, 6390: 1.0, 6460: 1.0, 6469: 1.0, 6481: 7.0, 6495: 1.0, 6500: 1.0, 6509: 1.0, 6519: 1.0, 6545: 1.0, 6555: 1.0, 6556: 2.0, 6630: 1.0, 6637: 8.0, 6640: 1.0, 6644: 1.0, 6649: 1.0, 6675: 1.0, 6687: 1.0, 6694: 1.0, 6725: 1.0, 6757: 1.0, 6801: 1.0, 6918: 1.0, 6961: 2.0, 7042: 1.0, 7044: 1.0, 7186: 2.0, 7243: 1.0, 7275: 1.0, 7307: 1.0, 7332: 1.0, 7351: 1.0, 7361: 1.0, 7364: 1.0, 7381: 1.0, 7386: 1.0, 7388: 1.0, 7424: 1.0, 7434: 1.0, 7503: 1.0, 7546: 1.0, 7561: 1.0, 7575: 1.0, 7611: 1.0, 7655: 1.0, 7716: 1.0, 7727: 1.0, 7733: 1.0, 7756: 1.0, 7806: 1.0, 7829: 1.0, 7872: 1.0, 7956: 1.0, 7967: 1.0, 7972: 1.0, 7979: 1.0, 8020: 2.0, 8063: 1.0, 8147: 1.0, 8202: 1.0, 8207: 1.0, 8308: 1.0, 8350: 1.0, 8352: 1.0, 8400: 1.0, 8441: 2.0, 8457: 1.0, 8494: 2.0, 8503: 2.0, 8575: 1.0, 8672: 1.0, 8693: 1.0, 8708: 1.0, 8735: 1.0, 8780: 1.0, 8833: 1.0, 9004: 1.0, 9045: 2.0, 9101: 1.0, 9132: 1.0, 9146: 1.0, 9197: 1.0, 9218: 1.0, 9300: 1.0, 9315: 1.0, 9503: 1.0, 9537: 1.0, 9545: 1.0, 9560: 1.0, 9632: 1.0, 9673: 1.0, 9678: 1.0, 9757: 1.0, 9793: 1.0, 9835: 1.0, 9848: 1.0, 9871: 1.0, 9965: 1.0, 10002: 1.0, 10031: 1.0, 10105: 1.0, 10135: 1.0, 10264: 1.0, 10273: 1.0, 10379: 1.0, 10523: 1.0, 10606: 1.0, 10676: 1.0, 10722: 1.0, 10726: 2.0, 10985: 1.0, 11232: 1.0, 11245: 1.0, 11272: 1.0, 11298: 1.0, 11305: 1.0, 11392: 1.0, 11557: 1.0, 11572: 1.0, 11687: 1.0, 11730: 1.0, 11741: 1.0, 12016: 1.0, 12075: 1.0, 12101: 1.0, 12141: 1.0, 12317: 1.0, 12337: 1.0, 12346: 1.0, 12388: 1.0, 12520: 1.0, 12522: 1.0, 12896: 1.0, 13076: 2.0, 13078: 2.0, 13110: 2.0, 13182: 2.0, 13193: 1.0, 13279: 1.0, 13488: 1.0, 13511: 1.0, 13543: 1.0, 13646: 2.0, 13684: 1.0, 13854: 1.0, 13925: 1.0, 13929: 3.0, 13955: 1.0, 14106: 1.0, 14171: 1.0, 14459: 1.0, 14589: 4.0, 14636: 2.0, 14676: 1.0, 14695: 1.0, 14796: 1.0, 15049: 4.0, 15198: 1.0, 15222: 1.0, 15347: 1.0, 15366: 1.0, 15651: 1.0, 15678: 1.0, 15703: 1.0, 15729: 1.0, 15931: 1.0, 15932: 1.0, 15976: 1.0, 16011: 1.0, 16110: 1.0, 16539: 1.0, 16582: 1.0, 16635: 1.0, 16654: 1.0, 16676: 1.0, 16711: 1.0, 16733: 1.0, 16895: 1.0, 16963: 1.0, 17089: 1.0, 17221: 1.0, 18027: 1.0, 18192: 3.0, 18256: 1.0, 18345: 1.0, 18433: 1.0, 18459: 1.0, 18496: 1.0, 18505: 1.0, 18716: 1.0, 18856: 1.0, 18899: 1.0, 19177: 1.0, 19281: 1.0, 19301: 1.0, 19550: 1.0, 19651: 1.0, 19677: 1.0, 19779: 1.0, 20038: 1.0, 20229: 1.0, 20610: 1.0, 20964: 1.0, 21532: 1.0, 21753: 1.0, 22134: 1.0, 22610: 1.0, 22756: 1.0, 22823: 1.0, 22864: 1.0, 23064: 1.0, 23123: 1.0, 23209: 1.0, 23306: 1.0, 23704: 1.0, 23811: 1.0, 23962: 1.0, 23968: 1.0, 24991: 1.0, 25565: 1.0, 25640: 1.0, 25681: 1.0, 26077: 1.0, 26082: 1.0, 26093: 1.0, 26151: 1.0, 26408: 1.0, 26726: 1.0, 26942: 1.0, 27218: 1.0, 27276: 1.0, 27954: 1.0, 28379: 1.0, 29266: 1.0, 29849: 1.0, 30327: 1.0, 30386: 1.0, 30736: 1.0, 30967: 1.0, 31266: 1.0, 31829: 1.0, 31903: 1.0, 32314: 1.0, 32743: 1.0, 33399: 1.0, 33406: 1.0, 33752: 1.0, 33753: 1.0, 33995: 1.0, 34120: 1.0, 34194: 1.0, 35380: 1.0, 36103: 1.0, 37954: 1.0, 38297: 1.0, 40528: 1.0, 43037: 1.0, 43204: 1.0, 46557: 1.0, 48578: 1.0, 48707: 1.0, 49928: 1.0, 49954: 1.0, 53984: 1.0, 54806: 1.0, 55743: 1.0, 57551: 1.0, 63018: 1.0, 63129: 1.0, 67337: 1.0, 72540: 1.0, 74912: 1.0, 75081: 1.0, 83117: 1.0, 93351: 1.0, 96240: 1.0})),\n",
       " ('16265',\n",
       "  SparseVector(100000, {0: 7.0, 1: 16.0, 2: 11.0, 3: 10.0, 4: 30.0, 5: 5.0, 7: 35.0, 8: 2.0, 9: 11.0, 11: 65.0, 12: 16.0, 13: 12.0, 14: 2.0, 15: 7.0, 16: 1.0, 17: 10.0, 18: 9.0, 19: 13.0, 20: 8.0, 21: 9.0, 22: 3.0, 23: 13.0, 24: 4.0, 25: 7.0, 26: 6.0, 27: 3.0, 28: 3.0, 29: 3.0, 30: 30.0, 31: 12.0, 32: 8.0, 34: 6.0, 35: 2.0, 36: 3.0, 37: 5.0, 38: 22.0, 39: 13.0, 40: 7.0, 41: 3.0, 42: 4.0, 43: 15.0, 44: 3.0, 45: 7.0, 46: 7.0, 48: 5.0, 49: 20.0, 50: 6.0, 52: 2.0, 55: 1.0, 56: 14.0, 57: 13.0, 58: 2.0, 59: 5.0, 61: 1.0, 62: 4.0, 63: 13.0, 64: 2.0, 65: 10.0, 66: 13.0, 67: 1.0, 68: 3.0, 69: 6.0, 70: 3.0, 71: 2.0, 72: 1.0, 74: 2.0, 75: 5.0, 76: 3.0, 77: 1.0, 78: 1.0, 79: 3.0, 80: 1.0, 81: 9.0, 82: 2.0, 83: 4.0, 84: 1.0, 85: 1.0, 86: 1.0, 87: 6.0, 90: 19.0, 92: 2.0, 93: 3.0, 94: 4.0, 96: 5.0, 97: 1.0, 98: 2.0, 99: 7.0, 100: 1.0, 102: 1.0, 103: 2.0, 104: 5.0, 105: 1.0, 106: 13.0, 107: 1.0, 109: 2.0, 111: 5.0, 114: 2.0, 115: 1.0, 117: 2.0, 118: 8.0, 119: 3.0, 120: 12.0, 121: 2.0, 122: 2.0, 123: 2.0, 125: 15.0, 126: 4.0, 128: 3.0, 129: 1.0, 130: 3.0, 131: 7.0, 132: 3.0, 133: 4.0, 134: 7.0, 135: 1.0, 137: 1.0, 138: 2.0, 139: 1.0, 140: 1.0, 141: 5.0, 142: 3.0, 144: 2.0, 145: 1.0, 148: 2.0, 149: 4.0, 150: 2.0, 151: 1.0, 152: 3.0, 153: 8.0, 154: 2.0, 158: 2.0, 159: 3.0, 160: 2.0, 161: 7.0, 163: 5.0, 164: 1.0, 165: 4.0, 166: 3.0, 167: 3.0, 168: 3.0, 172: 6.0, 174: 1.0, 176: 8.0, 177: 4.0, 178: 2.0, 179: 3.0, 180: 4.0, 182: 6.0, 184: 2.0, 185: 3.0, 187: 4.0, 188: 5.0, 189: 2.0, 191: 1.0, 193: 1.0, 194: 3.0, 195: 1.0, 196: 1.0, 198: 1.0, 200: 8.0, 201: 1.0, 202: 1.0, 208: 1.0, 209: 1.0, 210: 2.0, 211: 3.0, 213: 2.0, 216: 1.0, 217: 4.0, 221: 1.0, 222: 1.0, 223: 1.0, 224: 8.0, 226: 1.0, 227: 1.0, 229: 1.0, 230: 3.0, 232: 1.0, 233: 1.0, 236: 8.0, 238: 7.0, 240: 2.0, 241: 1.0, 242: 1.0, 243: 7.0, 244: 1.0, 245: 2.0, 246: 4.0, 247: 1.0, 248: 1.0, 249: 2.0, 250: 4.0, 253: 4.0, 255: 1.0, 257: 5.0, 258: 3.0, 261: 4.0, 262: 4.0, 263: 6.0, 264: 2.0, 265: 1.0, 266: 1.0, 267: 2.0, 268: 1.0, 269: 1.0, 271: 4.0, 272: 2.0, 273: 1.0, 274: 1.0, 275: 1.0, 276: 3.0, 279: 2.0, 281: 2.0, 284: 6.0, 285: 2.0, 288: 1.0, 289: 3.0, 290: 1.0, 297: 6.0, 299: 2.0, 300: 1.0, 301: 1.0, 306: 1.0, 307: 1.0, 308: 1.0, 311: 3.0, 312: 1.0, 315: 9.0, 318: 1.0, 321: 2.0, 324: 3.0, 325: 1.0, 328: 10.0, 329: 5.0, 330: 4.0, 332: 5.0, 333: 1.0, 334: 1.0, 337: 6.0, 338: 7.0, 339: 5.0, 342: 2.0, 343: 2.0, 344: 1.0, 346: 4.0, 347: 1.0, 349: 2.0, 350: 1.0, 351: 1.0, 352: 1.0, 353: 1.0, 354: 2.0, 355: 1.0, 361: 4.0, 363: 1.0, 364: 3.0, 368: 15.0, 369: 8.0, 370: 10.0, 372: 1.0, 374: 3.0, 375: 3.0, 378: 3.0, 380: 7.0, 382: 1.0, 383: 1.0, 385: 3.0, 389: 2.0, 390: 3.0, 391: 6.0, 392: 1.0, 393: 1.0, 395: 3.0, 397: 2.0, 398: 12.0, 400: 1.0, 403: 3.0, 405: 1.0, 409: 8.0, 411: 3.0, 413: 7.0, 414: 2.0, 417: 2.0, 418: 1.0, 424: 3.0, 425: 1.0, 426: 1.0, 428: 1.0, 429: 2.0, 430: 1.0, 432: 1.0, 433: 3.0, 437: 1.0, 440: 6.0, 442: 1.0, 443: 2.0, 446: 2.0, 451: 8.0, 453: 1.0, 454: 1.0, 455: 4.0, 456: 1.0, 464: 1.0, 467: 2.0, 468: 13.0, 470: 4.0, 472: 3.0, 475: 6.0, 476: 4.0, 477: 4.0, 480: 1.0, 487: 1.0, 491: 7.0, 492: 4.0, 494: 6.0, 497: 1.0, 499: 4.0, 501: 1.0, 502: 3.0, 505: 8.0, 507: 1.0, 508: 1.0, 509: 2.0, 512: 2.0, 513: 1.0, 516: 1.0, 517: 1.0, 518: 7.0, 519: 13.0, 520: 3.0, 524: 1.0, 525: 1.0, 526: 2.0, 530: 2.0, 533: 1.0, 534: 6.0, 541: 1.0, 542: 2.0, 543: 1.0, 544: 2.0, 545: 1.0, 547: 2.0, 553: 1.0, 554: 2.0, 557: 1.0, 558: 1.0, 562: 1.0, 566: 1.0, 567: 3.0, 569: 2.0, 570: 3.0, 577: 2.0, 582: 4.0, 589: 3.0, 590: 1.0, 595: 1.0, 596: 2.0, 597: 2.0, 603: 2.0, 604: 3.0, 605: 1.0, 606: 1.0, 610: 5.0, 614: 7.0, 617: 2.0, 618: 2.0, 625: 2.0, 628: 1.0, 629: 1.0, 633: 2.0, 634: 1.0, 636: 1.0, 638: 1.0, 640: 6.0, 641: 1.0, 642: 1.0, 645: 2.0, 646: 1.0, 648: 6.0, 649: 2.0, 652: 6.0, 654: 3.0, 656: 6.0, 658: 3.0, 660: 1.0, 661: 1.0, 666: 1.0, 670: 1.0, 672: 2.0, 673: 1.0, 680: 2.0, 687: 1.0, 696: 3.0, 697: 2.0, 701: 5.0, 702: 3.0, 706: 1.0, 708: 2.0, 714: 1.0, 718: 2.0, 723: 3.0, 726: 1.0, 727: 1.0, 728: 1.0, 733: 1.0, 737: 1.0, 739: 2.0, 742: 6.0, 744: 4.0, 745: 1.0, 746: 2.0, 748: 1.0, 749: 1.0, 751: 1.0, 752: 4.0, 753: 1.0, 754: 1.0, 756: 3.0, 757: 5.0, 761: 1.0, 763: 1.0, 765: 4.0, 767: 1.0, 768: 1.0, 770: 1.0, 771: 3.0, 779: 3.0, 785: 2.0, 788: 2.0, 790: 1.0, 794: 2.0, 795: 7.0, 799: 1.0, 801: 3.0, 804: 5.0, 805: 9.0, 806: 1.0, 809: 1.0, 813: 1.0, 820: 1.0, 822: 1.0, 823: 1.0, 826: 1.0, 828: 1.0, 829: 3.0, 831: 1.0, 833: 2.0, 835: 2.0, 836: 1.0, 837: 2.0, 841: 3.0, 843: 1.0, 844: 6.0, 845: 4.0, 846: 1.0, 848: 1.0, 850: 2.0, 853: 1.0, 854: 5.0, 859: 1.0, 861: 1.0, 862: 1.0, 865: 2.0, 871: 1.0, 876: 4.0, 877: 1.0, 878: 1.0, 889: 1.0, 894: 1.0, 896: 1.0, 900: 1.0, 904: 1.0, 907: 3.0, 908: 3.0, 909: 2.0, 916: 1.0, 922: 3.0, 926: 2.0, 929: 2.0, 930: 1.0, 931: 1.0, 932: 3.0, 933: 1.0, 935: 1.0, 936: 1.0, 941: 1.0, 943: 1.0, 946: 3.0, 948: 1.0, 950: 2.0, 952: 2.0, 953: 1.0, 954: 1.0, 966: 1.0, 967: 4.0, 968: 2.0, 969: 4.0, 971: 1.0, 973: 1.0, 977: 1.0, 981: 1.0, 983: 1.0, 985: 1.0, 991: 1.0, 992: 1.0, 994: 3.0, 995: 9.0, 997: 3.0, 998: 3.0, 1000: 2.0, 1003: 1.0, 1006: 3.0, 1009: 1.0, 1012: 2.0, 1015: 1.0, 1016: 1.0, 1017: 1.0, 1018: 3.0, 1025: 3.0, 1027: 4.0, 1029: 1.0, 1030: 2.0, 1032: 1.0, 1038: 3.0, 1041: 1.0, 1043: 4.0, 1046: 1.0, 1048: 1.0, 1051: 3.0, 1052: 1.0, 1053: 3.0, 1054: 1.0, 1055: 1.0, 1056: 2.0, 1057: 2.0, 1058: 1.0, 1059: 1.0, 1060: 1.0, 1065: 5.0, 1067: 1.0, 1071: 1.0, 1076: 1.0, 1077: 3.0, 1078: 2.0, 1082: 1.0, 1083: 3.0, 1086: 3.0, 1092: 1.0, 1093: 4.0, 1095: 1.0, 1097: 1.0, 1099: 2.0, 1101: 2.0, 1105: 4.0, 1107: 1.0, 1108: 3.0, 1114: 2.0, 1119: 2.0, 1123: 1.0, 1124: 4.0, 1126: 1.0, 1127: 1.0, 1129: 1.0, 1133: 1.0, 1134: 1.0, 1138: 2.0, 1141: 2.0, 1153: 4.0, 1154: 1.0, 1155: 4.0, 1156: 4.0, 1158: 2.0, 1161: 2.0, 1168: 8.0, 1180: 3.0, 1181: 1.0, 1183: 1.0, 1191: 2.0, 1193: 1.0, 1194: 1.0, 1196: 2.0, 1199: 1.0, 1200: 7.0, 1201: 1.0, 1207: 1.0, 1208: 2.0, 1210: 1.0, 1214: 2.0, 1215: 1.0, 1220: 1.0, 1223: 1.0, 1228: 2.0, 1229: 2.0, 1230: 1.0, 1231: 1.0, 1233: 2.0, 1238: 1.0, 1242: 2.0, 1243: 1.0, 1247: 1.0, 1254: 2.0, 1261: 1.0, 1262: 1.0, 1265: 1.0, 1268: 1.0, 1274: 1.0, 1284: 1.0, 1286: 1.0, 1289: 3.0, 1294: 1.0, 1295: 1.0, 1296: 1.0, 1299: 1.0, 1308: 1.0, 1311: 1.0, 1313: 1.0, 1315: 1.0, 1316: 3.0, 1323: 1.0, 1324: 1.0, 1326: 5.0, 1331: 1.0, 1335: 1.0, 1336: 1.0, 1337: 1.0, 1338: 1.0, 1342: 3.0, 1344: 2.0, 1346: 2.0, 1349: 4.0, 1351: 1.0, 1353: 1.0, 1355: 3.0, 1357: 1.0, 1358: 2.0, 1359: 1.0, 1361: 1.0, 1368: 2.0, 1371: 2.0, 1379: 1.0, 1381: 1.0, 1388: 1.0, 1395: 2.0, 1399: 1.0, 1401: 2.0, 1416: 2.0, 1418: 2.0, 1422: 1.0, 1426: 1.0, 1429: 1.0, 1431: 1.0, 1442: 1.0, 1443: 1.0, 1444: 2.0, 1446: 1.0, 1457: 1.0, 1460: 1.0, 1465: 2.0, 1466: 3.0, 1467: 1.0, 1468: 2.0, 1472: 1.0, 1478: 1.0, 1489: 2.0, 1490: 1.0, 1492: 2.0, 1494: 3.0, 1495: 1.0, 1500: 1.0, 1503: 1.0, 1507: 1.0, 1517: 2.0, 1518: 1.0, 1531: 1.0, 1537: 1.0, 1538: 2.0, 1545: 1.0, 1548: 2.0, 1551: 2.0, 1558: 3.0, 1563: 1.0, 1569: 1.0, 1574: 1.0, 1580: 1.0, 1581: 1.0, 1587: 1.0, 1589: 3.0, 1593: 1.0, 1595: 1.0, 1598: 2.0, 1605: 1.0, 1606: 1.0, 1607: 1.0, 1610: 1.0, 1612: 1.0, 1616: 1.0, 1618: 1.0, 1619: 1.0, 1623: 1.0, 1627: 1.0, 1630: 1.0, 1632: 1.0, 1633: 2.0, 1635: 3.0, 1639: 2.0, 1642: 2.0, 1644: 1.0, 1645: 1.0, 1647: 3.0, 1649: 3.0, 1666: 1.0, 1675: 2.0, 1677: 1.0, 1678: 1.0, 1686: 4.0, 1688: 1.0, 1689: 1.0, 1690: 3.0, 1695: 1.0, 1699: 1.0, 1700: 3.0, 1701: 1.0, 1705: 5.0, 1706: 3.0, 1710: 3.0, 1714: 3.0, 1719: 1.0, 1722: 1.0, 1726: 1.0, 1729: 3.0, 1730: 3.0, 1734: 1.0, 1735: 1.0, 1742: 2.0, 1744: 3.0, 1746: 1.0, 1747: 2.0, 1756: 1.0, 1772: 2.0, 1773: 1.0, 1777: 3.0, 1782: 3.0, 1783: 1.0, 1785: 1.0, 1787: 1.0, 1790: 1.0, 1795: 1.0, 1800: 1.0, 1804: 1.0, 1808: 1.0, 1813: 2.0, 1815: 1.0, 1821: 3.0, 1842: 1.0, 1844: 1.0, 1845: 3.0, 1849: 2.0, 1851: 1.0, 1856: 1.0, 1859: 1.0, 1860: 1.0, 1862: 2.0, 1871: 1.0, 1874: 1.0, 1876: 1.0, 1879: 1.0, 1889: 1.0, 1890: 1.0, 1891: 2.0, 1897: 1.0, 1904: 1.0, 1905: 1.0, 1909: 1.0, 1911: 1.0, 1912: 1.0, 1913: 1.0, 1917: 1.0, 1918: 1.0, 1935: 4.0, 1937: 1.0, 1939: 2.0, 1941: 3.0, 1942: 1.0, 1948: 1.0, 1961: 2.0, 1963: 1.0, 1964: 1.0, 1966: 1.0, 1970: 3.0, 1977: 1.0, 1982: 1.0, 1990: 1.0, 1991: 1.0, 1996: 1.0, 1998: 1.0, 2000: 1.0, 2001: 6.0, 2005: 1.0, 2006: 1.0, 2010: 2.0, 2018: 1.0, 2019: 1.0, 2021: 1.0, 2032: 3.0, 2033: 1.0, 2045: 1.0, 2051: 1.0, 2059: 1.0, 2072: 2.0, 2082: 1.0, 2083: 1.0, 2102: 1.0, 2109: 1.0, 2110: 1.0, 2111: 1.0, 2116: 2.0, 2119: 1.0, 2122: 1.0, 2124: 3.0, 2125: 1.0, 2130: 1.0, 2137: 1.0, 2142: 1.0, 2145: 1.0, 2151: 2.0, 2154: 2.0, 2155: 1.0, 2163: 1.0, 2169: 2.0, 2178: 1.0, 2179: 2.0, 2181: 3.0, 2183: 1.0, 2184: 1.0, 2196: 1.0, 2197: 1.0, 2204: 1.0, 2211: 1.0, 2219: 2.0, 2220: 1.0, 2234: 2.0, 2240: 2.0, 2253: 1.0, 2254: 1.0, 2261: 1.0, 2263: 1.0, 2273: 1.0, 2280: 1.0, 2296: 1.0, 2297: 2.0, 2298: 1.0, 2303: 1.0, 2304: 2.0, 2306: 1.0, 2316: 1.0, 2318: 3.0, 2334: 2.0, 2348: 1.0, 2366: 1.0, 2368: 1.0, 2370: 1.0, 2372: 2.0, 2374: 5.0, 2380: 2.0, 2385: 1.0, 2389: 2.0, 2390: 1.0, 2393: 1.0, 2394: 1.0, 2396: 1.0, 2410: 1.0, 2411: 1.0, 2415: 2.0, 2418: 1.0, 2419: 2.0, 2425: 1.0, 2429: 1.0, 2432: 2.0, 2436: 3.0, 2441: 1.0, 2445: 1.0, 2447: 2.0, 2448: 1.0, 2453: 3.0, 2455: 2.0, 2466: 2.0, 2467: 2.0, 2479: 2.0, 2480: 1.0, 2484: 2.0, 2485: 1.0, 2487: 1.0, 2492: 2.0, 2499: 1.0, 2502: 1.0, 2503: 3.0, 2509: 2.0, 2511: 1.0, 2514: 2.0, 2532: 1.0, 2542: 2.0, 2550: 2.0, 2565: 1.0, 2568: 1.0, 2569: 1.0, 2571: 1.0, 2572: 5.0, 2573: 1.0, 2574: 1.0, 2578: 2.0, 2585: 1.0, 2588: 1.0, 2589: 1.0, 2592: 1.0, 2596: 1.0, 2599: 1.0, 2601: 1.0, 2604: 2.0, 2608: 1.0, 2609: 4.0, 2614: 1.0, 2616: 2.0, 2617: 1.0, 2618: 1.0, 2622: 1.0, 2632: 1.0, 2633: 2.0, 2634: 1.0, 2638: 3.0, 2642: 1.0, 2655: 2.0, 2656: 1.0, 2661: 1.0, 2662: 1.0, 2673: 2.0, 2681: 1.0, 2682: 1.0, 2683: 1.0, 2684: 1.0, 2688: 2.0, 2702: 1.0, 2708: 1.0, 2710: 1.0, 2733: 1.0, 2741: 1.0, 2751: 1.0, 2752: 1.0, 2773: 1.0, 2774: 1.0, 2790: 4.0, 2799: 1.0, 2805: 1.0, 2809: 1.0, 2814: 1.0, 2825: 1.0, 2828: 1.0, 2829: 1.0, 2840: 3.0, 2843: 1.0, 2852: 1.0, 2877: 2.0, 2892: 4.0, 2894: 1.0, 2897: 2.0, 2907: 2.0, 2920: 1.0, 2924: 1.0, 2928: 1.0, 2933: 1.0, 2947: 1.0, 2962: 1.0, 2979: 1.0, 2980: 1.0, 2982: 1.0, 2986: 1.0, 2988: 1.0, 3000: 1.0, 3003: 1.0, 3008: 2.0, 3011: 2.0, 3014: 1.0, 3019: 2.0, 3021: 1.0, 3056: 1.0, 3057: 1.0, 3058: 2.0, 3065: 1.0, 3067: 1.0, 3072: 1.0, 3076: 1.0, 3094: 2.0, 3095: 1.0, 3121: 1.0, 3129: 2.0, 3132: 1.0, 3138: 1.0, 3142: 1.0, 3154: 1.0, 3155: 1.0, 3156: 1.0, 3157: 1.0, 3163: 1.0, 3173: 1.0, 3183: 2.0, 3216: 2.0, 3221: 1.0, 3233: 2.0, 3237: 2.0, 3238: 1.0, 3243: 1.0, 3252: 2.0, 3255: 1.0, 3258: 1.0, 3264: 1.0, 3275: 3.0, 3278: 1.0, 3288: 1.0, 3300: 1.0, 3305: 1.0, 3311: 1.0, 3315: 1.0, 3320: 1.0, 3323: 1.0, 3332: 5.0, 3340: 1.0, 3345: 2.0, 3349: 1.0, 3352: 1.0, 3363: 1.0, 3368: 1.0, 3372: 1.0, 3375: 1.0, 3384: 1.0, 3389: 2.0, 3398: 2.0, 3412: 1.0, 3427: 1.0, 3434: 1.0, 3439: 1.0, 3440: 2.0, 3442: 1.0, 3443: 1.0, 3445: 2.0, 3448: 1.0, 3454: 1.0, 3457: 1.0, 3468: 2.0, 3470: 1.0, 3472: 1.0, 3473: 2.0, 3474: 1.0, 3478: 1.0, 3482: 1.0, 3484: 1.0, 3505: 1.0, 3511: 1.0, 3516: 1.0, 3528: 1.0, 3563: 1.0, 3564: 2.0, 3565: 1.0, 3570: 1.0, 3578: 1.0, 3590: 1.0, 3591: 2.0, 3592: 1.0, 3595: 1.0, 3597: 1.0, 3601: 1.0, 3605: 1.0, 3612: 1.0, 3615: 1.0, 3623: 1.0, 3638: 1.0, 3639: 1.0, 3641: 1.0, 3644: 1.0, 3645: 1.0, 3652: 1.0, 3655: 1.0, 3666: 1.0, 3687: 1.0, 3691: 3.0, 3707: 1.0, 3709: 1.0, 3710: 1.0, 3713: 1.0, 3715: 1.0, 3741: 1.0, 3766: 1.0, 3776: 1.0, 3793: 2.0, 3804: 1.0, 3816: 1.0, 3818: 1.0, 3835: 1.0, 3843: 1.0, 3852: 2.0, 3857: 2.0, 3859: 1.0, 3863: 1.0, 3867: 1.0, 3874: 2.0, 3878: 1.0, 3883: 2.0, 3907: 1.0, 3910: 1.0, 3911: 1.0, 3912: 1.0, 3916: 3.0, 3947: 1.0, 3965: 1.0, 3983: 1.0, 3987: 1.0, 3988: 1.0, 3998: 1.0, 4002: 9.0, 4004: 1.0, 4024: 1.0, 4026: 1.0, 4033: 1.0, 4036: 1.0, 4046: 1.0, 4060: 2.0, 4065: 4.0, 4076: 1.0, 4083: 1.0, 4098: 2.0, 4101: 1.0, 4144: 1.0, 4145: 2.0, 4156: 1.0, 4163: 1.0, 4175: 1.0, 4187: 1.0, 4189: 1.0, 4192: 1.0, 4194: 1.0, 4197: 1.0, 4214: 3.0, 4231: 1.0, 4234: 4.0, 4236: 1.0, 4237: 1.0, 4245: 1.0, 4248: 2.0, 4249: 1.0, 4256: 1.0, 4270: 1.0, 4274: 1.0, 4280: 2.0, 4281: 1.0, 4331: 2.0, 4332: 2.0, 4350: 1.0, 4357: 1.0, 4381: 1.0, 4391: 1.0, 4397: 2.0, 4410: 1.0, 4441: 1.0, 4457: 1.0, 4465: 1.0, 4489: 2.0, 4490: 1.0, 4492: 1.0, 4494: 1.0, 4499: 1.0, 4519: 1.0, 4531: 1.0, 4533: 1.0, 4534: 1.0, 4537: 1.0, 4557: 1.0, 4562: 1.0, 4564: 1.0, 4567: 1.0, 4578: 1.0, 4580: 1.0, 4585: 1.0, 4594: 1.0, 4595: 1.0, 4603: 1.0, 4612: 1.0, 4637: 2.0, 4638: 1.0, 4643: 1.0, 4667: 1.0, 4676: 1.0, 4678: 1.0, 4690: 1.0, 4696: 1.0, 4706: 1.0, 4713: 1.0, 4722: 1.0, 4723: 2.0, 4725: 1.0, 4736: 1.0, 4753: 7.0, 4759: 1.0, 4774: 11.0, 4777: 1.0, 4779: 1.0, 4782: 1.0, 4785: 1.0, 4786: 1.0, 4800: 18.0, 4805: 4.0, 4811: 1.0, 4816: 1.0, 4817: 1.0, 4820: 1.0, 4824: 1.0, 4831: 1.0, 4841: 1.0, 4842: 1.0, 4844: 1.0, 4855: 1.0, 4859: 1.0, 4863: 1.0, 4868: 1.0, 4870: 1.0, 4878: 1.0, 4881: 1.0, 4882: 1.0, 4915: 1.0, 4933: 1.0, 4935: 1.0, 4938: 1.0, 4951: 1.0, 4952: 1.0, 4953: 2.0, 4954: 1.0, 4974: 2.0, 4978: 1.0, 4983: 1.0, 4990: 2.0, 4996: 1.0, 4998: 1.0, 5004: 6.0, 5015: 1.0, 5019: 1.0, 5032: 1.0, 5045: 1.0, 5062: 1.0, 5063: 1.0, 5081: 1.0, 5085: 1.0, 5111: 1.0, 5112: 1.0, 5127: 1.0, 5128: 3.0, 5146: 1.0, 5147: 10.0, 5176: 1.0, 5200: 1.0, 5212: 2.0, 5226: 1.0, 5267: 4.0, 5269: 1.0, 5288: 1.0, 5296: 2.0, 5306: 1.0, 5307: 1.0, 5309: 1.0, 5315: 2.0, 5316: 1.0, 5324: 1.0, 5333: 1.0, 5337: 2.0, 5338: 1.0, 5346: 1.0, 5358: 2.0, 5363: 1.0, 5368: 1.0, 5377: 1.0, 5382: 1.0, 5415: 2.0, 5438: 1.0, 5439: 1.0, 5440: 1.0, 5476: 1.0, 5493: 1.0, 5503: 1.0, 5513: 1.0, 5520: 1.0, 5532: 1.0, 5544: 1.0, 5587: 1.0, 5596: 1.0, 5611: 1.0, 5628: 1.0, 5632: 1.0, 5641: 3.0, 5652: 1.0, 5677: 1.0, 5690: 1.0, 5728: 3.0, 5730: 1.0, 5764: 3.0, 5782: 1.0, 5813: 1.0, 5833: 1.0, 5841: 1.0, 5842: 1.0, 5851: 1.0, 5855: 1.0, 5868: 1.0, 5877: 1.0, 5881: 1.0, 5922: 1.0, 5923: 1.0, 5928: 3.0, 5934: 1.0, 5946: 2.0, 5951: 1.0, 5966: 1.0, 6007: 1.0, 6015: 1.0, 6022: 1.0, 6028: 1.0, 6040: 1.0, 6058: 1.0, 6063: 1.0, 6064: 1.0, 6089: 1.0, 6090: 1.0, 6100: 1.0, 6135: 1.0, 6177: 2.0, 6195: 1.0, 6247: 1.0, 6262: 1.0, 6301: 2.0, 6311: 1.0, 6321: 1.0, 6322: 1.0, 6324: 1.0, 6340: 1.0, 6354: 1.0, 6361: 1.0, 6383: 1.0, 6397: 1.0, 6400: 1.0, 6404: 1.0, 6411: 1.0, 6456: 1.0, 6473: 2.0, 6487: 1.0, 6493: 1.0, 6494: 1.0, 6495: 2.0, 6510: 2.0, 6515: 1.0, 6534: 1.0, 6537: 1.0, 6546: 2.0, 6555: 1.0, 6580: 1.0, 6590: 1.0, 6597: 1.0, 6625: 2.0, 6663: 1.0, 6666: 1.0, 6670: 1.0, 6675: 1.0, 6725: 1.0, 6739: 1.0, 6750: 1.0, 6774: 4.0, 6783: 1.0, 6841: 2.0, 6864: 6.0, 6872: 1.0, 6891: 1.0, 6907: 2.0, 6912: 1.0, 6913: 1.0, 6924: 1.0, 6947: 1.0, 6951: 1.0, 6954: 1.0, 6957: 1.0, 6962: 1.0, 6977: 1.0, 7020: 1.0, 7066: 1.0, 7071: 2.0, 7106: 1.0, 7112: 1.0, 7118: 2.0, 7140: 1.0, 7150: 1.0, 7180: 1.0, 7187: 1.0, 7194: 2.0, 7201: 1.0, 7211: 1.0, 7214: 1.0, 7233: 1.0, 7235: 2.0, 7237: 1.0, 7242: 1.0, 7273: 1.0, 7302: 1.0, 7352: 1.0, 7357: 1.0, 7379: 1.0, 7416: 1.0, 7428: 1.0, 7435: 1.0, 7455: 1.0, 7537: 1.0, 7585: 1.0, 7590: 1.0, 7603: 1.0, 7680: 2.0, 7709: 1.0, 7724: 1.0, 7738: 1.0, 7745: 1.0, 7757: 1.0, 7763: 1.0, 7804: 1.0, 7813: 1.0, 7819: 1.0, 7905: 1.0, 7911: 1.0, 7958: 1.0, 7972: 2.0, 7979: 1.0, 8017: 1.0, 8030: 1.0, 8071: 1.0, 8076: 1.0, 8077: 2.0, 8096: 1.0, 8122: 1.0, 8129: 1.0, 8145: 1.0, 8146: 1.0, 8183: 1.0, 8211: 1.0, 8224: 1.0, 8226: 1.0, 8272: 1.0, 8277: 1.0, 8337: 1.0, 8351: 1.0, 8361: 1.0, 8371: 1.0, 8390: 1.0, 8409: 1.0, 8412: 1.0, 8413: 2.0, 8417: 1.0, 8443: 1.0, 8447: 1.0, 8465: 1.0, 8482: 2.0, 8503: 1.0, 8559: 1.0, 8579: 1.0, 8587: 1.0, 8614: 1.0, 8615: 1.0, 8632: 1.0, 8657: 1.0, 8675: 1.0, 8689: 1.0, 8696: 2.0, 8712: 1.0, 8715: 1.0, 8732: 1.0, 8764: 1.0, 8766: 1.0, 8796: 1.0, 8800: 1.0, 8814: 1.0, 8828: 1.0, 8935: 1.0, 8940: 1.0, 9039: 1.0, 9040: 1.0, 9050: 1.0, 9057: 1.0, 9059: 2.0, 9070: 1.0, 9088: 1.0, 9157: 1.0, 9212: 1.0, 9247: 1.0, 9264: 1.0, 9272: 1.0, 9273: 4.0, 9302: 1.0, 9389: 1.0, 9433: 1.0, 9437: 1.0, 9453: 1.0, 9460: 2.0, 9471: 1.0, 9495: 1.0, 9503: 1.0, 9514: 1.0, 9530: 1.0, 9547: 1.0, 9595: 2.0, 9596: 1.0, 9624: 1.0, 9714: 1.0, 9725: 1.0, 9730: 1.0, 9744: 1.0, 9745: 1.0, 9747: 1.0, 9769: 1.0, 9778: 1.0, 9779: 1.0, 9809: 1.0, 9811: 1.0, 9821: 1.0, 9870: 1.0, 9881: 1.0, 9900: 1.0, 9944: 2.0, 9970: 1.0, 9988: 1.0, 9994: 1.0, 10024: 1.0, 10050: 7.0, 10082: 1.0, 10084: 1.0, 10105: 1.0, 10114: 1.0, 10125: 1.0, 10143: 1.0, 10167: 1.0, 10174: 1.0, 10181: 1.0, 10202: 1.0, 10273: 1.0, 10324: 2.0, 10381: 1.0, 10406: 1.0, 10410: 4.0, 10412: 1.0, 10460: 2.0, 10503: 1.0, 10531: 1.0, 10685: 1.0, 10705: 1.0, 10758: 1.0, 10816: 1.0, 10852: 2.0, 10918: 1.0, 11101: 3.0, 11113: 2.0, 11202: 1.0, 11245: 1.0, 11247: 1.0, 11260: 1.0, 11301: 1.0, 11324: 1.0, 11372: 1.0, 11378: 1.0, 11421: 1.0, 11448: 1.0, 11456: 1.0, 11473: 1.0, 11525: 1.0, 11541: 1.0, 11614: 1.0, 11632: 1.0, 11650: 1.0, 11789: 1.0, 11809: 1.0, 11838: 2.0, 11843: 1.0, 11900: 1.0, 11915: 1.0, 11951: 1.0, 11964: 1.0, 12004: 1.0, 12030: 1.0, 12036: 1.0, 12094: 1.0, 12121: 2.0, 12183: 2.0, 12194: 1.0, 12229: 3.0, 12272: 1.0, 12287: 1.0, 12338: 1.0, 12367: 1.0, 12374: 1.0, 12424: 1.0, 12425: 1.0, 12451: 1.0, 12560: 1.0, 12601: 1.0, 12680: 1.0, 12746: 1.0, 12788: 1.0, 12811: 1.0, 12847: 1.0, 12877: 1.0, 12884: 1.0, 12899: 1.0, 12931: 1.0, 12937: 1.0, 12942: 1.0, 12973: 2.0, 12983: 1.0, 13000: 1.0, 13007: 1.0, 13039: 1.0, 13088: 1.0, 13113: 1.0, 13188: 1.0, 13269: 1.0, 13339: 1.0, 13361: 1.0, 13365: 2.0, 13428: 14.0, 13613: 1.0, 13615: 1.0, 13680: 1.0, 13690: 1.0, 13722: 1.0, 13748: 2.0, 13757: 1.0, 13931: 1.0, 13936: 1.0, 13955: 1.0, 14099: 1.0, 14159: 1.0, 14168: 1.0, 14291: 1.0, 14351: 1.0, 14529: 1.0, 14606: 1.0, 14669: 1.0, 14750: 4.0, 14806: 1.0, 14811: 1.0, 14835: 2.0, 14837: 1.0, 14853: 1.0, 14900: 1.0, 14960: 1.0, 14968: 1.0, 15154: 1.0, 15315: 1.0, 15327: 1.0, 15341: 2.0, 15443: 2.0, 15466: 1.0, 15728: 1.0, 15985: 1.0, 16020: 1.0, 16044: 1.0, 16067: 1.0, 16096: 1.0, 16145: 1.0, 16217: 1.0, 16222: 1.0, 16233: 2.0, 16324: 1.0, 16327: 1.0, 16347: 1.0, 16354: 1.0, 16406: 1.0, 16470: 2.0, 16489: 1.0, 16511: 1.0, 16565: 1.0, 16599: 1.0, 16610: 1.0, 16654: 2.0, 16724: 1.0, 16731: 1.0, 16765: 1.0, 16780: 1.0, 16784: 1.0, 16847: 1.0, 16859: 1.0, 17006: 1.0, 17062: 1.0, 17093: 1.0, 17149: 1.0, 17162: 1.0, 17226: 1.0, 17254: 1.0, 17288: 1.0, 17456: 1.0, 17538: 1.0, 17546: 1.0, 17565: 1.0, 17586: 1.0, 17649: 2.0, 17651: 1.0, 17666: 1.0, 17669: 1.0, 17738: 1.0, 17756: 1.0, 18036: 5.0, 18131: 1.0, 18206: 1.0, 18256: 1.0, 18277: 1.0, 18393: 1.0, 18421: 2.0, 18441: 1.0, 18528: 1.0, 18657: 1.0, 18785: 1.0, 18800: 2.0, 18941: 1.0, 18987: 6.0, 18998: 1.0, 19135: 1.0, 19180: 1.0, 19192: 1.0, 19223: 3.0, 19312: 2.0, 19431: 1.0, 19468: 1.0, 19555: 1.0, 19643: 1.0, 19702: 1.0, 19703: 4.0, 19724: 1.0, 19754: 1.0, 19796: 2.0, 19846: 2.0, 19882: 1.0, 19994: 1.0, 20031: 1.0, 20032: 3.0, 20102: 1.0, 20245: 1.0, 20323: 1.0, 20349: 1.0, 20368: 1.0, 20463: 1.0, 20514: 1.0, 20515: 1.0, 20621: 1.0, 20633: 1.0, 20791: 1.0, 20808: 2.0, 21009: 1.0, 21092: 1.0, 21341: 1.0, 21424: 1.0, 21482: 1.0, 21498: 1.0, 21505: 1.0, 21728: 1.0, 21767: 1.0, 21885: 1.0, 21965: 1.0, 21990: 1.0, 21992: 1.0, 22081: 1.0, 22171: 2.0, 22549: 1.0, 22642: 1.0, 22780: 1.0, 22793: 1.0, 22887: 1.0, 22985: 3.0, 23002: 1.0, 23075: 1.0, 23142: 1.0, 23169: 1.0, 23216: 1.0, 23339: 1.0, 23570: 1.0, 23645: 1.0, 23648: 1.0, 23674: 1.0, 23776: 1.0, 23847: 1.0, 23871: 1.0, 24041: 1.0, 24051: 1.0, 24112: 1.0, 24538: 1.0, 24722: 1.0, 24755: 1.0, 24765: 1.0, 24826: 1.0, 25031: 1.0, 25093: 1.0, 25211: 1.0, 25398: 1.0, 25565: 1.0, 25640: 1.0, 25855: 1.0, 25876: 1.0, 25902: 1.0, 26001: 1.0, 26511: 1.0, 26532: 1.0, 26579: 1.0, 26676: 1.0, 26743: 1.0, 26870: 1.0, 26908: 1.0, 26942: 1.0, 27173: 1.0, 27309: 1.0, 27342: 1.0, 27343: 1.0, 27349: 1.0, 27667: 1.0, 27689: 1.0, 27695: 1.0, 27803: 1.0, 27805: 1.0, 27931: 1.0, 27959: 1.0, 28261: 1.0, 28287: 1.0, 28504: 2.0, 28734: 1.0, 28760: 2.0, 28896: 1.0, 28997: 1.0, 29209: 1.0, 29274: 1.0, 29289: 1.0, 29327: 1.0, 29449: 1.0, 29583: 1.0, 29632: 2.0, 29709: 1.0, 29828: 1.0, 30050: 1.0, 30123: 1.0, 30263: 1.0, 30266: 2.0, 30324: 1.0, 30390: 1.0, 30411: 1.0, 31222: 1.0, 31410: 1.0, 31576: 2.0, 31788: 1.0, 31907: 1.0, 32124: 1.0, 32136: 1.0, 32271: 1.0, 32363: 1.0, 32390: 1.0, 32514: 1.0, 32720: 1.0, 33127: 1.0, 33153: 1.0, 33433: 1.0, 33475: 2.0, 33492: 1.0, 33710: 1.0, 33745: 1.0, 34173: 1.0, 34287: 1.0, 34625: 1.0, 35026: 1.0, 35147: 1.0, 35389: 1.0, 35482: 1.0, 35540: 1.0, 35555: 1.0, 35716: 1.0, 36292: 1.0, 36696: 1.0, 36830: 3.0, 37162: 1.0, 37774: 1.0, 38720: 1.0, 38805: 1.0, 39296: 1.0, 39922: 1.0, 40008: 2.0, 40187: 4.0, 40421: 1.0, 40484: 1.0, 40781: 1.0, 40802: 1.0, 41034: 1.0, 41035: 1.0, 41095: 1.0, 41243: 1.0, 41468: 1.0, 42100: 1.0, 42963: 1.0, 43787: 1.0, 43915: 1.0, 44989: 3.0, 45836: 1.0, 46029: 1.0, 46139: 1.0, 46835: 1.0, 47559: 1.0, 47899: 1.0, 47967: 1.0, 49100: 1.0, 49258: 1.0, 49682: 1.0, 49735: 2.0, 50204: 1.0, 50373: 1.0, 51226: 1.0, 51640: 1.0, 53227: 1.0, 53517: 1.0, 53541: 1.0, 53720: 6.0, 55659: 1.0, 55731: 1.0, 58225: 1.0, 58433: 1.0, 58814: 1.0, 59005: 1.0, 59416: 2.0, 60140: 1.0, 60405: 1.0, 61394: 1.0, 63313: 1.0, 64492: 1.0, 66110: 1.0, 68186: 1.0, 72012: 1.0, 72753: 1.0, 73153: 1.0, 74605: 12.0, 75274: 1.0, 75513: 1.0, 75807: 1.0, 76267: 1.0, 76808: 1.0, 77346: 1.0, 80862: 1.0, 81084: 2.0, 95001: 1.0, 96927: 1.0, 99679: 1.0})),\n",
       " ('24966',\n",
       "  SparseVector(100000, {0: 3.0, 1: 3.0, 2: 3.0, 3: 5.0, 4: 11.0, 5: 2.0, 7: 32.0, 9: 2.0, 11: 2.0, 14: 2.0, 15: 6.0, 16: 3.0, 17: 5.0, 19: 2.0, 20: 6.0, 22: 1.0, 23: 2.0, 24: 5.0, 25: 8.0, 26: 7.0, 27: 3.0, 28: 3.0, 29: 1.0, 30: 10.0, 31: 2.0, 32: 1.0, 34: 6.0, 35: 1.0, 37: 1.0, 38: 22.0, 39: 3.0, 40: 6.0, 41: 2.0, 42: 2.0, 44: 6.0, 48: 4.0, 50: 1.0, 55: 4.0, 56: 9.0, 57: 6.0, 58: 5.0, 59: 2.0, 62: 3.0, 63: 2.0, 64: 8.0, 65: 8.0, 68: 2.0, 69: 1.0, 73: 1.0, 75: 1.0, 76: 1.0, 80: 1.0, 81: 4.0, 83: 4.0, 85: 1.0, 86: 1.0, 87: 5.0, 90: 19.0, 92: 2.0, 96: 4.0, 98: 5.0, 100: 2.0, 101: 1.0, 102: 2.0, 103: 1.0, 105: 7.0, 108: 1.0, 109: 2.0, 111: 1.0, 113: 4.0, 114: 1.0, 115: 8.0, 118: 8.0, 119: 2.0, 120: 3.0, 121: 1.0, 122: 1.0, 129: 4.0, 130: 3.0, 132: 4.0, 133: 7.0, 137: 1.0, 139: 4.0, 140: 2.0, 142: 1.0, 144: 1.0, 145: 1.0, 148: 1.0, 149: 2.0, 151: 1.0, 153: 8.0, 154: 4.0, 161: 1.0, 162: 1.0, 163: 5.0, 165: 2.0, 166: 1.0, 168: 3.0, 171: 2.0, 174: 2.0, 176: 8.0, 177: 4.0, 180: 1.0, 182: 5.0, 184: 2.0, 185: 3.0, 188: 1.0, 191: 1.0, 194: 2.0, 195: 2.0, 198: 1.0, 205: 1.0, 207: 1.0, 208: 2.0, 210: 1.0, 211: 4.0, 213: 3.0, 219: 2.0, 220: 1.0, 222: 2.0, 225: 1.0, 230: 1.0, 233: 1.0, 235: 1.0, 236: 8.0, 238: 7.0, 240: 5.0, 241: 2.0, 242: 1.0, 245: 4.0, 246: 2.0, 247: 3.0, 248: 1.0, 249: 1.0, 255: 2.0, 257: 3.0, 258: 4.0, 261: 2.0, 264: 1.0, 269: 1.0, 284: 6.0, 285: 2.0, 288: 1.0, 289: 3.0, 296: 1.0, 297: 7.0, 299: 4.0, 302: 1.0, 310: 1.0, 316: 1.0, 318: 1.0, 319: 1.0, 321: 2.0, 322: 1.0, 327: 3.0, 328: 10.0, 330: 2.0, 331: 2.0, 332: 1.0, 333: 2.0, 336: 1.0, 337: 1.0, 338: 7.0, 343: 1.0, 345: 1.0, 346: 3.0, 348: 1.0, 349: 3.0, 354: 1.0, 355: 1.0, 363: 2.0, 364: 3.0, 366: 1.0, 369: 8.0, 370: 10.0, 373: 2.0, 375: 3.0, 376: 1.0, 382: 1.0, 383: 1.0, 384: 1.0, 385: 1.0, 390: 1.0, 391: 6.0, 392: 1.0, 393: 1.0, 395: 3.0, 397: 6.0, 399: 4.0, 405: 1.0, 407: 2.0, 413: 7.0, 428: 1.0, 429: 1.0, 432: 1.0, 433: 7.0, 437: 1.0, 439: 3.0, 440: 1.0, 442: 4.0, 443: 2.0, 452: 1.0, 453: 4.0, 455: 7.0, 458: 1.0, 461: 2.0, 462: 1.0, 465: 9.0, 469: 1.0, 472: 3.0, 475: 6.0, 476: 4.0, 477: 1.0, 487: 1.0, 491: 7.0, 492: 2.0, 493: 1.0, 494: 6.0, 499: 3.0, 501: 1.0, 502: 3.0, 505: 8.0, 507: 2.0, 508: 1.0, 513: 1.0, 515: 1.0, 517: 1.0, 518: 7.0, 524: 2.0, 526: 2.0, 535: 1.0, 538: 3.0, 547: 2.0, 550: 1.0, 553: 1.0, 556: 3.0, 558: 3.0, 562: 2.0, 567: 1.0, 568: 1.0, 570: 3.0, 572: 1.0, 574: 2.0, 575: 1.0, 577: 2.0, 581: 1.0, 582: 2.0, 583: 2.0, 594: 1.0, 595: 1.0, 603: 2.0, 606: 1.0, 614: 1.0, 617: 1.0, 618: 2.0, 626: 1.0, 627: 1.0, 637: 1.0, 639: 1.0, 640: 6.0, 641: 2.0, 642: 2.0, 644: 1.0, 645: 1.0, 647: 11.0, 648: 6.0, 649: 2.0, 654: 3.0, 656: 6.0, 661: 1.0, 662: 1.0, 666: 2.0, 670: 1.0, 671: 1.0, 678: 1.0, 680: 2.0, 688: 3.0, 697: 2.0, 699: 1.0, 701: 5.0, 702: 3.0, 705: 3.0, 714: 1.0, 716: 2.0, 717: 1.0, 718: 2.0, 722: 1.0, 723: 3.0, 727: 1.0, 728: 1.0, 733: 1.0, 734: 1.0, 737: 1.0, 739: 1.0, 742: 6.0, 745: 5.0, 746: 2.0, 748: 1.0, 752: 4.0, 754: 1.0, 756: 3.0, 757: 5.0, 765: 4.0, 767: 1.0, 768: 2.0, 770: 1.0, 771: 3.0, 773: 1.0, 774: 1.0, 779: 3.0, 785: 2.0, 790: 1.0, 794: 2.0, 799: 2.0, 801: 3.0, 806: 2.0, 809: 5.0, 812: 1.0, 813: 1.0, 818: 1.0, 822: 1.0, 823: 1.0, 828: 1.0, 829: 3.0, 833: 1.0, 835: 2.0, 836: 1.0, 841: 1.0, 845: 4.0, 846: 1.0, 853: 2.0, 854: 5.0, 858: 1.0, 865: 1.0, 867: 1.0, 868: 3.0, 873: 1.0, 875: 1.0, 877: 3.0, 878: 1.0, 879: 4.0, 880: 3.0, 889: 1.0, 891: 6.0, 897: 2.0, 900: 4.0, 901: 1.0, 902: 1.0, 907: 3.0, 908: 1.0, 909: 1.0, 920: 1.0, 922: 4.0, 929: 2.0, 930: 1.0, 932: 1.0, 934: 1.0, 935: 1.0, 936: 1.0, 937: 1.0, 941: 1.0, 944: 1.0, 946: 3.0, 948: 1.0, 952: 1.0, 958: 1.0, 965: 1.0, 966: 1.0, 968: 2.0, 969: 1.0, 973: 1.0, 979: 4.0, 981: 1.0, 983: 1.0, 984: 1.0, 988: 1.0, 991: 2.0, 992: 1.0, 1000: 1.0, 1002: 2.0, 1018: 3.0, 1019: 1.0, 1022: 2.0, 1027: 5.0, 1029: 1.0, 1037: 1.0, 1038: 2.0, 1043: 4.0, 1048: 1.0, 1051: 1.0, 1054: 1.0, 1055: 1.0, 1056: 2.0, 1057: 2.0, 1058: 2.0, 1059: 1.0, 1063: 1.0, 1067: 1.0, 1071: 1.0, 1082: 1.0, 1083: 3.0, 1086: 1.0, 1091: 3.0, 1094: 1.0, 1097: 1.0, 1101: 2.0, 1103: 5.0, 1105: 4.0, 1107: 1.0, 1119: 2.0, 1121: 1.0, 1123: 1.0, 1124: 4.0, 1133: 1.0, 1134: 1.0, 1136: 1.0, 1138: 3.0, 1144: 2.0, 1153: 4.0, 1158: 2.0, 1161: 2.0, 1169: 1.0, 1180: 3.0, 1183: 1.0, 1199: 1.0, 1211: 1.0, 1213: 1.0, 1214: 2.0, 1215: 1.0, 1223: 1.0, 1224: 1.0, 1229: 2.0, 1230: 2.0, 1242: 2.0, 1247: 1.0, 1251: 1.0, 1254: 2.0, 1262: 1.0, 1268: 1.0, 1282: 1.0, 1284: 1.0, 1286: 4.0, 1294: 1.0, 1300: 1.0, 1311: 1.0, 1313: 1.0, 1315: 2.0, 1316: 1.0, 1323: 1.0, 1324: 1.0, 1325: 1.0, 1326: 1.0, 1331: 1.0, 1346: 2.0, 1349: 4.0, 1357: 1.0, 1358: 2.0, 1361: 1.0, 1368: 1.0, 1371: 2.0, 1379: 1.0, 1380: 2.0, 1390: 1.0, 1391: 1.0, 1395: 2.0, 1399: 1.0, 1401: 3.0, 1402: 3.0, 1404: 2.0, 1410: 5.0, 1415: 1.0, 1416: 1.0, 1418: 2.0, 1452: 1.0, 1454: 1.0, 1457: 1.0, 1460: 1.0, 1465: 2.0, 1467: 1.0, 1472: 1.0, 1489: 2.0, 1490: 2.0, 1495: 1.0, 1499: 1.0, 1502: 3.0, 1508: 2.0, 1509: 1.0, 1513: 1.0, 1517: 2.0, 1518: 4.0, 1528: 1.0, 1531: 1.0, 1537: 1.0, 1545: 1.0, 1548: 1.0, 1551: 2.0, 1562: 1.0, 1568: 3.0, 1581: 1.0, 1585: 1.0, 1586: 1.0, 1591: 1.0, 1598: 2.0, 1601: 1.0, 1605: 1.0, 1606: 1.0, 1612: 1.0, 1616: 2.0, 1618: 1.0, 1621: 1.0, 1623: 1.0, 1627: 2.0, 1630: 1.0, 1632: 1.0, 1635: 3.0, 1642: 2.0, 1643: 1.0, 1649: 3.0, 1654: 1.0, 1658: 1.0, 1661: 1.0, 1669: 1.0, 1672: 1.0, 1678: 2.0, 1682: 1.0, 1688: 1.0, 1690: 3.0, 1694: 2.0, 1697: 1.0, 1700: 3.0, 1706: 3.0, 1710: 2.0, 1714: 1.0, 1733: 1.0, 1735: 1.0, 1740: 1.0, 1756: 1.0, 1765: 4.0, 1768: 1.0, 1773: 1.0, 1776: 1.0, 1777: 3.0, 1783: 2.0, 1787: 1.0, 1795: 1.0, 1808: 1.0, 1809: 1.0, 1813: 2.0, 1815: 2.0, 1821: 3.0, 1842: 2.0, 1845: 3.0, 1848: 1.0, 1849: 2.0, 1862: 2.0, 1879: 1.0, 1884: 1.0, 1890: 1.0, 1891: 2.0, 1903: 1.0, 1904: 1.0, 1911: 1.0, 1913: 1.0, 1918: 1.0, 1922: 1.0, 1923: 4.0, 1939: 2.0, 1940: 6.0, 1941: 2.0, 1942: 1.0, 1959: 1.0, 1963: 1.0, 1964: 1.0, 1965: 1.0, 1974: 1.0, 1986: 1.0, 1991: 1.0, 1998: 1.0, 2005: 1.0, 2006: 1.0, 2009: 1.0, 2010: 1.0, 2013: 1.0, 2018: 1.0, 2019: 1.0, 2049: 1.0, 2051: 1.0, 2059: 1.0, 2069: 1.0, 2070: 1.0, 2072: 1.0, 2083: 1.0, 2092: 1.0, 2103: 1.0, 2105: 2.0, 2109: 1.0, 2110: 1.0, 2117: 1.0, 2122: 1.0, 2127: 1.0, 2130: 4.0, 2137: 2.0, 2143: 1.0, 2154: 2.0, 2178: 1.0, 2179: 2.0, 2184: 1.0, 2190: 1.0, 2200: 1.0, 2211: 1.0, 2214: 1.0, 2217: 1.0, 2234: 2.0, 2235: 1.0, 2240: 2.0, 2243: 7.0, 2253: 1.0, 2259: 1.0, 2260: 1.0, 2265: 1.0, 2267: 2.0, 2280: 1.0, 2303: 1.0, 2311: 1.0, 2313: 1.0, 2315: 1.0, 2359: 4.0, 2368: 2.0, 2369: 1.0, 2370: 1.0, 2372: 2.0, 2380: 2.0, 2387: 1.0, 2410: 1.0, 2415: 2.0, 2425: 1.0, 2431: 1.0, 2432: 2.0, 2436: 1.0, 2439: 2.0, 2440: 1.0, 2447: 2.0, 2453: 1.0, 2455: 1.0, 2466: 2.0, 2467: 2.0, 2470: 1.0, 2474: 1.0, 2479: 2.0, 2480: 1.0, 2485: 1.0, 2489: 1.0, 2496: 1.0, 2499: 1.0, 2504: 1.0, 2509: 2.0, 2511: 1.0, 2514: 2.0, 2519: 1.0, 2539: 2.0, 2541: 2.0, 2542: 2.0, 2544: 1.0, 2550: 2.0, 2560: 1.0, 2571: 1.0, 2573: 1.0, 2574: 1.0, 2589: 1.0, 2597: 1.0, 2598: 1.0, 2599: 1.0, 2604: 2.0, 2614: 1.0, 2616: 2.0, 2617: 1.0, 2618: 1.0, 2637: 1.0, 2642: 1.0, 2645: 1.0, 2656: 1.0, 2661: 1.0, 2662: 1.0, 2673: 6.0, 2682: 1.0, 2683: 1.0, 2688: 2.0, 2704: 1.0, 2710: 1.0, 2718: 1.0, 2733: 1.0, 2741: 1.0, 2751: 1.0, 2760: 1.0, 2771: 1.0, 2772: 1.0, 2773: 1.0, 2778: 1.0, 2781: 1.0, 2799: 1.0, 2810: 1.0, 2852: 1.0, 2867: 1.0, 2881: 1.0, 2886: 1.0, 2894: 1.0, 2900: 3.0, 2910: 1.0, 2924: 4.0, 2926: 1.0, 2947: 1.0, 2962: 1.0, 2974: 1.0, 2982: 1.0, 2991: 1.0, 3006: 1.0, 3020: 1.0, 3037: 1.0, 3041: 1.0, 3065: 1.0, 3078: 2.0, 3117: 1.0, 3125: 1.0, 3129: 1.0, 3132: 1.0, 3136: 1.0, 3143: 1.0, 3151: 1.0, 3155: 1.0, 3156: 1.0, 3163: 1.0, 3176: 1.0, 3202: 3.0, 3205: 1.0, 3212: 1.0, 3243: 1.0, 3246: 1.0, 3252: 1.0, 3258: 1.0, 3291: 1.0, 3292: 1.0, 3293: 1.0, 3300: 1.0, 3311: 1.0, 3315: 1.0, 3316: 1.0, 3340: 1.0, 3349: 1.0, 3352: 1.0, 3368: 1.0, 3372: 1.0, 3375: 1.0, 3406: 4.0, 3439: 1.0, 3443: 1.0, 3453: 1.0, 3454: 2.0, 3457: 1.0, 3464: 1.0, 3467: 1.0, 3478: 1.0, 3492: 2.0, 3505: 1.0, 3511: 1.0, 3540: 1.0, 3543: 1.0, 3563: 1.0, 3565: 1.0, 3587: 1.0, 3589: 1.0, 3590: 1.0, 3597: 1.0, 3607: 1.0, 3609: 2.0, 3612: 1.0, 3619: 1.0, 3623: 1.0, 3639: 1.0, 3640: 1.0, 3645: 1.0, 3650: 1.0, 3655: 1.0, 3677: 2.0, 3699: 2.0, 3709: 1.0, 3715: 1.0, 3727: 1.0, 3741: 1.0, 3756: 3.0, 3766: 1.0, 3776: 1.0, 3804: 1.0, 3814: 2.0, 3817: 1.0, 3824: 1.0, 3835: 1.0, 3859: 1.0, 3864: 1.0, 3866: 1.0, 3877: 1.0, 3878: 1.0, 3907: 1.0, 3910: 1.0, 3912: 1.0, 3913: 1.0, 3916: 1.0, 3921: 1.0, 3940: 1.0, 3972: 1.0, 3984: 1.0, 4044: 1.0, 4046: 1.0, 4070: 2.0, 4076: 1.0, 4092: 1.0, 4101: 1.0, 4111: 1.0, 4151: 1.0, 4156: 1.0, 4163: 1.0, 4183: 1.0, 4192: 1.0, 4194: 1.0, 4201: 1.0, 4218: 1.0, 4254: 1.0, 4256: 1.0, 4331: 1.0, 4332: 2.0, 4350: 1.0, 4357: 1.0, 4373: 1.0, 4378: 1.0, 4381: 1.0, 4397: 1.0, 4400: 1.0, 4410: 1.0, 4419: 1.0, 4441: 1.0, 4446: 1.0, 4465: 1.0, 4480: 1.0, 4497: 2.0, 4503: 3.0, 4505: 1.0, 4507: 2.0, 4511: 1.0, 4519: 1.0, 4531: 1.0, 4537: 1.0, 4557: 1.0, 4562: 1.0, 4580: 1.0, 4603: 1.0, 4643: 1.0, 4678: 1.0, 4696: 1.0, 4706: 1.0, 4713: 1.0, 4717: 1.0, 4725: 1.0, 4727: 1.0, 4736: 1.0, 4759: 1.0, 4777: 1.0, 4782: 1.0, 4785: 1.0, 4786: 1.0, 4820: 1.0, 4833: 1.0, 4841: 1.0, 4842: 1.0, 4844: 1.0, 4855: 1.0, 4857: 1.0, 4868: 1.0, 4881: 1.0, 4882: 1.0, 4907: 1.0, 4909: 1.0, 4915: 1.0, 4917: 1.0, 4935: 1.0, 4952: 1.0, 4954: 1.0, 4978: 1.0, 4992: 1.0, 4998: 1.0, 5032: 1.0, 5037: 3.0, 5105: 3.0, 5110: 2.0, 5157: 3.0, 5170: 2.0, 5188: 3.0, 5194: 2.0, 5204: 1.0, 5213: 1.0, 5214: 1.0, 5229: 1.0, 5237: 1.0, 5289: 1.0, 5357: 1.0, 5367: 1.0, 5385: 2.0, 5398: 1.0, 5421: 1.0, 5431: 1.0, 5512: 2.0, 5584: 1.0, 5640: 1.0, 5658: 1.0, 5666: 2.0, 5739: 16.0, 5755: 2.0, 5762: 1.0, 5765: 1.0, 5799: 4.0, 5801: 1.0, 5830: 1.0, 5907: 1.0, 5934: 1.0, 5960: 1.0, 5963: 1.0, 5999: 1.0, 6023: 2.0, 6032: 2.0, 6112: 1.0, 6128: 1.0, 6134: 1.0, 6140: 1.0, 6182: 2.0, 6208: 1.0, 6278: 1.0, 6304: 1.0, 6383: 3.0, 6415: 1.0, 6439: 1.0, 6499: 1.0, 6502: 1.0, 6526: 1.0, 6627: 1.0, 6641: 3.0, 6665: 1.0, 6693: 1.0, 6745: 1.0, 6854: 3.0, 6871: 2.0, 7028: 2.0, 7056: 1.0, 7066: 1.0, 7078: 2.0, 7081: 1.0, 7177: 1.0, 7221: 1.0, 7253: 1.0, 7258: 1.0, 7290: 1.0, 7318: 2.0, 7390: 1.0, 7407: 1.0, 7416: 1.0, 7425: 1.0, 7430: 1.0, 7483: 1.0, 7539: 1.0, 7540: 1.0, 7637: 1.0, 7862: 1.0, 7914: 4.0, 7964: 1.0, 7965: 1.0, 7968: 2.0, 8088: 1.0, 8125: 1.0, 8129: 1.0, 8191: 1.0, 8194: 1.0, 8204: 2.0, 8246: 1.0, 8249: 1.0, 8283: 2.0, 8316: 1.0, 8324: 1.0, 8325: 1.0, 8335: 6.0, 8361: 1.0, 8366: 1.0, 8380: 1.0, 8462: 1.0, 8472: 1.0, 8505: 1.0, 8511: 1.0, 8554: 1.0, 8561: 1.0, 8598: 1.0, 8705: 2.0, 8718: 1.0, 8778: 2.0, 8822: 1.0, 8825: 1.0, 8906: 3.0, 8914: 1.0, 9038: 1.0, 9049: 2.0, 9074: 2.0, 9122: 1.0, 9367: 1.0, 9433: 2.0, 9444: 1.0, 9641: 1.0, 9678: 1.0, 9684: 1.0, 9866: 3.0, 9872: 1.0, 9886: 1.0, 9946: 1.0, 10107: 1.0, 10264: 2.0, 10381: 3.0, 10466: 1.0, 10563: 1.0, 10579: 1.0, 10656: 3.0, 10734: 1.0, 10949: 1.0, 10955: 1.0, 11013: 2.0, 11170: 1.0, 11196: 1.0, 11515: 1.0, 11543: 1.0, 11599: 1.0, 11631: 1.0, 11645: 1.0, 11675: 1.0, 11752: 1.0, 11809: 1.0, 11990: 1.0, 12029: 1.0, 12097: 1.0, 12109: 1.0, 12147: 1.0, 12286: 1.0, 12289: 1.0, 12291: 1.0, 12427: 1.0, 12760: 1.0, 12761: 1.0, 12898: 1.0, 12988: 1.0, 12994: 2.0, 13088: 1.0, 13145: 3.0, 13164: 1.0, 13304: 5.0, 13424: 1.0, 13598: 1.0, 13605: 1.0, 13624: 2.0, 13891: 1.0, 14003: 1.0, 14015: 1.0, 14068: 1.0, 14094: 1.0, 14152: 1.0, 14267: 2.0, 14288: 4.0, 14292: 1.0, 14344: 1.0, 14435: 1.0, 14511: 3.0, 14701: 1.0, 14899: 1.0, 14979: 1.0, 15027: 1.0, 15039: 1.0, 15092: 2.0, 15253: 1.0, 15330: 1.0, 15525: 1.0, 15596: 1.0, 15797: 2.0, 15826: 3.0, 15890: 1.0, 16338: 1.0, 16356: 3.0, 16705: 3.0, 16783: 1.0, 16820: 1.0, 16879: 1.0, 16892: 1.0, 16976: 1.0, 16986: 1.0, 17018: 1.0, 17051: 1.0, 17245: 1.0, 17255: 1.0, 17274: 1.0, 17428: 2.0, 17447: 2.0, 17601: 1.0, 17602: 1.0, 17649: 1.0, 17722: 1.0, 18029: 2.0, 18114: 1.0, 18347: 1.0, 18418: 1.0, 18430: 1.0, 18438: 1.0, 18470: 1.0, 18634: 1.0, 18733: 1.0, 18982: 1.0, 19169: 1.0, 19600: 1.0, 19606: 1.0, 19607: 1.0, 19610: 1.0, 19848: 1.0, 19984: 1.0, 20033: 1.0, 20118: 1.0, 20331: 1.0, 20431: 1.0, 20461: 1.0, 20744: 2.0, 20999: 1.0, 21372: 1.0, 21451: 1.0, 21865: 3.0, 21903: 1.0, 21990: 1.0, 22077: 2.0, 22118: 2.0, 22350: 1.0, 22415: 1.0, 23315: 1.0, 23354: 1.0, 23357: 1.0, 23548: 1.0, 23864: 1.0, 24023: 2.0, 24124: 1.0, 24132: 1.0, 24307: 1.0, 24537: 1.0, 24887: 1.0, 25025: 1.0, 25035: 5.0, 25044: 1.0, 25320: 3.0, 25745: 1.0, 25884: 1.0, 26247: 1.0, 26846: 1.0, 26860: 1.0, 27051: 1.0, 27088: 2.0, 27119: 1.0, 27238: 1.0, 27444: 1.0, 27448: 1.0, 27682: 1.0, 28221: 1.0, 28567: 2.0, 28788: 1.0, 29023: 1.0, 29404: 1.0, 29513: 1.0, 29587: 1.0, 30335: 2.0, 30596: 1.0, 30694: 1.0, 31098: 1.0, 31777: 1.0, 32860: 1.0, 33130: 1.0, 33337: 1.0, 33584: 2.0, 35776: 1.0, 36804: 1.0, 38588: 26.0, 38598: 1.0, 40821: 2.0, 41474: 1.0, 42970: 1.0, 43001: 2.0, 44267: 1.0, 44336: 1.0, 44417: 1.0, 44500: 2.0, 46133: 1.0, 46441: 1.0, 47096: 2.0, 47225: 1.0, 47608: 1.0, 48219: 1.0, 48783: 1.0, 50202: 1.0, 51024: 1.0, 52376: 1.0, 52685: 21.0, 53129: 1.0, 53679: 1.0, 57725: 1.0, 58230: 1.0, 58596: 1.0, 58868: 10.0, 59093: 1.0, 59261: 3.0, 60816: 1.0, 61241: 1.0, 61286: 1.0, 62729: 1.0, 63939: 3.0, 68422: 1.0, 70500: 1.0, 71110: 1.0, 71738: 1.0, 74240: 1.0, 76622: 1.0, 85985: 1.0, 92836: 2.0, 97155: 1.0})),\n",
       " ('24341',\n",
       "  SparseVector(100000, {0: 10.0, 1: 17.0, 2: 25.0, 3: 14.0, 4: 13.0, 5: 51.0, 7: 33.0, 8: 7.0, 9: 12.0, 11: 6.0, 12: 13.0, 13: 12.0, 14: 63.0, 15: 15.0, 16: 29.0, 17: 2.0, 18: 22.0, 19: 16.0, 20: 12.0, 21: 3.0, 22: 4.0, 23: 5.0, 24: 6.0, 25: 14.0, 26: 9.0, 27: 8.0, 28: 8.0, 29: 18.0, 30: 3.0, 31: 3.0, 32: 14.0, 34: 22.0, 36: 6.0, 37: 9.0, 38: 22.0, 39: 4.0, 40: 11.0, 41: 21.0, 42: 7.0, 43: 6.0, 44: 15.0, 45: 1.0, 46: 3.0, 47: 25.0, 48: 21.0, 49: 1.0, 50: 16.0, 52: 2.0, 55: 6.0, 56: 20.0, 57: 21.0, 58: 6.0, 59: 2.0, 61: 12.0, 62: 1.0, 63: 8.0, 64: 9.0, 65: 12.0, 66: 1.0, 67: 4.0, 68: 3.0, 69: 8.0, 70: 7.0, 71: 2.0, 72: 24.0, 73: 4.0, 74: 8.0, 75: 7.0, 76: 10.0, 77: 10.0, 78: 3.0, 79: 5.0, 80: 6.0, 81: 3.0, 83: 7.0, 85: 7.0, 86: 2.0, 87: 7.0, 88: 1.0, 90: 20.0, 92: 2.0, 94: 1.0, 96: 4.0, 97: 7.0, 98: 6.0, 99: 2.0, 101: 9.0, 102: 5.0, 103: 4.0, 104: 15.0, 105: 6.0, 106: 3.0, 108: 8.0, 109: 3.0, 111: 1.0, 113: 12.0, 114: 1.0, 115: 4.0, 118: 8.0, 119: 3.0, 120: 5.0, 121: 1.0, 122: 9.0, 123: 3.0, 124: 15.0, 125: 2.0, 126: 3.0, 127: 2.0, 129: 5.0, 130: 7.0, 132: 5.0, 133: 8.0, 134: 1.0, 135: 25.0, 136: 5.0, 137: 5.0, 138: 3.0, 140: 11.0, 141: 6.0, 142: 10.0, 143: 3.0, 144: 3.0, 145: 3.0, 146: 2.0, 147: 23.0, 148: 5.0, 149: 2.0, 150: 1.0, 152: 3.0, 153: 10.0, 154: 5.0, 155: 3.0, 157: 1.0, 158: 5.0, 160: 1.0, 161: 5.0, 162: 1.0, 163: 11.0, 164: 4.0, 165: 6.0, 166: 5.0, 167: 2.0, 168: 6.0, 169: 2.0, 170: 6.0, 171: 3.0, 172: 5.0, 173: 1.0, 174: 1.0, 176: 9.0, 177: 4.0, 178: 1.0, 179: 13.0, 182: 7.0, 183: 3.0, 184: 9.0, 185: 6.0, 187: 3.0, 188: 11.0, 190: 2.0, 191: 2.0, 192: 2.0, 196: 1.0, 198: 7.0, 200: 4.0, 202: 5.0, 205: 4.0, 207: 4.0, 208: 3.0, 209: 3.0, 210: 3.0, 211: 5.0, 213: 19.0, 215: 1.0, 216: 2.0, 218: 1.0, 219: 1.0, 220: 21.0, 222: 2.0, 223: 8.0, 224: 1.0, 225: 4.0, 227: 3.0, 228: 2.0, 229: 1.0, 230: 16.0, 231: 5.0, 232: 9.0, 233: 4.0, 234: 1.0, 236: 8.0, 237: 5.0, 238: 7.0, 240: 11.0, 241: 3.0, 242: 1.0, 244: 5.0, 245: 1.0, 246: 3.0, 248: 6.0, 249: 6.0, 250: 2.0, 252: 3.0, 253: 3.0, 254: 3.0, 255: 25.0, 256: 2.0, 257: 3.0, 258: 6.0, 259: 3.0, 260: 7.0, 261: 6.0, 263: 6.0, 264: 10.0, 265: 1.0, 266: 4.0, 267: 2.0, 268: 2.0, 269: 3.0, 270: 4.0, 276: 4.0, 279: 3.0, 281: 3.0, 284: 8.0, 285: 5.0, 288: 6.0, 289: 5.0, 290: 10.0, 293: 1.0, 294: 1.0, 295: 4.0, 296: 5.0, 297: 13.0, 298: 9.0, 301: 1.0, 302: 3.0, 304: 2.0, 305: 4.0, 306: 1.0, 307: 2.0, 309: 3.0, 310: 1.0, 311: 15.0, 312: 2.0, 313: 2.0, 314: 4.0, 315: 1.0, 316: 16.0, 317: 2.0, 318: 6.0, 319: 1.0, 320: 3.0, 321: 2.0, 323: 4.0, 325: 45.0, 326: 13.0, 327: 10.0, 328: 10.0, 329: 1.0, 330: 2.0, 331: 4.0, 332: 7.0, 333: 1.0, 334: 4.0, 335: 2.0, 336: 4.0, 337: 2.0, 338: 7.0, 341: 1.0, 342: 4.0, 343: 2.0, 344: 6.0, 345: 3.0, 346: 4.0, 347: 4.0, 348: 1.0, 349: 3.0, 351: 1.0, 352: 8.0, 353: 3.0, 354: 3.0, 355: 1.0, 356: 1.0, 363: 1.0, 364: 7.0, 366: 1.0, 367: 1.0, 369: 7.0, 370: 10.0, 372: 5.0, 373: 3.0, 374: 6.0, 375: 6.0, 376: 2.0, 377: 2.0, 378: 1.0, 380: 1.0, 382: 1.0, 384: 3.0, 385: 2.0, 389: 1.0, 390: 6.0, 391: 6.0, 392: 2.0, 393: 2.0, 394: 2.0, 395: 3.0, 397: 2.0, 398: 5.0, 400: 2.0, 401: 4.0, 403: 3.0, 404: 1.0, 405: 5.0, 406: 3.0, 407: 7.0, 409: 1.0, 412: 1.0, 413: 7.0, 415: 2.0, 416: 5.0, 424: 1.0, 425: 2.0, 426: 2.0, 428: 2.0, 429: 1.0, 432: 2.0, 433: 3.0, 434: 5.0, 437: 1.0, 438: 3.0, 439: 3.0, 440: 1.0, 442: 6.0, 443: 2.0, 447: 5.0, 448: 3.0, 449: 2.0, 452: 6.0, 453: 3.0, 454: 1.0, 455: 2.0, 456: 1.0, 457: 3.0, 458: 1.0, 459: 7.0, 460: 1.0, 461: 4.0, 465: 3.0, 467: 1.0, 468: 1.0, 469: 4.0, 470: 4.0, 471: 1.0, 472: 6.0, 474: 3.0, 475: 9.0, 476: 4.0, 477: 1.0, 478: 3.0, 479: 5.0, 480: 1.0, 481: 2.0, 482: 1.0, 483: 1.0, 486: 1.0, 487: 1.0, 489: 14.0, 490: 2.0, 491: 7.0, 492: 3.0, 493: 3.0, 494: 6.0, 495: 1.0, 498: 1.0, 499: 6.0, 500: 7.0, 501: 2.0, 502: 5.0, 503: 3.0, 504: 1.0, 505: 8.0, 506: 3.0, 507: 3.0, 508: 1.0, 511: 1.0, 513: 4.0, 514: 1.0, 516: 1.0, 517: 1.0, 518: 7.0, 519: 1.0, 520: 1.0, 524: 1.0, 525: 4.0, 526: 5.0, 528: 1.0, 537: 1.0, 538: 2.0, 541: 3.0, 542: 2.0, 543: 4.0, 544: 4.0, 545: 4.0, 546: 2.0, 547: 2.0, 548: 1.0, 550: 10.0, 553: 2.0, 555: 4.0, 556: 2.0, 558: 2.0, 559: 1.0, 563: 2.0, 564: 1.0, 566: 1.0, 567: 3.0, 569: 2.0, 570: 3.0, 571: 5.0, 572: 4.0, 574: 7.0, 575: 4.0, 577: 3.0, 578: 2.0, 579: 1.0, 581: 39.0, 582: 1.0, 583: 3.0, 586: 8.0, 587: 1.0, 588: 5.0, 590: 8.0, 591: 4.0, 592: 2.0, 593: 3.0, 594: 5.0, 595: 1.0, 596: 1.0, 597: 1.0, 600: 1.0, 603: 2.0, 604: 1.0, 605: 5.0, 606: 3.0, 607: 2.0, 608: 1.0, 609: 2.0, 610: 1.0, 611: 4.0, 614: 1.0, 615: 4.0, 616: 13.0, 617: 1.0, 618: 3.0, 619: 2.0, 621: 13.0, 623: 2.0, 625: 3.0, 627: 5.0, 630: 8.0, 633: 1.0, 638: 2.0, 640: 6.0, 641: 1.0, 642: 3.0, 643: 1.0, 644: 4.0, 645: 4.0, 646: 9.0, 647: 4.0, 648: 6.0, 649: 3.0, 650: 3.0, 654: 4.0, 655: 2.0, 656: 7.0, 659: 2.0, 660: 1.0, 661: 6.0, 663: 1.0, 666: 3.0, 669: 12.0, 670: 4.0, 671: 1.0, 673: 1.0, 674: 4.0, 676: 2.0, 678: 3.0, 679: 1.0, 680: 3.0, 682: 1.0, 684: 1.0, 687: 3.0, 688: 1.0, 689: 3.0, 690: 18.0, 692: 1.0, 695: 3.0, 696: 1.0, 697: 2.0, 699: 11.0, 701: 5.0, 702: 4.0, 703: 1.0, 704: 1.0, 705: 2.0, 706: 5.0, 707: 2.0, 708: 2.0, 710: 1.0, 713: 6.0, 714: 4.0, 715: 2.0, 716: 3.0, 717: 1.0, 718: 2.0, 720: 2.0, 721: 6.0, 723: 3.0, 726: 1.0, 727: 1.0, 729: 2.0, 731: 4.0, 732: 2.0, 733: 1.0, 737: 1.0, 738: 5.0, 739: 4.0, 741: 2.0, 742: 6.0, 743: 3.0, 744: 2.0, 746: 2.0, 747: 5.0, 748: 1.0, 749: 4.0, 752: 4.0, 754: 2.0, 755: 3.0, 756: 3.0, 757: 5.0, 759: 1.0, 761: 5.0, 762: 1.0, 764: 2.0, 765: 4.0, 767: 2.0, 769: 3.0, 770: 5.0, 771: 7.0, 772: 1.0, 773: 2.0, 776: 1.0, 778: 2.0, 779: 3.0, 780: 2.0, 782: 1.0, 784: 2.0, 785: 2.0, 786: 3.0, 787: 2.0, 790: 1.0, 791: 4.0, 793: 1.0, 794: 2.0, 796: 4.0, 801: 3.0, 806: 1.0, 809: 1.0, 811: 1.0, 812: 3.0, 813: 3.0, 816: 4.0, 823: 2.0, 824: 7.0, 825: 7.0, 826: 1.0, 828: 2.0, 829: 3.0, 830: 1.0, 831: 1.0, 832: 1.0, 834: 1.0, 835: 4.0, 837: 1.0, 838: 3.0, 841: 2.0, 843: 1.0, 845: 4.0, 846: 2.0, 847: 1.0, 848: 1.0, 849: 1.0, 851: 1.0, 853: 3.0, 854: 8.0, 856: 1.0, 857: 2.0, 858: 1.0, 860: 1.0, 863: 1.0, 864: 2.0, 865: 2.0, 866: 2.0, 867: 3.0, 870: 1.0, 873: 6.0, 874: 1.0, 875: 5.0, 876: 1.0, 877: 3.0, 878: 4.0, 880: 5.0, 881: 2.0, 882: 1.0, 885: 2.0, 887: 1.0, 888: 1.0, 890: 2.0, 891: 4.0, 892: 1.0, 895: 1.0, 897: 2.0, 899: 1.0, 900: 1.0, 901: 1.0, 903: 14.0, 904: 8.0, 905: 1.0, 907: 3.0, 908: 1.0, 909: 5.0, 912: 5.0, 913: 5.0, 914: 1.0, 915: 1.0, 920: 3.0, 921: 2.0, 922: 3.0, 924: 3.0, 925: 6.0, 926: 12.0, 928: 2.0, 929: 3.0, 930: 2.0, 932: 1.0, 933: 5.0, 935: 3.0, 936: 3.0, 937: 2.0, 939: 3.0, 941: 1.0, 942: 4.0, 944: 6.0, 946: 3.0, 947: 2.0, 948: 2.0, 949: 2.0, 952: 4.0, 953: 1.0, 956: 2.0, 957: 2.0, 961: 4.0, 962: 1.0, 966: 1.0, 967: 1.0, 968: 2.0, 972: 4.0, 974: 1.0, 975: 1.0, 979: 2.0, 981: 4.0, 982: 3.0, 983: 2.0, 985: 1.0, 987: 1.0, 989: 2.0, 991: 2.0, 992: 2.0, 993: 2.0, 999: 3.0, 1002: 1.0, 1003: 3.0, 1004: 2.0, 1005: 1.0, 1006: 1.0, 1008: 1.0, 1009: 3.0, 1011: 2.0, 1012: 2.0, 1018: 3.0, 1019: 4.0, 1020: 1.0, 1022: 1.0, 1023: 3.0, 1024: 1.0, 1027: 4.0, 1029: 1.0, 1030: 3.0, 1031: 1.0, 1032: 2.0, 1034: 7.0, 1035: 2.0, 1036: 1.0, 1037: 5.0, 1041: 6.0, 1042: 2.0, 1043: 4.0, 1046: 1.0, 1047: 2.0, 1048: 2.0, 1050: 3.0, 1051: 1.0, 1053: 2.0, 1054: 1.0, 1055: 1.0, 1056: 5.0, 1057: 2.0, 1059: 5.0, 1063: 2.0, 1069: 4.0, 1071: 2.0, 1076: 10.0, 1081: 2.0, 1082: 1.0, 1083: 3.0, 1084: 1.0, 1085: 1.0, 1086: 1.0, 1088: 1.0, 1092: 1.0, 1093: 1.0, 1097: 2.0, 1098: 2.0, 1100: 6.0, 1101: 2.0, 1103: 1.0, 1105: 6.0, 1110: 1.0, 1112: 1.0, 1113: 4.0, 1115: 3.0, 1116: 2.0, 1118: 2.0, 1119: 2.0, 1120: 3.0, 1122: 3.0, 1123: 3.0, 1124: 4.0, 1128: 2.0, 1133: 1.0, 1135: 2.0, 1136: 1.0, 1139: 4.0, 1140: 1.0, 1141: 1.0, 1142: 5.0, 1146: 8.0, 1148: 2.0, 1149: 1.0, 1150: 2.0, 1151: 1.0, 1152: 1.0, 1153: 4.0, 1155: 1.0, 1157: 2.0, 1158: 2.0, 1159: 2.0, 1161: 3.0, 1163: 4.0, 1166: 3.0, 1168: 1.0, 1169: 2.0, 1171: 1.0, 1175: 2.0, 1176: 1.0, 1177: 4.0, 1178: 11.0, 1180: 3.0, 1181: 3.0, 1183: 2.0, 1187: 4.0, 1188: 1.0, 1191: 1.0, 1192: 1.0, 1194: 1.0, 1197: 1.0, 1199: 1.0, 1200: 8.0, 1201: 1.0, 1207: 1.0, 1210: 1.0, 1214: 3.0, 1215: 1.0, 1216: 2.0, 1218: 1.0, 1219: 3.0, 1222: 2.0, 1223: 1.0, 1224: 1.0, 1225: 1.0, 1229: 3.0, 1230: 1.0, 1234: 7.0, 1235: 2.0, 1236: 2.0, 1241: 1.0, 1242: 2.0, 1243: 3.0, 1244: 1.0, 1247: 2.0, 1248: 1.0, 1250: 1.0, 1251: 2.0, 1252: 1.0, 1254: 2.0, 1255: 3.0, 1256: 1.0, 1259: 2.0, 1261: 1.0, 1262: 1.0, 1263: 2.0, 1266: 3.0, 1268: 1.0, 1269: 8.0, 1272: 1.0, 1274: 1.0, 1276: 6.0, 1278: 4.0, 1279: 2.0, 1280: 1.0, 1281: 2.0, 1282: 1.0, 1283: 1.0, 1286: 2.0, 1287: 4.0, 1288: 1.0, 1289: 5.0, 1292: 1.0, 1295: 1.0, 1299: 1.0, 1300: 3.0, 1302: 3.0, 1303: 4.0, 1305: 1.0, 1308: 1.0, 1309: 11.0, 1311: 1.0, 1313: 1.0, 1314: 3.0, 1315: 1.0, 1318: 7.0, 1322: 2.0, 1323: 1.0, 1324: 4.0, 1325: 5.0, 1327: 5.0, 1328: 4.0, 1329: 3.0, 1331: 1.0, 1336: 2.0, 1339: 1.0, 1343: 3.0, 1346: 2.0, 1347: 1.0, 1348: 1.0, 1349: 4.0, 1350: 2.0, 1353: 1.0, 1357: 2.0, 1358: 2.0, 1359: 1.0, 1360: 3.0, 1361: 1.0, 1362: 4.0, 1364: 2.0, 1367: 3.0, 1368: 1.0, 1371: 2.0, 1373: 5.0, 1378: 1.0, 1379: 2.0, 1380: 2.0, 1382: 1.0, 1383: 2.0, 1384: 1.0, 1388: 1.0, 1390: 2.0, 1395: 2.0, 1396: 1.0, 1397: 4.0, 1399: 2.0, 1400: 5.0, 1404: 3.0, 1405: 7.0, 1410: 1.0, 1413: 1.0, 1414: 1.0, 1415: 1.0, 1417: 3.0, 1418: 2.0, 1419: 1.0, 1420: 2.0, 1422: 1.0, 1426: 1.0, 1427: 1.0, 1428: 5.0, 1430: 1.0, 1431: 1.0, 1433: 7.0, 1434: 1.0, 1438: 1.0, 1443: 1.0, 1446: 1.0, 1448: 2.0, 1449: 1.0, 1452: 2.0, 1454: 1.0, 1455: 2.0, 1456: 1.0, 1457: 2.0, 1460: 3.0, 1465: 5.0, 1467: 3.0, 1469: 2.0, 1472: 1.0, 1473: 1.0, 1474: 2.0, 1478: 1.0, 1479: 2.0, 1480: 1.0, 1487: 1.0, 1488: 3.0, 1489: 2.0, 1490: 2.0, 1491: 2.0, 1492: 1.0, 1493: 1.0, 1494: 4.0, 1495: 2.0, 1498: 1.0, 1500: 1.0, 1502: 1.0, 1505: 1.0, 1507: 1.0, 1511: 1.0, 1512: 1.0, 1517: 2.0, 1518: 4.0, 1521: 2.0, 1525: 3.0, 1528: 1.0, 1530: 1.0, 1531: 1.0, 1533: 3.0, 1534: 1.0, 1536: 2.0, 1537: 2.0, 1540: 1.0, 1544: 1.0, 1545: 1.0, 1546: 1.0, 1547: 3.0, 1548: 5.0, 1551: 2.0, 1555: 4.0, 1557: 1.0, 1560: 2.0, 1564: 2.0, 1567: 1.0, 1568: 2.0, 1569: 2.0, 1570: 2.0, 1571: 2.0, 1572: 1.0, 1573: 1.0, 1579: 1.0, 1581: 1.0, 1583: 1.0, 1584: 2.0, 1586: 1.0, 1587: 3.0, 1588: 4.0, 1591: 2.0, 1599: 1.0, 1600: 1.0, 1603: 1.0, 1605: 6.0, 1606: 1.0, 1607: 1.0, 1608: 1.0, 1609: 3.0, 1612: 2.0, 1613: 1.0, 1616: 4.0, 1618: 1.0, 1619: 1.0, 1620: 4.0, 1623: 1.0, 1624: 2.0, 1626: 1.0, 1627: 1.0, 1628: 1.0, 1630: 2.0, 1631: 2.0, 1632: 1.0, 1633: 1.0, 1635: 3.0, 1640: 2.0, 1641: 1.0, 1642: 2.0, 1645: 2.0, 1646: 9.0, 1649: 3.0, 1653: 1.0, 1656: 1.0, 1657: 1.0, 1661: 1.0, 1663: 1.0, 1666: 2.0, 1667: 1.0, 1672: 4.0, 1674: 1.0, 1677: 4.0, 1680: 4.0, 1681: 1.0, 1682: 2.0, 1685: 5.0, 1686: 1.0, 1687: 1.0, 1688: 3.0, 1689: 2.0, 1690: 3.0, 1691: 1.0, 1692: 3.0, 1694: 1.0, 1700: 3.0, 1701: 1.0, 1702: 1.0, 1703: 9.0, 1705: 2.0, 1706: 3.0, 1709: 4.0, 1710: 4.0, 1711: 2.0, 1712: 1.0, 1718: 5.0, 1720: 2.0, 1724: 1.0, 1729: 1.0, 1732: 1.0, 1735: 4.0, 1736: 2.0, 1738: 2.0, 1739: 1.0, 1742: 1.0, 1745: 2.0, 1748: 2.0, 1749: 3.0, 1750: 2.0, 1751: 5.0, 1752: 1.0, 1753: 3.0, 1755: 3.0, 1756: 3.0, 1757: 2.0, 1759: 1.0, 1761: 7.0, 1765: 1.0, 1766: 1.0, 1768: 2.0, 1769: 1.0, 1771: 1.0, 1772: 2.0, 1773: 3.0, 1774: 1.0, 1776: 1.0, 1777: 3.0, 1778: 1.0, 1780: 1.0, 1782: 1.0, 1783: 1.0, 1784: 2.0, 1786: 3.0, 1787: 1.0, 1789: 1.0, 1793: 1.0, 1795: 1.0, 1797: 1.0, 1802: 3.0, 1808: 1.0, 1810: 1.0, 1812: 1.0, 1813: 3.0, 1814: 2.0, 1815: 1.0, 1816: 1.0, 1818: 1.0, 1819: 2.0, 1820: 4.0, 1821: 3.0, 1823: 1.0, 1825: 1.0, 1826: 1.0, 1830: 1.0, 1831: 4.0, 1834: 1.0, 1840: 5.0, 1842: 1.0, 1845: 3.0, 1846: 2.0, 1848: 1.0, 1849: 2.0, 1854: 4.0, 1857: 5.0, 1860: 1.0, 1862: 2.0, 1864: 8.0, 1866: 1.0, 1868: 1.0, 1869: 1.0, 1871: 1.0, 1873: 1.0, 1876: 1.0, 1879: 1.0, 1880: 1.0, 1881: 1.0, 1882: 3.0, 1887: 1.0, 1890: 1.0, 1891: 2.0, 1895: 1.0, 1896: 2.0, 1897: 3.0, 1899: 1.0, 1903: 2.0, 1904: 1.0, 1905: 1.0, 1911: 1.0, 1913: 2.0, 1917: 1.0, 1918: 2.0, 1922: 1.0, 1928: 1.0, 1929: 1.0, 1931: 1.0, 1934: 1.0, 1938: 1.0, 1939: 2.0, 1940: 1.0, 1941: 2.0, 1942: 1.0, 1945: 1.0, 1947: 2.0, 1949: 2.0, 1955: 1.0, 1956: 2.0, 1959: 1.0, 1963: 1.0, 1964: 1.0, 1965: 1.0, 1966: 2.0, 1970: 2.0, 1971: 1.0, 1972: 2.0, 1975: 3.0, 1977: 1.0, 1978: 3.0, 1979: 1.0, 1981: 1.0, 1989: 1.0, 1991: 1.0, 1994: 1.0, 1998: 1.0, 2002: 1.0, 2004: 1.0, 2005: 2.0, 2007: 1.0, 2008: 9.0, 2009: 1.0, 2010: 1.0, 2011: 4.0, 2019: 1.0, 2021: 1.0, 2029: 2.0, 2033: 1.0, 2034: 7.0, 2036: 2.0, 2039: 1.0, 2046: 2.0, 2048: 1.0, 2051: 2.0, 2052: 1.0, 2054: 2.0, 2058: 1.0, 2059: 1.0, 2067: 1.0, 2068: 1.0, 2069: 1.0, 2072: 2.0, 2073: 1.0, 2074: 1.0, 2076: 2.0, 2078: 3.0, 2081: 8.0, 2082: 3.0, 2083: 1.0, 2085: 1.0, 2087: 1.0, 2089: 1.0, 2091: 1.0, 2092: 1.0, 2093: 1.0, 2095: 1.0, 2100: 1.0, 2103: 1.0, 2104: 1.0, 2108: 3.0, 2109: 2.0, 2110: 1.0, 2112: 2.0, 2113: 2.0, 2115: 1.0, 2116: 1.0, 2118: 1.0, 2122: 2.0, 2124: 1.0, 2128: 1.0, 2130: 1.0, 2131: 1.0, 2137: 1.0, 2143: 1.0, 2148: 1.0, 2150: 1.0, 2154: 2.0, 2156: 1.0, 2159: 3.0, 2162: 1.0, 2165: 2.0, 2166: 1.0, 2168: 1.0, 2176: 3.0, 2179: 2.0, 2180: 1.0, 2183: 1.0, 2184: 2.0, 2189: 1.0, 2190: 1.0, 2195: 1.0, 2198: 1.0, 2202: 2.0, 2203: 1.0, 2204: 1.0, 2208: 1.0, 2211: 1.0, 2212: 1.0, 2215: 1.0, 2217: 2.0, 2219: 1.0, 2225: 2.0, 2226: 1.0, 2228: 1.0, 2229: 2.0, 2234: 2.0, 2239: 3.0, 2240: 2.0, 2241: 2.0, 2242: 1.0, 2243: 4.0, 2246: 1.0, 2249: 5.0, 2253: 1.0, 2256: 1.0, 2259: 1.0, 2260: 1.0, 2268: 1.0, 2278: 3.0, 2280: 1.0, 2283: 3.0, 2285: 6.0, 2290: 1.0, 2292: 2.0, 2293: 1.0, 2295: 1.0, 2300: 1.0, 2301: 1.0, 2303: 1.0, 2307: 8.0, 2310: 2.0, 2313: 1.0, 2315: 2.0, 2316: 2.0, 2318: 1.0, 2322: 1.0, 2325: 1.0, 2326: 2.0, 2330: 2.0, 2333: 2.0, 2334: 1.0, 2336: 1.0, 2338: 3.0, 2344: 1.0, 2349: 1.0, 2351: 2.0, 2352: 1.0, 2358: 1.0, 2360: 1.0, 2361: 1.0, 2362: 1.0, 2363: 3.0, 2365: 1.0, 2367: 2.0, 2368: 1.0, 2370: 1.0, 2372: 2.0, 2378: 1.0, 2379: 10.0, 2380: 4.0, 2385: 1.0, 2386: 1.0, 2388: 1.0, 2393: 2.0, 2394: 3.0, 2398: 2.0, 2409: 1.0, 2410: 1.0, 2411: 1.0, 2413: 1.0, 2415: 2.0, 2416: 2.0, 2418: 3.0, 2419: 1.0, 2424: 1.0, 2425: 1.0, 2428: 1.0, 2429: 1.0, 2430: 1.0, 2432: 2.0, 2435: 19.0, 2436: 1.0, 2447: 2.0, 2449: 2.0, 2450: 2.0, 2455: 1.0, 2456: 3.0, 2459: 4.0, 2462: 1.0, 2463: 1.0, 2464: 8.0, 2466: 2.0, 2467: 2.0, 2470: 2.0, 2471: 1.0, 2479: 2.0, 2480: 1.0, 2483: 1.0, 2485: 1.0, 2486: 1.0, 2489: 1.0, 2490: 1.0, 2492: 1.0, 2493: 1.0, 2497: 1.0, 2499: 5.0, 2502: 2.0, 2508: 4.0, 2509: 2.0, 2511: 2.0, 2514: 2.0, 2517: 2.0, 2521: 1.0, 2522: 1.0, 2524: 2.0, 2533: 1.0, 2540: 1.0, 2541: 1.0, 2542: 2.0, 2545: 1.0, 2547: 1.0, 2548: 1.0, 2549: 1.0, 2550: 2.0, 2551: 2.0, 2555: 2.0, 2557: 1.0, 2559: 1.0, 2562: 1.0, 2570: 1.0, 2571: 1.0, 2573: 2.0, 2574: 1.0, 2577: 2.0, 2587: 1.0, 2589: 1.0, 2590: 2.0, 2599: 1.0, 2604: 2.0, 2608: 2.0, 2614: 1.0, 2616: 2.0, 2617: 1.0, 2618: 1.0, 2629: 1.0, 2634: 1.0, 2636: 3.0, 2642: 1.0, 2643: 2.0, 2644: 1.0, 2651: 2.0, 2653: 2.0, 2656: 1.0, 2661: 1.0, 2662: 2.0, 2663: 3.0, 2672: 1.0, 2673: 2.0, 2676: 1.0, 2677: 1.0, 2682: 1.0, 2683: 1.0, 2684: 1.0, 2686: 3.0, 2687: 2.0, 2688: 2.0, 2690: 3.0, 2693: 1.0, 2695: 3.0, 2696: 2.0, 2697: 6.0, 2699: 2.0, 2701: 1.0, 2703: 1.0, 2704: 1.0, 2707: 1.0, 2710: 1.0, 2711: 2.0, 2715: 2.0, 2716: 1.0, 2722: 1.0, 2730: 1.0, 2731: 1.0, 2733: 1.0, 2735: 11.0, 2741: 1.0, 2751: 1.0, 2753: 3.0, 2758: 1.0, 2765: 2.0, 2767: 2.0, 2772: 1.0, 2773: 1.0, 2775: 1.0, 2779: 2.0, 2788: 2.0, 2791: 1.0, 2793: 1.0, 2797: 2.0, 2798: 1.0, 2799: 1.0, 2803: 1.0, 2805: 1.0, 2807: 6.0, 2811: 2.0, 2813: 1.0, 2815: 13.0, 2821: 2.0, 2824: 3.0, 2826: 1.0, 2829: 1.0, 2837: 1.0, 2839: 1.0, 2842: 2.0, 2844: 12.0, 2848: 1.0, 2852: 1.0, 2856: 1.0, 2861: 1.0, 2868: 1.0, 2870: 2.0, 2871: 1.0, 2874: 2.0, 2877: 1.0, 2880: 1.0, 2884: 1.0, 2885: 2.0, 2887: 1.0, 2893: 2.0, 2894: 1.0, 2902: 2.0, 2905: 5.0, 2911: 2.0, 2914: 1.0, 2923: 5.0, 2928: 3.0, 2936: 2.0, 2941: 1.0, 2942: 1.0, 2947: 1.0, 2955: 1.0, 2957: 2.0, 2960: 2.0, 2962: 1.0, 2969: 1.0, 2970: 1.0, 2973: 1.0, 2974: 2.0, 2976: 1.0, 2980: 1.0, 2982: 1.0, 2984: 1.0, 2991: 1.0, 2995: 2.0, 2996: 1.0, 3003: 1.0, 3004: 2.0, 3005: 1.0, 3021: 1.0, 3025: 3.0, 3026: 4.0, 3029: 1.0, 3032: 1.0, 3033: 1.0, 3037: 2.0, 3038: 1.0, 3039: 1.0, 3041: 2.0, 3049: 1.0, 3057: 2.0, 3065: 1.0, 3086: 1.0, 3090: 1.0, 3102: 1.0, 3103: 1.0, 3108: 1.0, 3113: 1.0, 3117: 1.0, 3119: 1.0, 3120: 3.0, 3122: 3.0, 3123: 2.0, 3124: 1.0, 3132: 1.0, 3135: 2.0, 3145: 1.0, 3151: 1.0, 3155: 1.0, 3156: 1.0, 3157: 1.0, 3163: 2.0, 3167: 2.0, 3175: 1.0, 3189: 2.0, 3192: 2.0, 3196: 3.0, 3199: 1.0, 3200: 3.0, 3206: 1.0, 3208: 1.0, 3209: 1.0, 3211: 2.0, 3221: 1.0, 3222: 1.0, 3238: 2.0, 3240: 2.0, 3243: 1.0, 3247: 1.0, 3249: 7.0, 3252: 3.0, 3254: 1.0, 3257: 1.0, 3258: 1.0, 3259: 2.0, 3262: 1.0, 3265: 1.0, 3267: 1.0, 3268: 2.0, 3270: 1.0, 3271: 1.0, 3286: 1.0, 3288: 1.0, 3291: 3.0, 3297: 4.0, 3298: 1.0, 3300: 1.0, 3301: 2.0, 3307: 1.0, 3311: 1.0, 3313: 8.0, 3315: 1.0, 3319: 1.0, 3322: 1.0, 3323: 1.0, 3326: 2.0, 3328: 1.0, 3329: 1.0, 3330: 2.0, 3333: 1.0, 3335: 1.0, 3340: 2.0, 3343: 2.0, 3346: 1.0, 3349: 1.0, 3352: 2.0, 3355: 1.0, 3356: 3.0, 3365: 1.0, 3366: 1.0, 3368: 1.0, 3372: 2.0, 3375: 1.0, 3376: 8.0, 3377: 1.0, 3378: 1.0, 3379: 1.0, 3383: 1.0, 3388: 2.0, 3391: 2.0, 3403: 1.0, 3413: 1.0, 3417: 2.0, 3418: 1.0, 3426: 2.0, 3427: 2.0, 3428: 1.0, 3431: 1.0, 3434: 1.0, 3437: 2.0, 3439: 1.0, 3442: 1.0, 3443: 1.0, 3446: 3.0, 3452: 1.0, 3457: 1.0, 3461: 1.0, 3464: 1.0, 3468: 1.0, 3472: 1.0, 3473: 1.0, 3478: 1.0, 3479: 3.0, 3485: 1.0, 3493: 1.0, 3495: 1.0, 3505: 3.0, 3506: 2.0, 3508: 1.0, 3510: 3.0, 3511: 1.0, 3515: 2.0, 3518: 1.0, 3520: 2.0, 3523: 3.0, 3525: 3.0, 3550: 1.0, 3553: 1.0, 3554: 1.0, 3557: 1.0, 3559: 2.0, 3563: 2.0, 3565: 1.0, 3567: 1.0, 3569: 2.0, 3574: 1.0, 3580: 1.0, 3583: 1.0, 3584: 5.0, 3589: 2.0, 3590: 1.0, 3593: 1.0, 3594: 4.0, 3602: 2.0, 3607: 11.0, 3608: 2.0, 3610: 1.0, 3612: 1.0, 3615: 1.0, 3619: 1.0, 3623: 2.0, 3629: 1.0, 3631: 1.0, 3634: 1.0, 3640: 1.0, 3644: 1.0, 3645: 1.0, 3648: 1.0, 3655: 1.0, 3665: 1.0, 3673: 1.0, 3676: 2.0, 3680: 1.0, 3681: 1.0, 3686: 2.0, 3691: 1.0, 3698: 2.0, 3699: 1.0, 3703: 1.0, 3705: 2.0, 3707: 1.0, 3709: 1.0, 3712: 1.0, 3715: 1.0, 3716: 4.0, 3718: 1.0, 3726: 1.0, 3727: 2.0, 3729: 1.0, 3732: 1.0, 3737: 1.0, 3739: 7.0, 3741: 1.0, 3746: 5.0, 3749: 1.0, 3753: 3.0, 3756: 1.0, 3762: 1.0, 3766: 1.0, 3771: 1.0, 3773: 1.0, 3775: 4.0, 3776: 1.0, 3779: 3.0, 3782: 1.0, 3790: 1.0, 3793: 1.0, 3804: 1.0, 3810: 1.0, 3816: 1.0, 3817: 1.0, 3819: 1.0, 3823: 2.0, 3826: 1.0, 3829: 1.0, 3832: 2.0, 3834: 3.0, 3835: 1.0, 3847: 1.0, 3848: 1.0, 3849: 1.0, 3853: 1.0, 3854: 1.0, 3859: 1.0, 3865: 1.0, 3872: 3.0, 3876: 2.0, 3878: 1.0, 3882: 1.0, 3885: 1.0, 3889: 1.0, 3891: 1.0, 3893: 1.0, 3898: 1.0, 3900: 1.0, 3903: 1.0, 3906: 1.0, 3907: 1.0, 3910: 1.0, 3912: 1.0, 3915: 2.0, 3924: 2.0, 3934: 1.0, 3938: 4.0, 3954: 2.0, 3958: 1.0, 3960: 1.0, 3970: 3.0, 3973: 1.0, 3981: 3.0, 3983: 1.0, 3984: 1.0, 3985: 4.0, 3987: 1.0, 3995: 1.0, 3996: 1.0, 3998: 2.0, 4004: 1.0, 4005: 1.0, 4007: 1.0, 4009: 1.0, 4013: 2.0, 4019: 1.0, 4026: 1.0, 4029: 1.0, 4044: 1.0, 4045: 4.0, 4046: 1.0, 4048: 1.0, 4050: 1.0, 4054: 1.0, 4062: 1.0, 4068: 1.0, 4069: 1.0, 4070: 2.0, 4073: 1.0, 4076: 1.0, 4077: 1.0, 4081: 1.0, 4083: 1.0, 4089: 1.0, 4091: 8.0, 4093: 1.0, 4097: 1.0, 4101: 1.0, 4104: 1.0, 4109: 1.0, 4112: 1.0, 4117: 1.0, 4125: 1.0, 4145: 1.0, 4156: 1.0, 4163: 1.0, 4167: 1.0, 4169: 1.0, 4174: 2.0, 4185: 1.0, 4190: 1.0, 4192: 1.0, 4194: 1.0, 4201: 2.0, 4210: 1.0, 4212: 1.0, 4215: 1.0, 4216: 27.0, 4218: 1.0, 4225: 3.0, 4226: 2.0, 4229: 3.0, 4238: 1.0, 4243: 1.0, 4244: 1.0, 4248: 1.0, 4251: 1.0, 4255: 1.0, 4256: 1.0, 4261: 1.0, 4264: 1.0, 4268: 1.0, 4271: 1.0, 4275: 1.0, 4276: 1.0, 4282: 2.0, 4285: 3.0, 4289: 1.0, 4293: 1.0, 4301: 1.0, 4302: 1.0, 4306: 3.0, 4310: 3.0, 4324: 1.0, 4325: 1.0, 4328: 1.0, 4339: 1.0, 4340: 5.0, 4341: 1.0, 4350: 1.0, 4351: 1.0, 4357: 1.0, 4361: 1.0, 4362: 1.0, 4372: 2.0, 4373: 2.0, 4376: 1.0, 4380: 1.0, 4381: 1.0, 4382: 1.0, 4385: 2.0, 4388: 3.0, 4397: 1.0, 4400: 2.0, 4409: 1.0, 4410: 1.0, 4414: 1.0, 4418: 2.0, 4422: 1.0, 4423: 1.0, 4424: 1.0, 4427: 1.0, 4435: 1.0, 4441: 1.0, 4444: 2.0, 4445: 2.0, 4448: 1.0, 4451: 1.0, 4452: 1.0, 4458: 3.0, 4463: 1.0, 4465: 1.0, 4466: 2.0, 4469: 2.0, 4473: 1.0, 4488: 1.0, 4495: 1.0, 4503: 1.0, 4509: 1.0, 4514: 1.0, 4519: 1.0, 4526: 1.0, 4531: 1.0, 4534: 1.0, 4536: 1.0, 4537: 1.0, 4539: 1.0, 4546: 6.0, 4548: 3.0, 4557: 1.0, 4558: 2.0, 4560: 2.0, 4562: 1.0, 4565: 2.0, 4580: 1.0, 4581: 1.0, 4592: 4.0, 4598: 2.0, 4600: 2.0, 4603: 1.0, 4614: 2.0, 4619: 1.0, 4621: 2.0, 4630: 1.0, 4636: 1.0, 4643: 1.0, 4646: 1.0, 4650: 5.0, 4674: 1.0, 4678: 1.0, 4687: 2.0, 4691: 1.0, 4694: 1.0, 4696: 1.0, 4697: 2.0, 4703: 1.0, 4706: 1.0, 4713: 1.0, 4716: 1.0, 4720: 1.0, 4721: 4.0, 4725: 1.0, 4729: 1.0, 4736: 1.0, 4738: 1.0, 4759: 1.0, 4765: 1.0, 4777: 1.0, 4782: 1.0, 4785: 1.0, 4786: 1.0, 4798: 3.0, 4799: 1.0, 4814: 1.0, 4820: 1.0, 4826: 1.0, 4831: 1.0, 4835: 1.0, 4841: 1.0, 4842: 1.0, 4844: 1.0, 4855: 1.0, 4868: 1.0, 4880: 2.0, 4881: 1.0, 4882: 1.0, 4888: 1.0, 4892: 1.0, 4895: 1.0, 4907: 1.0, 4909: 1.0, 4910: 3.0, 4915: 1.0, 4925: 1.0, 4927: 1.0, 4932: 2.0, 4935: 1.0, 4941: 1.0, 4944: 1.0, 4952: 1.0, 4954: 1.0, 4960: 1.0, 4963: 1.0, 4969: 1.0, 4978: 1.0, 4988: 2.0, 4989: 1.0, 4991: 1.0, 4996: 1.0, 4998: 1.0, 5003: 1.0, 5008: 2.0, 5031: 1.0, 5032: 1.0, 5035: 1.0, 5039: 1.0, 5044: 9.0, 5059: 2.0, 5069: 2.0, 5071: 1.0, 5076: 1.0, 5080: 2.0, 5090: 2.0, 5091: 1.0, 5094: 1.0, 5104: 1.0, 5110: 2.0, 5119: 1.0, 5125: 1.0, 5128: 1.0, 5129: 1.0, 5131: 1.0, 5139: 1.0, 5153: 1.0, 5157: 1.0, 5160: 1.0, 5168: 2.0, 5175: 1.0, 5177: 3.0, 5178: 1.0, 5190: 1.0, 5197: 1.0, 5198: 2.0, 5203: 2.0, 5205: 1.0, 5208: 1.0, 5239: 2.0, 5246: 1.0, 5261: 1.0, 5262: 1.0, 5267: 1.0, 5273: 1.0, 5278: 1.0, 5279: 1.0, 5311: 1.0, 5317: 1.0, 5321: 2.0, 5348: 2.0, 5351: 1.0, 5354: 1.0, 5373: 2.0, 5389: 1.0, 5397: 2.0, 5399: 1.0, 5411: 1.0, 5412: 1.0, 5414: 1.0, 5416: 1.0, 5426: 1.0, 5435: 2.0, 5448: 2.0, 5456: 3.0, 5459: 1.0, 5464: 1.0, 5467: 2.0, 5491: 1.0, 5493: 1.0, 5494: 1.0, 5503: 1.0, 5511: 1.0, 5513: 1.0, 5517: 1.0, 5518: 1.0, 5542: 1.0, 5544: 1.0, 5567: 1.0, 5572: 1.0, 5580: 1.0, 5581: 1.0, 5584: 1.0, 5593: 1.0, 5597: 1.0, 5599: 1.0, 5609: 1.0, 5620: 1.0, 5630: 2.0, 5632: 2.0, 5643: 1.0, 5654: 1.0, 5658: 3.0, 5662: 2.0, 5667: 1.0, 5668: 1.0, 5692: 1.0, 5701: 1.0, 5707: 1.0, 5718: 1.0, 5720: 2.0, 5721: 2.0, 5724: 1.0, 5751: 1.0, 5755: 1.0, 5760: 1.0, 5762: 1.0, 5763: 1.0, 5777: 2.0, 5780: 2.0, 5781: 1.0, 5784: 1.0, 5789: 1.0, 5793: 1.0, 5808: 2.0, 5814: 1.0, 5828: 1.0, 5832: 1.0, 5834: 1.0, 5842: 1.0, 5858: 1.0, 5863: 1.0, 5867: 1.0, 5881: 1.0, 5883: 1.0, 5906: 1.0, 5911: 1.0, 5916: 1.0, 5925: 2.0, 5932: 1.0, 5939: 1.0, 5951: 1.0, 5977: 1.0, 5978: 1.0, 5984: 1.0, 5986: 2.0, 5991: 4.0, 5996: 1.0, 5998: 1.0, 6006: 1.0, 6026: 1.0, 6029: 1.0, 6032: 1.0, 6042: 1.0, 6053: 2.0, 6060: 1.0, 6064: 1.0, 6067: 2.0, 6071: 1.0, 6092: 2.0, 6098: 2.0, 6104: 1.0, 6134: 2.0, 6138: 2.0, 6143: 1.0, 6200: 5.0, 6233: 1.0, 6245: 1.0, 6270: 2.0, 6276: 1.0, 6279: 1.0, 6280: 1.0, 6291: 1.0, 6307: 2.0, 6308: 1.0, 6328: 1.0, 6332: 1.0, 6333: 2.0, 6336: 3.0, 6349: 1.0, 6352: 1.0, 6353: 1.0, 6363: 1.0, 6374: 1.0, 6382: 1.0, 6398: 2.0, 6404: 1.0, 6411: 5.0, 6420: 1.0, 6432: 1.0, 6435: 1.0, 6451: 1.0, 6464: 1.0, 6465: 1.0, 6468: 1.0, 6484: 1.0, 6485: 1.0, 6489: 1.0, 6490: 1.0, 6500: 1.0, 6505: 1.0, 6519: 2.0, 6524: 1.0, 6527: 1.0, 6539: 1.0, 6543: 4.0, 6557: 1.0, 6563: 1.0, 6574: 1.0, 6575: 1.0, 6576: 1.0, 6609: 2.0, 6617: 1.0, 6623: 1.0, 6629: 2.0, 6638: 1.0, 6650: 1.0, 6658: 1.0, 6664: 1.0, 6684: 1.0, 6694: 1.0, 6699: 1.0, 6702: 4.0, 6713: 1.0, 6716: 1.0, 6717: 1.0, 6721: 1.0, 6735: 1.0, 6750: 1.0, 6756: 1.0, 6801: 2.0, 6808: 1.0, 6821: 1.0, 6861: 1.0, 6871: 1.0, 6898: 1.0, 6899: 3.0, 6910: 1.0, 6921: 1.0, 6923: 1.0, 6941: 1.0, 6963: 1.0, 6974: 1.0, 6981: 1.0, 6986: 1.0, 6993: 1.0, 6994: 1.0, 6999: 1.0, 7002: 1.0, 7007: 1.0, 7012: 2.0, 7018: 1.0, 7028: 1.0, 7042: 1.0, 7044: 1.0, 7053: 1.0, 7066: 1.0, 7082: 1.0, 7086: 2.0, 7093: 2.0, 7099: 1.0, 7101: 1.0, 7115: 2.0, 7124: 1.0, 7125: 3.0, 7129: 1.0, 7147: 1.0, 7168: 2.0, 7169: 1.0, 7202: 1.0, 7204: 1.0, 7210: 1.0, 7215: 1.0, 7221: 3.0, 7229: 3.0, 7236: 1.0, 7243: 1.0, 7255: 1.0, 7263: 1.0, 7273: 2.0, 7274: 2.0, 7279: 1.0, 7284: 1.0, 7289: 1.0, 7295: 1.0, 7301: 1.0, 7307: 1.0, 7311: 1.0, 7312: 1.0, 7319: 2.0, 7320: 1.0, 7322: 2.0, 7325: 1.0, 7335: 3.0, 7365: 1.0, 7369: 1.0, 7379: 1.0, 7382: 1.0, 7390: 1.0, 7391: 1.0, 7394: 1.0, 7402: 1.0, 7410: 1.0, 7419: 1.0, 7427: 1.0, 7447: 1.0, 7449: 1.0, 7463: 1.0, 7470: 1.0, 7481: 1.0, 7500: 2.0, 7503: 1.0, 7506: 1.0, 7510: 2.0, 7529: 1.0, 7531: 1.0, 7535: 2.0, 7558: 2.0, 7575: 1.0, 7596: 1.0, 7605: 2.0, 7610: 1.0, 7641: 4.0, 7647: 2.0, 7653: 1.0, 7663: 1.0, 7665: 1.0, 7687: 4.0, 7694: 1.0, 7712: 1.0, 7731: 1.0, 7736: 5.0, 7738: 1.0, 7763: 1.0, 7769: 2.0, 7774: 1.0, 7785: 2.0, 7799: 1.0, 7805: 1.0, 7814: 1.0, 7815: 2.0, 7821: 1.0, 7846: 1.0, 7849: 1.0, 7866: 3.0, 7902: 1.0, 7910: 1.0, 7915: 1.0, 7918: 1.0, 7930: 1.0, 7931: 1.0, 7937: 1.0, 7942: 1.0, 7948: 1.0, 7963: 1.0, 7990: 1.0, 7995: 1.0, 7996: 2.0, 7997: 1.0, 8014: 1.0, 8023: 1.0, 8031: 1.0, 8056: 1.0, 8070: 1.0, 8079: 1.0, 8087: 1.0, 8093: 1.0, 8107: 1.0, 8110: 2.0, 8115: 1.0, 8135: 1.0, 8142: 5.0, 8150: 1.0, 8186: 1.0, 8207: 1.0, 8222: 1.0, 8250: 1.0, 8268: 1.0, 8271: 2.0, 8276: 1.0, 8280: 1.0, 8290: 1.0, 8315: 2.0, 8321: 1.0, 8327: 1.0, 8329: 2.0, 8335: 1.0, 8338: 1.0, 8346: 1.0, 8352: 1.0, 8367: 1.0, 8368: 1.0, 8386: 7.0, 8387: 2.0, 8391: 1.0, 8392: 1.0, 8420: 1.0, 8431: 1.0, 8437: 1.0, 8446: 2.0, 8478: 1.0, 8483: 1.0, 8496: 2.0, 8535: 1.0, 8568: 1.0, 8577: 1.0, 8595: 1.0, 8596: 1.0, 8602: 1.0, 8608: 1.0, 8625: 1.0, 8649: 1.0, 8693: 1.0, 8727: 1.0, 8828: 1.0, 8839: 1.0, 8841: 1.0, 8844: 1.0, 8849: 1.0, 8854: 1.0, 8857: 1.0, 8859: 1.0, 8873: 1.0, 8912: 1.0, 8923: 1.0, 8973: 1.0, 9006: 1.0, 9017: 1.0, 9034: 2.0, 9042: 1.0, 9058: 1.0, 9102: 1.0, 9105: 1.0, 9134: 1.0, 9136: 2.0, 9154: 2.0, 9157: 1.0, 9159: 1.0, 9161: 1.0, 9171: 1.0, 9189: 1.0, 9201: 1.0, 9217: 1.0, 9218: 1.0, 9248: 7.0, 9253: 3.0, 9274: 2.0, 9296: 1.0, 9311: 1.0, 9322: 1.0, 9332: 4.0, 9333: 1.0, 9353: 1.0, 9362: 1.0, 9399: 1.0, 9424: 1.0, 9428: 1.0, 9525: 1.0, 9527: 1.0, 9532: 1.0, 9533: 1.0, 9545: 1.0, 9552: 1.0, 9557: 2.0, 9565: 1.0, 9586: 1.0, 9596: 1.0, 9672: 1.0, 9701: 1.0, 9734: 1.0, 9765: 1.0, 9766: 1.0, 9768: 1.0, 9772: 1.0, 9777: 1.0, 9799: 1.0, 9815: 1.0, 9829: 1.0, 9869: 1.0, 9872: 1.0, 9876: 1.0, 9878: 2.0, 9882: 1.0, 9889: 1.0, 9912: 1.0, 9924: 1.0, 9937: 1.0, 9957: 2.0, 9962: 1.0, 9995: 1.0, 10009: 1.0, 10021: 1.0, 10041: 1.0, 10049: 1.0, 10061: 1.0, 10102: 1.0, 10124: 1.0, 10153: 1.0, 10183: 1.0, 10196: 1.0, 10205: 1.0, 10217: 1.0, 10224: 1.0, 10245: 1.0, 10248: 2.0, 10251: 5.0, 10252: 1.0, 10297: 1.0, 10323: 5.0, 10332: 1.0, 10351: 2.0, 10363: 2.0, 10381: 3.0, 10423: 1.0, 10489: 1.0, 10499: 1.0, 10505: 1.0, 10579: 1.0, 10586: 1.0, 10590: 1.0, 10632: 1.0, 10648: 2.0, 10657: 1.0, 10686: 1.0, 10709: 1.0, 10726: 1.0, 10751: 1.0, 10856: 1.0, 10859: 1.0, 10910: 1.0, 10912: 1.0, 10919: 1.0, 10924: 1.0, 10945: 1.0, 10960: 1.0, 10965: 1.0, 10989: 1.0, 10992: 1.0, 10999: 1.0, 11004: 2.0, 11012: 1.0, 11024: 1.0, 11030: 1.0, 11050: 1.0, 11055: 1.0, 11064: 2.0, 11073: 4.0, 11124: 1.0, 11126: 1.0, 11132: 1.0, 11226: 1.0, 11266: 1.0, 11276: 1.0, 11309: 1.0, 11311: 1.0, 11316: 1.0, 11327: 1.0, 11329: 1.0, 11343: 1.0, 11402: 1.0, 11410: 1.0, 11419: 3.0, 11434: 1.0, 11466: 1.0, 11526: 1.0, 11534: 1.0, 11552: 1.0, 11569: 1.0, 11570: 1.0, 11591: 1.0, 11598: 1.0, 11601: 1.0, 11603: 1.0, 11606: 1.0, 11610: 1.0, 11624: 1.0, 11631: 1.0, 11643: 1.0, 11655: 1.0, 11663: 1.0, 11702: 1.0, 11725: 1.0, 11741: 1.0, 11774: 1.0, 11792: 1.0, 11800: 1.0, 11842: 1.0, 11846: 1.0, 11861: 1.0, 11895: 3.0, 11897: 1.0, 11903: 1.0, 11916: 1.0, 11930: 1.0, 11945: 1.0, 11950: 1.0, 11952: 1.0, 11984: 3.0, 12037: 1.0, 12044: 1.0, 12057: 1.0, 12101: 1.0, 12106: 1.0, 12125: 1.0, 12143: 1.0, 12190: 1.0, 12194: 1.0, 12219: 1.0, 12229: 1.0, 12245: 1.0, 12326: 2.0, 12342: 1.0, 12382: 1.0, 12388: 2.0, 12395: 1.0, 12398: 2.0, 12403: 1.0, 12405: 1.0, 12418: 1.0, 12428: 2.0, 12433: 1.0, 12450: 1.0, 12513: 1.0, 12552: 1.0, 12585: 1.0, 12644: 1.0, 12667: 1.0, 12685: 1.0, 12695: 1.0, 12700: 2.0, 12701: 1.0, 12704: 1.0, 12768: 1.0, 12780: 1.0, 12828: 1.0, 12887: 2.0, 12897: 1.0, 12952: 1.0, 12971: 1.0, 12975: 1.0, 12986: 1.0, 13050: 1.0, 13087: 1.0, 13102: 1.0, 13118: 1.0, 13121: 1.0, 13143: 4.0, 13157: 2.0, 13171: 1.0, 13194: 1.0, 13317: 1.0, 13333: 1.0, 13341: 3.0, 13342: 3.0, 13356: 1.0, 13360: 1.0, 13369: 1.0, 13413: 1.0, 13424: 1.0, 13431: 2.0, 13492: 1.0, 13499: 1.0, 13537: 1.0, 13541: 1.0, 13545: 1.0, 13550: 1.0, 13564: 1.0, 13732: 1.0, 13743: 1.0, 13744: 1.0, 13758: 1.0, 13764: 3.0, 13792: 1.0, 13805: 1.0, 13849: 1.0, 13870: 1.0, 13933: 1.0, 13938: 1.0, 13996: 1.0, 14030: 1.0, 14031: 1.0, 14062: 1.0, 14069: 1.0, 14079: 3.0, 14087: 1.0, 14115: 2.0, 14125: 1.0, 14133: 1.0, 14206: 1.0, 14224: 1.0, 14269: 1.0, 14299: 1.0, 14306: 1.0, 14336: 1.0, 14372: 1.0, 14405: 1.0, 14406: 1.0, 14418: 1.0, 14457: 1.0, 14489: 1.0, 14511: 2.0, 14524: 1.0, 14530: 1.0, 14531: 1.0, 14575: 2.0, 14603: 1.0, 14643: 1.0, 14663: 1.0, 14667: 1.0, 14685: 1.0, 14691: 1.0, 14704: 1.0, 14707: 1.0, 14855: 1.0, 14910: 1.0, 14946: 2.0, 14954: 1.0, 14969: 1.0, 15005: 1.0, 15010: 1.0, 15027: 1.0, 15047: 1.0, 15057: 1.0, 15063: 1.0, 15067: 1.0, 15086: 1.0, 15178: 1.0, 15187: 1.0, 15202: 3.0, 15222: 1.0, 15232: 1.0, 15319: 1.0, 15325: 1.0, 15372: 1.0, 15386: 1.0, 15420: 1.0, 15429: 1.0, 15431: 1.0, 15449: 1.0, 15455: 1.0, 15497: 1.0, 15534: 1.0, 15586: 1.0, 15658: 2.0, 15681: 1.0, 15682: 1.0, 15709: 1.0, 15771: 1.0, 15815: 1.0, 15845: 1.0, 15905: 1.0, 15913: 1.0, 15964: 1.0, 16031: 2.0, 16052: 1.0, 16057: 1.0, 16079: 1.0, 16117: 1.0, 16155: 1.0, 16158: 1.0, 16180: 1.0, 16184: 1.0, 16191: 1.0, 16278: 1.0, 16301: 1.0, 16303: 1.0, 16329: 1.0, 16334: 1.0, 16356: 1.0, 16364: 1.0, 16395: 1.0, 16446: 1.0, 16487: 1.0, 16503: 1.0, 16506: 1.0, 16515: 1.0, 16525: 1.0, 16530: 1.0, 16535: 1.0, 16626: 1.0, 16691: 1.0, 16758: 1.0, 16823: 1.0, 16839: 1.0, 16844: 1.0, 16930: 1.0, 16947: 1.0, 17001: 1.0, 17009: 1.0, 17039: 1.0, 17061: 1.0, 17098: 1.0, 17131: 2.0, 17154: 1.0, 17175: 1.0, 17177: 1.0, 17256: 1.0, 17327: 1.0, 17341: 2.0, 17419: 1.0, 17448: 1.0, 17476: 1.0, 17480: 1.0, 17492: 2.0, 17538: 1.0, 17574: 1.0, 17609: 1.0, 17625: 1.0, 17681: 1.0, 17700: 1.0, 17748: 1.0, 17755: 1.0, 17776: 1.0, 17781: 1.0, 17786: 1.0, 17865: 1.0, 17877: 1.0, 17919: 1.0, 17937: 1.0, 17969: 1.0, 18032: 2.0, 18038: 1.0, 18061: 1.0, 18113: 1.0, 18114: 1.0, 18124: 1.0, 18136: 1.0, 18162: 1.0, 18278: 1.0, 18291: 1.0, 18310: 1.0, 18322: 1.0, 18343: 1.0, 18406: 1.0, 18433: 1.0, 18446: 2.0, 18539: 1.0, 18567: 1.0, 18708: 1.0, 18754: 1.0, 18760: 1.0, 18790: 1.0, 18791: 1.0, 18793: 1.0, 18866: 1.0, 18868: 1.0, 18881: 1.0, 18959: 2.0, 19059: 1.0, 19092: 1.0, 19189: 1.0, 19238: 2.0, 19356: 1.0, 19368: 1.0, 19370: 1.0, 19456: 1.0, 19467: 1.0, 19524: 1.0, 19565: 1.0, 19613: 1.0, 19660: 1.0, 19885: 2.0, 19920: 1.0, 20034: 1.0, 20075: 1.0, 20083: 1.0, 20109: 1.0, 20142: 1.0, 20146: 1.0, 20168: 1.0, 20179: 1.0, 20232: 1.0, 20240: 2.0, 20252: 1.0, 20339: 1.0, 20353: 1.0, 20355: 1.0, 20543: 2.0, 20596: 1.0, 20598: 1.0, 20804: 1.0, 20864: 1.0, 20880: 1.0, 20882: 1.0, 20916: 1.0, 21108: 1.0, 21197: 1.0, 21386: 1.0, 21438: 1.0, 21485: 1.0, 21567: 1.0, 21739: 1.0, 21858: 1.0, 21859: 1.0, 21896: 1.0, 21919: 1.0, 22020: 2.0, 22352: 1.0, 22403: 1.0, 22425: 1.0, 22567: 1.0, 22729: 1.0, 22737: 2.0, 22741: 1.0, 22790: 1.0, 22802: 1.0, 23072: 1.0, 23089: 1.0, 23093: 1.0, 23190: 1.0, 23268: 1.0, 23298: 1.0, 23367: 1.0, 23428: 1.0, 23792: 1.0, 23811: 1.0, 23878: 1.0, 24132: 3.0, 24284: 1.0, 24657: 1.0, 24662: 1.0, 24663: 1.0, 24691: 1.0, 24772: 1.0, 24812: 1.0, 24875: 1.0, 24968: 1.0, 24972: 1.0, 25038: 2.0, 25094: 1.0, 25313: 1.0, 25330: 1.0, 25511: 2.0, 25537: 1.0, 25688: 1.0, 25875: 1.0, 25876: 1.0, 25880: 1.0, 25962: 1.0, 26074: 1.0, 26108: 1.0, 26147: 1.0, 26193: 3.0, 26266: 1.0, 26347: 1.0, 26427: 1.0, 26432: 1.0, 26594: 1.0, 26608: 2.0, 26653: 1.0, 26672: 1.0, 26736: 1.0, 26750: 1.0, 26885: 1.0, 26921: 1.0, 27025: 2.0, 27127: 1.0, 27245: 1.0, 27430: 1.0, 27488: 1.0, 27494: 1.0, 27504: 1.0, 27555: 1.0, 27561: 1.0, 27737: 1.0, 27752: 1.0, 27844: 1.0, 27921: 1.0, 28022: 1.0, 28198: 1.0, 28444: 2.0, 28548: 1.0, 28863: 1.0, 29019: 1.0, 29166: 2.0, 29244: 1.0, 29297: 1.0, 29399: 1.0, 29452: 1.0, 29697: 1.0, 29698: 1.0, 29752: 2.0, 29766: 1.0, 29945: 1.0, 30078: 1.0, 30107: 1.0, 30653: 1.0, 30667: 1.0, 30711: 1.0, 30782: 1.0, 30851: 1.0, 30909: 1.0, 31067: 1.0, 31085: 1.0, 31265: 1.0, 31445: 2.0, 31456: 1.0, 31488: 1.0, 31809: 1.0, 31893: 1.0, 31957: 1.0, 31987: 1.0, 32176: 1.0, 32340: 1.0, 32378: 1.0, 32473: 1.0, 32661: 1.0, 32900: 1.0, 32982: 1.0, 33133: 1.0, 33287: 1.0, 33331: 1.0, 33399: 1.0, 33416: 1.0, 33513: 1.0, 33705: 1.0, 33762: 1.0, 33810: 1.0, 34001: 1.0, 34027: 1.0, 34345: 1.0, 34450: 1.0, 34588: 1.0, 34705: 1.0, 34902: 2.0, 35040: 1.0, 35126: 1.0, 35147: 1.0, 35232: 1.0, 35288: 1.0, 35624: 1.0, 36083: 1.0, 36138: 1.0, 36164: 1.0, 36237: 1.0, 36359: 1.0, 37290: 1.0, 37326: 1.0, 37333: 1.0, 37583: 2.0, 37632: 1.0, 38059: 1.0, 38124: 1.0, 38143: 1.0, 38584: 1.0, 38607: 1.0, 38848: 1.0, 38910: 1.0, 38965: 1.0, 39947: 1.0, 40312: 1.0, 40414: 1.0, 40480: 1.0, 40555: 1.0, 40714: 1.0, 41532: 1.0, 41570: 1.0, 42385: 1.0, 42766: 1.0, 42779: 1.0, 42987: 1.0, 43070: 1.0, 43549: 1.0, 43703: 1.0, 44330: 1.0, 44357: 1.0, 44975: 1.0, 45382: 1.0, 46027: 1.0, 46720: 1.0, 46841: 1.0, 47656: 1.0, 47682: 2.0, 49009: 1.0, 49485: 1.0, 49584: 1.0, 50023: 1.0, 51820: 1.0, 52147: 1.0, 52280: 1.0, 52720: 1.0, 53222: 1.0, 53256: 1.0, 53831: 2.0, 53961: 1.0, 54459: 1.0, 54892: 1.0, 55897: 1.0, 56234: 1.0, 57081: 1.0, 57326: 2.0, 57862: 1.0, 60119: 1.0, 60178: 1.0, 60939: 2.0, 61066: 1.0, 61388: 1.0, 61566: 1.0, 64174: 6.0, 64890: 1.0, 65816: 1.0, 66374: 1.0, 66704: 13.0, 66716: 1.0, 70020: 1.0, 70332: 1.0, 70521: 1.0, 71183: 1.0, 72317: 1.0, 72390: 3.0, 75341: 1.0, 77121: 2.0, 77364: 1.0, 81967: 1.0, 83639: 3.0, 88071: 2.0, 91533: 1.0, 92256: 1.0, 93626: 1.0, 94738: 1.0, 97849: 1.0, 99566: 2.0})),\n",
       " ('458',\n",
       "  SparseVector(100000, {0: 4.0, 1: 13.0, 2: 3.0, 3: 20.0, 4: 20.0, 5: 7.0, 7: 33.0, 8: 8.0, 9: 8.0, 11: 16.0, 12: 6.0, 13: 14.0, 14: 11.0, 15: 8.0, 16: 8.0, 17: 17.0, 18: 7.0, 19: 6.0, 20: 16.0, 21: 4.0, 22: 3.0, 23: 26.0, 24: 11.0, 25: 3.0, 26: 5.0, 27: 4.0, 28: 12.0, 29: 2.0, 30: 11.0, 31: 3.0, 32: 5.0, 34: 4.0, 35: 1.0, 37: 4.0, 38: 22.0, 39: 10.0, 40: 12.0, 41: 6.0, 42: 4.0, 43: 10.0, 44: 5.0, 45: 21.0, 46: 2.0, 47: 1.0, 48: 8.0, 49: 31.0, 50: 7.0, 52: 4.0, 53: 10.0, 55: 1.0, 56: 16.0, 57: 8.0, 58: 1.0, 59: 1.0, 62: 9.0, 64: 2.0, 65: 10.0, 66: 29.0, 68: 7.0, 71: 1.0, 72: 1.0, 74: 7.0, 75: 7.0, 76: 2.0, 79: 3.0, 81: 1.0, 82: 2.0, 83: 4.0, 84: 1.0, 85: 1.0, 86: 1.0, 87: 5.0, 88: 1.0, 90: 19.0, 91: 3.0, 92: 8.0, 93: 2.0, 94: 6.0, 96: 17.0, 97: 2.0, 98: 8.0, 101: 3.0, 102: 1.0, 103: 5.0, 104: 5.0, 105: 7.0, 106: 1.0, 107: 1.0, 109: 3.0, 111: 4.0, 112: 1.0, 114: 1.0, 115: 6.0, 118: 8.0, 119: 2.0, 120: 4.0, 121: 1.0, 122: 10.0, 124: 2.0, 126: 2.0, 128: 5.0, 129: 6.0, 130: 3.0, 132: 3.0, 133: 10.0, 134: 2.0, 135: 1.0, 136: 1.0, 137: 4.0, 138: 1.0, 139: 1.0, 140: 3.0, 141: 2.0, 142: 11.0, 144: 7.0, 146: 1.0, 147: 2.0, 148: 8.0, 149: 3.0, 150: 3.0, 152: 5.0, 153: 8.0, 154: 2.0, 155: 1.0, 158: 1.0, 160: 2.0, 161: 5.0, 163: 5.0, 164: 3.0, 166: 4.0, 167: 1.0, 168: 3.0, 170: 6.0, 171: 7.0, 172: 8.0, 173: 3.0, 174: 4.0, 176: 15.0, 177: 4.0, 179: 5.0, 180: 1.0, 182: 6.0, 184: 4.0, 185: 3.0, 187: 1.0, 188: 3.0, 189: 6.0, 191: 1.0, 192: 1.0, 193: 2.0, 194: 2.0, 195: 4.0, 196: 1.0, 200: 4.0, 202: 6.0, 205: 2.0, 208: 1.0, 209: 13.0, 210: 4.0, 211: 3.0, 213: 2.0, 214: 2.0, 216: 3.0, 217: 11.0, 219: 2.0, 220: 1.0, 221: 3.0, 222: 3.0, 226: 4.0, 227: 6.0, 228: 2.0, 229: 1.0, 230: 2.0, 231: 2.0, 232: 6.0, 233: 1.0, 236: 8.0, 238: 7.0, 240: 1.0, 241: 2.0, 242: 1.0, 243: 18.0, 244: 5.0, 245: 8.0, 246: 3.0, 248: 2.0, 249: 1.0, 250: 9.0, 254: 3.0, 255: 2.0, 256: 1.0, 257: 8.0, 261: 10.0, 262: 16.0, 263: 2.0, 264: 1.0, 265: 2.0, 267: 1.0, 268: 6.0, 269: 4.0, 272: 5.0, 274: 1.0, 275: 1.0, 276: 2.0, 279: 1.0, 281: 2.0, 282: 1.0, 284: 7.0, 285: 2.0, 288: 3.0, 289: 4.0, 290: 1.0, 294: 3.0, 296: 1.0, 297: 6.0, 299: 2.0, 300: 18.0, 301: 3.0, 306: 1.0, 307: 5.0, 308: 3.0, 311: 1.0, 315: 8.0, 319: 9.0, 321: 2.0, 324: 30.0, 326: 1.0, 327: 2.0, 328: 10.0, 330: 2.0, 331: 8.0, 332: 6.0, 333: 1.0, 334: 1.0, 338: 7.0, 341: 3.0, 342: 4.0, 343: 4.0, 346: 6.0, 347: 1.0, 348: 1.0, 349: 1.0, 350: 8.0, 353: 2.0, 354: 2.0, 355: 7.0, 363: 13.0, 364: 3.0, 367: 1.0, 368: 3.0, 369: 8.0, 370: 10.0, 372: 1.0, 373: 3.0, 374: 3.0, 375: 4.0, 378: 2.0, 382: 1.0, 385: 4.0, 387: 1.0, 388: 2.0, 389: 4.0, 390: 5.0, 391: 6.0, 392: 1.0, 393: 2.0, 395: 3.0, 398: 1.0, 399: 1.0, 400: 3.0, 402: 1.0, 403: 2.0, 404: 4.0, 405: 1.0, 409: 7.0, 411: 6.0, 413: 7.0, 416: 3.0, 417: 11.0, 418: 4.0, 421: 1.0, 424: 1.0, 425: 6.0, 426: 1.0, 428: 1.0, 429: 1.0, 430: 2.0, 431: 1.0, 432: 1.0, 433: 2.0, 437: 1.0, 441: 1.0, 442: 15.0, 443: 2.0, 448: 1.0, 451: 14.0, 453: 2.0, 454: 4.0, 455: 1.0, 456: 2.0, 457: 1.0, 459: 1.0, 461: 4.0, 462: 1.0, 467: 1.0, 468: 2.0, 469: 1.0, 470: 1.0, 472: 3.0, 473: 5.0, 475: 6.0, 476: 4.0, 477: 2.0, 479: 1.0, 482: 1.0, 487: 1.0, 491: 7.0, 492: 2.0, 494: 6.0, 497: 1.0, 499: 3.0, 502: 3.0, 505: 8.0, 507: 1.0, 508: 1.0, 509: 2.0, 510: 3.0, 511: 1.0, 512: 2.0, 513: 1.0, 517: 4.0, 518: 7.0, 519: 5.0, 520: 1.0, 521: 1.0, 525: 7.0, 526: 3.0, 528: 1.0, 531: 1.0, 533: 5.0, 541: 1.0, 542: 7.0, 544: 4.0, 546: 5.0, 547: 2.0, 548: 6.0, 550: 2.0, 553: 1.0, 555: 4.0, 556: 2.0, 557: 26.0, 562: 1.0, 567: 3.0, 568: 2.0, 569: 1.0, 570: 3.0, 573: 2.0, 577: 2.0, 581: 6.0, 582: 1.0, 584: 4.0, 585: 1.0, 588: 1.0, 589: 1.0, 590: 3.0, 591: 1.0, 595: 1.0, 597: 1.0, 603: 4.0, 604: 8.0, 605: 1.0, 606: 2.0, 609: 3.0, 610: 7.0, 614: 5.0, 617: 2.0, 618: 2.0, 625: 2.0, 633: 3.0, 634: 8.0, 637: 1.0, 638: 1.0, 640: 6.0, 641: 6.0, 642: 2.0, 643: 1.0, 645: 2.0, 648: 6.0, 649: 3.0, 650: 1.0, 652: 2.0, 654: 3.0, 656: 6.0, 657: 1.0, 659: 9.0, 660: 4.0, 661: 1.0, 670: 1.0, 677: 1.0, 680: 2.0, 681: 3.0, 687: 1.0, 694: 1.0, 695: 1.0, 696: 7.0, 697: 2.0, 701: 5.0, 702: 3.0, 704: 3.0, 706: 2.0, 708: 3.0, 714: 1.0, 715: 1.0, 716: 2.0, 718: 2.0, 722: 4.0, 723: 3.0, 727: 1.0, 737: 4.0, 739: 9.0, 742: 6.0, 744: 2.0, 746: 5.0, 748: 1.0, 749: 1.0, 751: 6.0, 752: 4.0, 754: 1.0, 756: 3.0, 757: 5.0, 761: 1.0, 763: 4.0, 765: 4.0, 767: 1.0, 771: 3.0, 779: 3.0, 785: 2.0, 786: 1.0, 788: 2.0, 789: 5.0, 790: 2.0, 795: 6.0, 797: 1.0, 801: 3.0, 802: 1.0, 804: 6.0, 806: 2.0, 808: 2.0, 809: 3.0, 813: 1.0, 820: 1.0, 822: 1.0, 823: 1.0, 825: 1.0, 826: 3.0, 828: 1.0, 829: 3.0, 831: 2.0, 832: 2.0, 834: 1.0, 835: 2.0, 837: 1.0, 841: 5.0, 844: 4.0, 845: 4.0, 846: 1.0, 848: 1.0, 850: 1.0, 852: 4.0, 853: 3.0, 854: 5.0, 856: 2.0, 861: 2.0, 863: 3.0, 864: 1.0, 865: 7.0, 867: 1.0, 868: 3.0, 869: 1.0, 876: 1.0, 877: 1.0, 878: 3.0, 879: 2.0, 884: 1.0, 885: 1.0, 887: 2.0, 888: 4.0, 889: 1.0, 894: 1.0, 896: 11.0, 899: 5.0, 900: 1.0, 907: 3.0, 908: 3.0, 909: 1.0, 912: 1.0, 914: 1.0, 916: 1.0, 920: 1.0, 921: 1.0, 922: 3.0, 929: 2.0, 930: 1.0, 931: 5.0, 932: 3.0, 934: 2.0, 935: 1.0, 936: 1.0, 940: 1.0, 941: 1.0, 942: 4.0, 944: 1.0, 946: 3.0, 948: 1.0, 950: 1.0, 951: 1.0, 952: 2.0, 956: 2.0, 960: 1.0, 966: 1.0, 967: 10.0, 968: 2.0, 969: 3.0, 971: 4.0, 973: 10.0, 974: 5.0, 979: 1.0, 981: 1.0, 983: 1.0, 985: 2.0, 992: 1.0, 993: 1.0, 994: 1.0, 995: 14.0, 998: 1.0, 1006: 3.0, 1008: 6.0, 1009: 2.0, 1011: 1.0, 1013: 1.0, 1017: 1.0, 1018: 3.0, 1020: 3.0, 1022: 2.0, 1023: 1.0, 1025: 1.0, 1027: 4.0, 1029: 1.0, 1032: 2.0, 1035: 2.0, 1037: 1.0, 1038: 1.0, 1043: 4.0, 1045: 2.0, 1051: 2.0, 1052: 2.0, 1053: 6.0, 1054: 1.0, 1055: 1.0, 1056: 3.0, 1057: 2.0, 1059: 1.0, 1060: 1.0, 1061: 5.0, 1065: 8.0, 1071: 1.0, 1076: 1.0, 1077: 13.0, 1078: 3.0, 1082: 1.0, 1083: 3.0, 1091: 1.0, 1092: 1.0, 1093: 2.0, 1094: 1.0, 1099: 2.0, 1101: 2.0, 1103: 2.0, 1105: 4.0, 1108: 9.0, 1113: 4.0, 1119: 2.0, 1120: 3.0, 1123: 1.0, 1124: 4.0, 1125: 1.0, 1126: 1.0, 1129: 2.0, 1133: 4.0, 1134: 2.0, 1138: 1.0, 1141: 5.0, 1151: 1.0, 1153: 4.0, 1155: 2.0, 1156: 4.0, 1158: 2.0, 1159: 3.0, 1160: 8.0, 1161: 3.0, 1163: 5.0, 1165: 2.0, 1167: 2.0, 1168: 2.0, 1172: 2.0, 1180: 3.0, 1181: 1.0, 1183: 2.0, 1187: 4.0, 1194: 3.0, 1195: 1.0, 1196: 1.0, 1199: 1.0, 1200: 1.0, 1205: 3.0, 1206: 1.0, 1207: 3.0, 1208: 6.0, 1210: 1.0, 1213: 1.0, 1214: 2.0, 1215: 1.0, 1221: 1.0, 1223: 1.0, 1224: 1.0, 1225: 3.0, 1228: 1.0, 1229: 2.0, 1231: 4.0, 1241: 1.0, 1242: 2.0, 1243: 2.0, 1247: 1.0, 1248: 2.0, 1251: 1.0, 1254: 2.0, 1262: 1.0, 1268: 1.0, 1270: 1.0, 1278: 1.0, 1284: 2.0, 1285: 1.0, 1287: 3.0, 1289: 4.0, 1295: 1.0, 1306: 1.0, 1311: 1.0, 1315: 1.0, 1316: 3.0, 1318: 8.0, 1322: 1.0, 1323: 1.0, 1325: 2.0, 1326: 8.0, 1328: 1.0, 1331: 1.0, 1333: 2.0, 1335: 11.0, 1336: 4.0, 1339: 1.0, 1341: 1.0, 1342: 3.0, 1343: 8.0, 1344: 3.0, 1346: 2.0, 1349: 4.0, 1351: 1.0, 1353: 1.0, 1355: 1.0, 1356: 4.0, 1357: 1.0, 1358: 2.0, 1361: 1.0, 1362: 3.0, 1368: 5.0, 1371: 2.0, 1375: 1.0, 1379: 1.0, 1390: 2.0, 1397: 3.0, 1399: 1.0, 1400: 2.0, 1401: 4.0, 1403: 1.0, 1407: 2.0, 1408: 2.0, 1416: 2.0, 1418: 2.0, 1420: 2.0, 1422: 3.0, 1425: 2.0, 1427: 1.0, 1436: 3.0, 1444: 2.0, 1446: 6.0, 1447: 5.0, 1448: 1.0, 1449: 1.0, 1450: 1.0, 1452: 1.0, 1454: 2.0, 1457: 1.0, 1460: 1.0, 1465: 2.0, 1466: 3.0, 1467: 1.0, 1468: 2.0, 1470: 1.0, 1472: 1.0, 1477: 2.0, 1479: 2.0, 1482: 4.0, 1489: 2.0, 1490: 1.0, 1492: 1.0, 1495: 1.0, 1500: 3.0, 1503: 1.0, 1512: 1.0, 1513: 1.0, 1517: 2.0, 1524: 2.0, 1531: 1.0, 1533: 2.0, 1535: 1.0, 1537: 1.0, 1541: 3.0, 1545: 2.0, 1548: 2.0, 1551: 2.0, 1558: 5.0, 1565: 1.0, 1574: 1.0, 1579: 1.0, 1581: 1.0, 1582: 1.0, 1585: 1.0, 1588: 1.0, 1589: 2.0, 1594: 1.0, 1597: 3.0, 1599: 3.0, 1601: 6.0, 1602: 1.0, 1603: 3.0, 1605: 1.0, 1606: 1.0, 1610: 1.0, 1612: 1.0, 1616: 1.0, 1618: 1.0, 1619: 2.0, 1621: 1.0, 1623: 1.0, 1627: 2.0, 1630: 1.0, 1631: 1.0, 1632: 1.0, 1633: 3.0, 1634: 4.0, 1635: 3.0, 1639: 1.0, 1642: 2.0, 1643: 2.0, 1645: 1.0, 1646: 1.0, 1647: 3.0, 1649: 3.0, 1652: 1.0, 1653: 2.0, 1654: 3.0, 1655: 7.0, 1660: 1.0, 1675: 3.0, 1678: 3.0, 1680: 1.0, 1683: 1.0, 1686: 14.0, 1688: 1.0, 1690: 3.0, 1696: 1.0, 1697: 1.0, 1700: 3.0, 1701: 8.0, 1705: 1.0, 1706: 3.0, 1710: 2.0, 1712: 2.0, 1714: 1.0, 1718: 5.0, 1719: 2.0, 1726: 6.0, 1730: 5.0, 1733: 1.0, 1735: 1.0, 1736: 1.0, 1742: 5.0, 1744: 4.0, 1746: 2.0, 1747: 1.0, 1748: 2.0, 1756: 1.0, 1758: 2.0, 1768: 2.0, 1769: 4.0, 1772: 10.0, 1773: 1.0, 1777: 3.0, 1778: 3.0, 1782: 4.0, 1783: 1.0, 1785: 1.0, 1787: 1.0, 1788: 1.0, 1789: 2.0, 1792: 5.0, 1795: 1.0, 1800: 3.0, 1804: 1.0, 1808: 1.0, 1809: 2.0, 1811: 1.0, 1813: 2.0, 1815: 2.0, 1819: 1.0, 1821: 3.0, 1825: 1.0, 1827: 1.0, 1830: 1.0, 1831: 2.0, 1838: 1.0, 1839: 2.0, 1842: 1.0, 1845: 3.0, 1847: 2.0, 1849: 2.0, 1851: 3.0, 1853: 2.0, 1858: 4.0, 1862: 2.0, 1867: 1.0, 1872: 1.0, 1873: 2.0, 1874: 1.0, 1876: 2.0, 1877: 1.0, 1879: 1.0, 1888: 1.0, 1890: 1.0, 1891: 2.0, 1897: 1.0, 1898: 2.0, 1901: 1.0, 1904: 1.0, 1905: 2.0, 1909: 1.0, 1910: 1.0, 1911: 1.0, 1912: 2.0, 1913: 1.0, 1914: 1.0, 1918: 1.0, 1922: 1.0, 1935: 9.0, 1937: 8.0, 1939: 2.0, 1941: 2.0, 1942: 1.0, 1948: 1.0, 1953: 2.0, 1961: 3.0, 1963: 1.0, 1964: 1.0, 1965: 5.0, 1970: 1.0, 1974: 1.0, 1977: 1.0, 1982: 3.0, 1986: 2.0, 1988: 1.0, 1991: 1.0, 1998: 1.0, 2001: 10.0, 2005: 1.0, 2010: 1.0, 2013: 1.0, 2018: 1.0, 2019: 2.0, 2022: 1.0, 2026: 2.0, 2028: 1.0, 2032: 1.0, 2033: 3.0, 2037: 1.0, 2038: 4.0, 2040: 1.0, 2045: 1.0, 2048: 7.0, 2051: 1.0, 2059: 1.0, 2067: 3.0, 2070: 1.0, 2072: 3.0, 2078: 4.0, 2080: 1.0, 2083: 1.0, 2085: 1.0, 2086: 1.0, 2099: 1.0, 2102: 1.0, 2103: 1.0, 2107: 1.0, 2109: 1.0, 2110: 1.0, 2111: 1.0, 2116: 9.0, 2119: 1.0, 2122: 1.0, 2123: 1.0, 2124: 5.0, 2130: 1.0, 2132: 3.0, 2137: 1.0, 2142: 4.0, 2145: 1.0, 2149: 9.0, 2151: 2.0, 2154: 2.0, 2158: 2.0, 2163: 1.0, 2166: 1.0, 2175: 3.0, 2178: 4.0, 2179: 2.0, 2181: 1.0, 2184: 1.0, 2186: 2.0, 2188: 2.0, 2193: 2.0, 2203: 3.0, 2204: 1.0, 2209: 6.0, 2211: 1.0, 2216: 1.0, 2220: 2.0, 2226: 1.0, 2227: 3.0, 2228: 5.0, 2231: 2.0, 2232: 1.0, 2234: 2.0, 2235: 2.0, 2236: 1.0, 2238: 4.0, 2240: 2.0, 2241: 2.0, 2253: 1.0, 2256: 5.0, 2260: 1.0, 2263: 1.0, 2265: 3.0, 2267: 1.0, 2273: 1.0, 2280: 1.0, 2289: 1.0, 2290: 1.0, 2292: 1.0, 2293: 1.0, 2294: 1.0, 2298: 3.0, 2301: 2.0, 2303: 1.0, 2315: 1.0, 2325: 1.0, 2326: 1.0, 2328: 1.0, 2332: 1.0, 2348: 1.0, 2359: 7.0, 2365: 1.0, 2368: 1.0, 2370: 1.0, 2372: 2.0, 2377: 1.0, 2380: 2.0, 2389: 2.0, 2392: 1.0, 2396: 1.0, 2410: 2.0, 2415: 2.0, 2424: 2.0, 2425: 1.0, 2429: 1.0, 2431: 1.0, 2432: 2.0, 2436: 2.0, 2437: 2.0, 2443: 1.0, 2447: 2.0, 2448: 8.0, 2453: 4.0, 2455: 3.0, 2459: 1.0, 2460: 2.0, 2466: 2.0, 2467: 2.0, 2479: 2.0, 2480: 1.0, 2485: 1.0, 2492: 2.0, 2496: 4.0, 2499: 1.0, 2500: 1.0, 2501: 2.0, 2502: 2.0, 2504: 2.0, 2509: 2.0, 2511: 2.0, 2514: 2.0, 2520: 1.0, 2526: 2.0, 2531: 3.0, 2542: 2.0, 2545: 3.0, 2550: 2.0, 2556: 1.0, 2558: 1.0, 2559: 1.0, 2560: 2.0, 2562: 2.0, 2563: 1.0, 2564: 3.0, 2568: 3.0, 2571: 1.0, 2574: 1.0, 2575: 3.0, 2576: 1.0, 2588: 2.0, 2592: 1.0, 2599: 1.0, 2601: 3.0, 2604: 2.0, 2610: 1.0, 2614: 1.0, 2616: 2.0, 2617: 1.0, 2618: 1.0, 2621: 1.0, 2624: 2.0, 2626: 1.0, 2633: 1.0, 2634: 1.0, 2635: 5.0, 2638: 14.0, 2642: 1.0, 2643: 1.0, 2644: 2.0, 2645: 1.0, 2647: 7.0, 2650: 1.0, 2652: 1.0, 2656: 1.0, 2661: 1.0, 2662: 1.0, 2664: 5.0, 2673: 2.0, 2677: 3.0, 2683: 1.0, 2684: 1.0, 2686: 1.0, 2688: 2.0, 2694: 1.0, 2702: 1.0, 2708: 1.0, 2710: 1.0, 2719: 2.0, 2725: 2.0, 2733: 1.0, 2739: 3.0, 2741: 1.0, 2751: 1.0, 2761: 1.0, 2762: 11.0, 2772: 2.0, 2773: 1.0, 2778: 4.0, 2799: 1.0, 2803: 1.0, 2804: 3.0, 2805: 1.0, 2809: 1.0, 2814: 1.0, 2819: 1.0, 2825: 6.0, 2828: 2.0, 2829: 7.0, 2831: 1.0, 2838: 2.0, 2840: 4.0, 2842: 1.0, 2843: 1.0, 2852: 1.0, 2858: 3.0, 2860: 6.0, 2878: 1.0, 2880: 1.0, 2881: 3.0, 2886: 1.0, 2894: 1.0, 2897: 6.0, 2901: 2.0, 2903: 1.0, 2907: 3.0, 2909: 1.0, 2914: 2.0, 2920: 1.0, 2923: 1.0, 2924: 2.0, 2925: 1.0, 2933: 1.0, 2941: 1.0, 2943: 1.0, 2944: 1.0, 2947: 2.0, 2953: 2.0, 2961: 3.0, 2962: 1.0, 2963: 1.0, 2969: 1.0, 2979: 1.0, 2980: 5.0, 2982: 1.0, 2986: 6.0, 2987: 1.0, 2988: 3.0, 2999: 1.0, 3003: 3.0, 3009: 1.0, 3011: 1.0, 3021: 2.0, 3032: 1.0, 3041: 1.0, 3055: 2.0, 3057: 1.0, 3058: 4.0, 3063: 2.0, 3065: 1.0, 3067: 1.0, 3076: 6.0, 3080: 1.0, 3081: 2.0, 3085: 2.0, 3101: 6.0, 3103: 3.0, 3120: 1.0, 3132: 1.0, 3145: 1.0, 3154: 1.0, 3155: 1.0, 3156: 1.0, 3158: 4.0, 3163: 2.0, 3165: 1.0, 3172: 1.0, 3173: 1.0, 3177: 1.0, 3181: 3.0, 3182: 4.0, 3183: 1.0, 3189: 2.0, 3192: 3.0, 3197: 1.0, 3198: 1.0, 3200: 1.0, 3210: 1.0, 3211: 1.0, 3218: 1.0, 3233: 1.0, 3237: 3.0, 3239: 1.0, 3241: 2.0, 3243: 1.0, 3247: 3.0, 3251: 1.0, 3252: 3.0, 3258: 1.0, 3264: 1.0, 3268: 1.0, 3269: 1.0, 3271: 2.0, 3283: 1.0, 3287: 1.0, 3288: 6.0, 3296: 1.0, 3297: 1.0, 3300: 1.0, 3305: 1.0, 3311: 3.0, 3312: 1.0, 3315: 1.0, 3316: 2.0, 3325: 4.0, 3332: 5.0, 3339: 1.0, 3340: 1.0, 3341: 2.0, 3343: 1.0, 3345: 2.0, 3349: 1.0, 3352: 1.0, 3354: 1.0, 3355: 2.0, 3368: 1.0, 3371: 1.0, 3372: 1.0, 3374: 1.0, 3375: 1.0, 3384: 1.0, 3386: 1.0, 3398: 2.0, 3399: 1.0, 3420: 1.0, 3432: 1.0, 3436: 2.0, 3439: 1.0, 3441: 3.0, 3442: 2.0, 3443: 1.0, 3444: 2.0, 3448: 3.0, 3455: 5.0, 3457: 1.0, 3462: 1.0, 3466: 1.0, 3470: 1.0, 3476: 5.0, 3478: 1.0, 3482: 3.0, 3484: 2.0, 3491: 3.0, 3496: 2.0, 3498: 1.0, 3501: 2.0, 3504: 2.0, 3511: 1.0, 3514: 1.0, 3516: 16.0, 3518: 1.0, 3520: 1.0, 3528: 10.0, 3539: 3.0, 3543: 1.0, 3546: 3.0, 3552: 1.0, 3554: 2.0, 3559: 1.0, 3560: 1.0, 3563: 1.0, 3565: 1.0, 3577: 3.0, 3589: 2.0, 3590: 1.0, 3595: 1.0, 3603: 1.0, 3606: 1.0, 3612: 1.0, 3617: 2.0, 3623: 1.0, 3634: 1.0, 3645: 1.0, 3650: 1.0, 3652: 2.0, 3655: 1.0, 3675: 1.0, 3678: 1.0, 3685: 1.0, 3697: 1.0, 3709: 1.0, 3715: 1.0, 3718: 1.0, 3741: 1.0, 3742: 1.0, 3750: 1.0, 3753: 3.0, 3755: 2.0, 3760: 3.0, 3766: 1.0, 3774: 2.0, 3776: 1.0, 3785: 2.0, 3797: 1.0, 3801: 1.0, 3804: 1.0, 3810: 3.0, 3811: 1.0, 3835: 1.0, 3837: 1.0, 3838: 1.0, 3847: 3.0, 3851: 1.0, 3852: 1.0, 3856: 1.0, 3857: 1.0, 3859: 1.0, 3863: 1.0, 3867: 1.0, 3878: 1.0, 3883: 1.0, 3885: 1.0, 3889: 1.0, 3902: 1.0, 3907: 1.0, 3910: 1.0, 3912: 1.0, 3915: 1.0, 3942: 1.0, 3947: 3.0, 3965: 2.0, 3966: 2.0, 3970: 2.0, 3972: 2.0, 3978: 2.0, 3983: 2.0, 3984: 2.0, 4000: 1.0, 4023: 1.0, 4026: 4.0, 4029: 1.0, 4033: 2.0, 4035: 1.0, 4036: 2.0, 4046: 1.0, 4047: 1.0, 4052: 2.0, 4065: 1.0, 4073: 2.0, 4076: 1.0, 4087: 3.0, 4092: 1.0, 4098: 2.0, 4101: 1.0, 4108: 1.0, 4112: 1.0, 4124: 1.0, 4128: 1.0, 4137: 1.0, 4144: 3.0, 4156: 1.0, 4157: 1.0, 4161: 4.0, 4163: 1.0, 4172: 1.0, 4175: 3.0, 4177: 1.0, 4178: 2.0, 4182: 1.0, 4186: 1.0, 4187: 1.0, 4190: 2.0, 4192: 1.0, 4193: 2.0, 4194: 1.0, 4199: 1.0, 4208: 1.0, 4214: 2.0, 4217: 1.0, 4219: 1.0, 4230: 1.0, 4238: 1.0, 4245: 1.0, 4249: 2.0, 4251: 1.0, 4255: 1.0, 4256: 1.0, 4265: 2.0, 4270: 1.0, 4281: 1.0, 4292: 1.0, 4293: 1.0, 4312: 1.0, 4323: 13.0, 4326: 1.0, 4331: 1.0, 4332: 2.0, 4336: 2.0, 4339: 1.0, 4350: 1.0, 4352: 1.0, 4357: 1.0, 4360: 3.0, 4381: 1.0, 4389: 5.0, 4395: 3.0, 4399: 1.0, 4402: 1.0, 4407: 2.0, 4410: 1.0, 4422: 3.0, 4427: 2.0, 4428: 1.0, 4441: 1.0, 4443: 1.0, 4445: 1.0, 4448: 1.0, 4454: 1.0, 4460: 6.0, 4465: 1.0, 4493: 4.0, 4508: 1.0, 4519: 1.0, 4520: 1.0, 4531: 1.0, 4533: 4.0, 4534: 1.0, 4537: 1.0, 4557: 1.0, 4562: 1.0, 4570: 1.0, 4580: 1.0, 4603: 1.0, 4604: 2.0, 4613: 1.0, 4616: 6.0, 4643: 1.0, 4678: 1.0, 4696: 1.0, 4699: 1.0, 4701: 1.0, 4706: 1.0, 4712: 1.0, 4713: 1.0, 4716: 1.0, 4725: 1.0, 4731: 3.0, 4736: 1.0, 4741: 1.0, 4759: 1.0, 4763: 4.0, 4765: 1.0, 4777: 1.0, 4782: 1.0, 4785: 1.0, 4786: 1.0, 4788: 1.0, 4805: 2.0, 4811: 1.0, 4820: 1.0, 4821: 1.0, 4832: 1.0, 4841: 1.0, 4842: 1.0, 4844: 1.0, 4851: 1.0, 4863: 1.0, 4868: 1.0, 4869: 1.0, 4878: 4.0, 4881: 1.0, 4882: 1.0, 4910: 4.0, 4915: 1.0, 4923: 1.0, 4933: 3.0, 4934: 1.0, 4935: 1.0, 4952: 1.0, 4953: 5.0, 4954: 1.0, 4958: 1.0, 4975: 1.0, 4978: 1.0, 4983: 2.0, 4992: 1.0, 4998: 1.0, 5004: 7.0, 5008: 1.0, 5019: 4.0, 5032: 1.0, 5051: 2.0, 5055: 3.0, 5058: 1.0, 5067: 2.0, 5069: 1.0, 5076: 2.0, 5080: 1.0, 5082: 2.0, 5098: 1.0, 5113: 1.0, 5128: 1.0, 5132: 1.0, 5156: 1.0, 5158: 1.0, 5162: 2.0, 5169: 2.0, 5177: 1.0, 5186: 1.0, 5187: 2.0, 5189: 2.0, 5194: 3.0, 5199: 2.0, 5212: 1.0, 5220: 1.0, 5224: 1.0, 5228: 3.0, 5232: 1.0, 5235: 1.0, 5245: 1.0, 5248: 1.0, 5251: 1.0, 5252: 1.0, 5254: 1.0, 5258: 1.0, 5267: 3.0, 5269: 1.0, 5291: 1.0, 5294: 1.0, 5297: 1.0, 5300: 1.0, 5316: 5.0, 5337: 1.0, 5340: 3.0, 5344: 4.0, 5346: 1.0, 5368: 3.0, 5384: 1.0, 5395: 1.0, 5401: 1.0, 5405: 1.0, 5406: 2.0, 5434: 1.0, 5436: 8.0, 5439: 1.0, 5440: 1.0, 5449: 5.0, 5498: 1.0, 5538: 1.0, 5550: 3.0, 5558: 2.0, 5566: 1.0, 5576: 3.0, 5580: 2.0, 5584: 1.0, 5586: 1.0, 5592: 1.0, 5607: 1.0, 5616: 1.0, 5641: 1.0, 5648: 2.0, 5652: 8.0, 5654: 2.0, 5661: 1.0, 5677: 3.0, 5725: 1.0, 5731: 1.0, 5743: 1.0, 5746: 2.0, 5752: 1.0, 5755: 1.0, 5757: 1.0, 5764: 2.0, 5772: 1.0, 5774: 2.0, 5782: 1.0, 5807: 1.0, 5812: 1.0, 5816: 3.0, 5833: 2.0, 5834: 1.0, 5851: 1.0, 5855: 4.0, 5857: 2.0, 5858: 2.0, 5875: 1.0, 5877: 3.0, 5881: 2.0, 5896: 1.0, 5915: 1.0, 5920: 2.0, 5928: 2.0, 5936: 1.0, 5954: 2.0, 5971: 1.0, 5977: 1.0, 5983: 2.0, 5987: 1.0, 6001: 1.0, 6003: 1.0, 6008: 1.0, 6016: 1.0, 6022: 2.0, 6024: 2.0, 6037: 3.0, 6039: 1.0, 6051: 6.0, 6057: 1.0, 6076: 1.0, 6077: 4.0, 6078: 1.0, 6090: 2.0, 6092: 1.0, 6100: 1.0, 6128: 1.0, 6163: 1.0, 6169: 1.0, 6175: 1.0, 6184: 1.0, 6194: 1.0, 6201: 3.0, 6208: 2.0, 6209: 7.0, 6210: 1.0, 6235: 1.0, 6241: 1.0, 6265: 1.0, 6275: 1.0, 6301: 1.0, 6306: 1.0, 6311: 1.0, 6321: 1.0, 6327: 2.0, 6352: 3.0, 6353: 1.0, 6354: 1.0, 6359: 1.0, 6372: 1.0, 6374: 1.0, 6383: 2.0, 6386: 1.0, 6387: 1.0, 6400: 1.0, 6411: 2.0, 6427: 2.0, 6442: 4.0, 6450: 1.0, 6464: 1.0, 6473: 2.0, 6487: 2.0, 6494: 2.0, 6499: 1.0, 6502: 2.0, 6530: 1.0, 6532: 2.0, 6538: 1.0, 6546: 4.0, 6561: 1.0, 6577: 2.0, 6625: 1.0, 6648: 1.0, 6655: 2.0, 6686: 1.0, 6688: 2.0, 6706: 1.0, 6741: 2.0, 6745: 1.0, 6761: 1.0, 6767: 1.0, 6776: 1.0, 6779: 1.0, 6780: 2.0, 6781: 4.0, 6783: 3.0, 6801: 1.0, 6803: 3.0, 6851: 4.0, 6856: 1.0, 6862: 1.0, 6865: 2.0, 6876: 1.0, 6883: 1.0, 6895: 1.0, 6899: 1.0, 6912: 1.0, 6924: 4.0, 6927: 1.0, 6934: 2.0, 6945: 1.0, 6947: 4.0, 6952: 1.0, 6954: 2.0, 6962: 1.0, 7006: 2.0, 7011: 1.0, 7026: 2.0, 7036: 5.0, 7056: 1.0, 7057: 1.0, 7064: 2.0, 7066: 4.0, 7071: 1.0, 7078: 1.0, 7080: 1.0, 7097: 1.0, 7106: 2.0, 7118: 11.0, 7123: 1.0, 7136: 1.0, 7169: 1.0, 7171: 3.0, 7173: 2.0, 7174: 3.0, 7176: 3.0, 7177: 1.0, 7186: 1.0, 7187: 1.0, 7188: 2.0, 7189: 1.0, 7194: 2.0, 7201: 1.0, 7207: 2.0, 7223: 1.0, 7224: 1.0, 7233: 3.0, 7237: 2.0, 7239: 1.0, 7242: 1.0, 7246: 2.0, 7248: 1.0, 7258: 1.0, 7259: 2.0, 7260: 1.0, 7266: 1.0, 7279: 1.0, 7302: 2.0, 7318: 1.0, 7336: 1.0, 7340: 1.0, 7360: 1.0, 7371: 1.0, 7374: 2.0, 7379: 1.0, 7416: 2.0, 7417: 2.0, 7449: 1.0, 7461: 1.0, 7481: 3.0, 7486: 1.0, 7506: 2.0, 7529: 1.0, 7536: 1.0, 7541: 1.0, 7566: 1.0, 7575: 1.0, 7578: 1.0, 7614: 4.0, 7626: 1.0, 7650: 1.0, 7655: 7.0, 7659: 3.0, 7679: 2.0, 7680: 1.0, 7683: 1.0, 7686: 1.0, 7687: 1.0, 7714: 2.0, 7730: 1.0, 7749: 3.0, 7757: 1.0, 7763: 5.0, 7799: 1.0, 7825: 2.0, 7829: 2.0, 7840: 1.0, 7857: 1.0, 7868: 1.0, 7870: 1.0, 7873: 1.0, 7914: 1.0, 7921: 1.0, 7923: 1.0, 7927: 1.0, 7930: 1.0, 7950: 2.0, 7956: 1.0, 7957: 1.0, 7972: 1.0, 7975: 2.0, 7976: 1.0, 7980: 1.0, 8017: 5.0, 8021: 1.0, 8056: 2.0, 8059: 3.0, 8061: 2.0, 8062: 1.0, 8068: 1.0, 8083: 1.0, 8093: 1.0, 8136: 1.0, 8145: 3.0, 8150: 4.0, 8153: 2.0, 8164: 1.0, 8169: 1.0, 8173: 3.0, 8205: 6.0, 8231: 2.0, 8232: 1.0, 8236: 6.0, 8239: 1.0, 8258: 5.0, 8261: 1.0, 8278: 1.0, 8280: 2.0, 8283: 1.0, 8296: 1.0, 8322: 2.0, 8346: 1.0, 8359: 3.0, 8367: 2.0, 8387: 1.0, 8409: 1.0, 8413: 5.0, 8440: 1.0, 8447: 1.0, 8458: 1.0, 8473: 1.0, 8474: 1.0, 8489: 1.0, 8495: 1.0, 8515: 3.0, 8554: 2.0, 8559: 1.0, 8563: 1.0, 8584: 2.0, 8598: 1.0, 8613: 1.0, 8614: 1.0, 8622: 1.0, 8632: 1.0, 8660: 1.0, 8681: 1.0, 8723: 1.0, 8731: 1.0, 8736: 1.0, 8738: 1.0, 8755: 4.0, 8757: 1.0, 8759: 3.0, 8795: 1.0, 8825: 2.0, 8844: 2.0, 8858: 1.0, 8860: 2.0, 8861: 1.0, 8868: 2.0, 8880: 2.0, 8913: 2.0, 8915: 1.0, 8922: 1.0, 8927: 2.0, 8934: 1.0, 9021: 2.0, 9029: 1.0, 9039: 1.0, 9044: 1.0, 9074: 1.0, 9079: 1.0, 9085: 1.0, 9110: 1.0, 9111: 5.0, 9112: 1.0, 9130: 1.0, 9137: 1.0, 9150: 1.0, 9154: 3.0, 9157: 2.0, 9158: 1.0, 9201: 2.0, 9211: 1.0, 9228: 1.0, 9240: 2.0, 9242: 1.0, 9262: 1.0, 9279: 1.0, 9299: 2.0, 9302: 3.0, 9311: 1.0, 9313: 1.0, 9330: 1.0, 9360: 1.0, 9408: 1.0, 9411: 1.0, 9426: 1.0, 9460: 4.0, 9473: 1.0, 9479: 1.0, 9503: 1.0, 9508: 1.0, 9520: 1.0, 9548: 1.0, 9562: 2.0, 9572: 2.0, 9580: 1.0, 9582: 5.0, 9624: 2.0, 9628: 1.0, 9649: 1.0, 9678: 1.0, 9684: 1.0, 9687: 1.0, 9691: 2.0, 9699: 1.0, 9717: 1.0, 9747: 1.0, 9763: 4.0, 9793: 1.0, 9798: 1.0, 9801: 1.0, 9802: 2.0, 9809: 1.0, 9810: 1.0, 9814: 1.0, 9835: 1.0, 9850: 2.0, 9873: 1.0, 9874: 2.0, 9886: 2.0, 9889: 1.0, 9891: 1.0, 9896: 1.0, 9924: 1.0, 9953: 7.0, 9955: 1.0, 9962: 1.0, 9994: 1.0, 9998: 1.0, 10002: 1.0, 10016: 1.0, 10083: 1.0, 10105: 2.0, 10149: 1.0, 10162: 1.0, 10171: 1.0, 10202: 2.0, 10221: 1.0, 10225: 1.0, 10246: 1.0, 10267: 1.0, 10296: 5.0, 10304: 1.0, 10307: 1.0, 10312: 1.0, 10330: 1.0, 10400: 2.0, 10405: 1.0, 10412: 1.0, 10464: 1.0, 10484: 4.0, 10497: 1.0, 10529: 1.0, 10530: 1.0, 10596: 1.0, 10614: 1.0, 10618: 1.0, 10643: 1.0, 10705: 1.0, 10707: 1.0, 10716: 1.0, 10718: 1.0, 10723: 1.0, 10744: 3.0, 10753: 1.0, 10760: 2.0, 10763: 1.0, 10897: 2.0, 10936: 1.0, 10956: 1.0, 10970: 1.0, 10972: 1.0, 10990: 2.0, 11013: 3.0, 11038: 1.0, 11101: 2.0, 11121: 1.0, 11188: 3.0, 11205: 1.0, 11214: 1.0, 11245: 1.0, 11256: 1.0, 11278: 1.0, 11307: 1.0, 11330: 2.0, 11378: 1.0, 11392: 1.0, 11415: 1.0, 11430: 1.0, 11453: 1.0, 11458: 2.0, 11462: 1.0, 11491: 1.0, 11504: 2.0, 11525: 3.0, 11530: 4.0, 11552: 1.0, 11575: 2.0, 11587: 2.0, 11589: 1.0, 11600: 1.0, 11608: 6.0, 11632: 1.0, 11636: 1.0, 11639: 2.0, 11675: 1.0, 11677: 2.0, 11711: 2.0, 11718: 8.0, 11759: 5.0, 11767: 2.0, 11789: 1.0, 11810: 1.0, 11838: 7.0, 11841: 2.0, 11894: 2.0, 11900: 1.0, 11911: 3.0, 11929: 1.0, 11940: 1.0, 11988: 1.0, 11996: 1.0, 12113: 1.0, 12117: 2.0, 12121: 2.0, 12128: 2.0, 12147: 1.0, 12183: 1.0, 12186: 1.0, 12237: 1.0, 12255: 2.0, 12272: 2.0, 12285: 1.0, 12317: 1.0, 12332: 1.0, 12335: 2.0, 12337: 1.0, 12350: 1.0, 12367: 1.0, 12381: 2.0, 12410: 5.0, 12440: 1.0, 12458: 1.0, 12561: 2.0, 12562: 2.0, 12566: 1.0, 12624: 2.0, 12645: 1.0, 12657: 1.0, 12666: 1.0, 12668: 1.0, 12681: 2.0, 12705: 1.0, 12715: 1.0, 12743: 1.0, 12767: 1.0, 12822: 1.0, 12823: 2.0, 12832: 1.0, 12870: 2.0, 12899: 2.0, 12914: 2.0, 12916: 4.0, 12931: 1.0, 12932: 1.0, 12937: 3.0, 12947: 1.0, 12965: 3.0, 12973: 1.0, 12975: 2.0, 12985: 1.0, 12986: 3.0, 12994: 1.0, 13009: 2.0, 13018: 1.0, 13029: 1.0, 13044: 2.0, 13107: 1.0, 13135: 1.0, 13139: 1.0, 13151: 3.0, 13154: 1.0, 13157: 1.0, 13174: 2.0, 13179: 1.0, 13188: 1.0, 13212: 1.0, 13215: 1.0, 13262: 1.0, 13311: 1.0, 13361: 1.0, 13409: 2.0, 13448: 2.0, 13460: 1.0, 13489: 1.0, 13541: 1.0, 13551: 1.0, 13555: 1.0, 13564: 2.0, 13587: 3.0, 13591: 1.0, 13605: 1.0, 13623: 1.0, 13655: 2.0, 13659: 1.0, 13700: 1.0, 13710: 1.0, 13732: 1.0, 13743: 1.0, 13847: 1.0, 13854: 1.0, 13873: 1.0, 13881: 1.0, 13914: 2.0, 13916: 1.0, 13921: 1.0, 13935: 2.0, 13960: 2.0, 14068: 1.0, 14076: 1.0, 14099: 1.0, 14136: 1.0, 14175: 1.0, 14195: 1.0, 14203: 1.0, 14212: 1.0, 14267: 2.0, 14270: 1.0, 14300: 1.0, 14317: 1.0, 14351: 1.0, 14394: 1.0, 14401: 1.0, 14427: 2.0, 14464: 2.0, 14471: 2.0, 14480: 1.0, 14488: 1.0, 14513: 1.0, 14530: 1.0, 14547: 1.0, 14568: 1.0, 14588: 1.0, 14597: 1.0, 14619: 1.0, 14663: 1.0, 14669: 2.0, 14671: 1.0, 14676: 5.0, 14690: 1.0, 14693: 1.0, 14723: 1.0, 14745: 1.0, 14803: 1.0, 14833: 1.0, 14835: 1.0, 14873: 1.0, 14896: 1.0, 14910: 1.0, 14923: 2.0, 14947: 1.0, 14955: 1.0, 14997: 1.0, 15027: 1.0, 15087: 1.0, 15100: 3.0, 15151: 2.0, 15180: 1.0, 15191: 1.0, 15205: 1.0, 15211: 1.0, 15241: 1.0, 15242: 1.0, 15250: 1.0, 15270: 1.0, 15277: 1.0, 15315: 1.0, 15349: 1.0, 15363: 1.0, 15427: 1.0, 15453: 2.0, 15471: 1.0, 15532: 1.0, 15612: 1.0, 15622: 1.0, 15651: 2.0, 15678: 3.0, 15679: 1.0, 15708: 3.0, 15731: 1.0, 15751: 1.0, 15796: 1.0, 15853: 1.0, 15873: 1.0, 15893: 1.0, 15899: 1.0, 15938: 1.0, 15948: 2.0, 15954: 1.0, 15985: 1.0, 15989: 3.0, 16068: 1.0, 16072: 1.0, 16111: 1.0, 16179: 3.0, 16239: 2.0, 16257: 1.0, 16272: 1.0, 16296: 1.0, 16347: 1.0, 16366: 1.0, 16378: 4.0, 16407: 1.0, 16444: 1.0, 16467: 1.0, 16540: 3.0, 16609: 1.0, 16705: 1.0, 16731: 1.0, 16773: 1.0, 16792: 2.0, 16811: 1.0, 16859: 1.0, 16879: 1.0, 16983: 1.0, 17000: 1.0, 17006: 1.0, 17038: 1.0, 17045: 1.0, 17116: 2.0, 17179: 1.0, 17226: 1.0, 17254: 1.0, 17321: 1.0, 17366: 2.0, 17430: 1.0, 17456: 1.0, 17494: 1.0, 17502: 2.0, 17526: 2.0, 17530: 1.0, 17565: 1.0, 17586: 1.0, 17594: 2.0, 17630: 1.0, 17806: 1.0, 17811: 1.0, 17843: 1.0, 17861: 2.0, 17966: 1.0, 17968: 2.0, 17980: 2.0, 18030: 1.0, 18106: 1.0, 18207: 2.0, 18271: 1.0, 18298: 1.0, 18322: 2.0, 18384: 2.0, 18450: 2.0, 18470: 1.0, 18492: 1.0, 18521: 1.0, 18522: 1.0, 18573: 2.0, 18594: 2.0, 18638: 1.0, 18645: 1.0, 18652: 1.0, 18738: 2.0, 18855: 1.0, 18894: 4.0, 18948: 1.0, 19023: 1.0, 19090: 1.0, 19175: 1.0, 19206: 1.0, 19223: 1.0, 19273: 1.0, 19320: 1.0, 19327: 1.0, 19374: 1.0, 19404: 1.0, 19413: 2.0, 19433: 1.0, 19473: 1.0, 19501: 1.0, 19533: 6.0, 19555: 1.0, 19569: 1.0, 19590: 1.0, 19607: 1.0, 19708: 1.0, 19765: 1.0, 19806: 2.0, 19833: 1.0, 19882: 1.0, 19898: 2.0, 19948: 1.0, 20022: 2.0, 20032: 1.0, 20063: 1.0, 20110: 1.0, 20126: 1.0, 20195: 1.0, 20197: 4.0, 20226: 1.0, 20252: 1.0, 20323: 1.0, 20364: 1.0, 20418: 1.0, 20491: 1.0, 20496: 1.0, 20538: 1.0, 20571: 1.0, 20720: 1.0, 20790: 3.0, 20820: 1.0, 20822: 2.0, 20833: 1.0, 20903: 1.0, 20968: 1.0, 20985: 1.0, 21072: 1.0, 21075: 1.0, 21169: 1.0, 21177: 1.0, 21299: 2.0, 21338: 2.0, 21375: 2.0, 21441: 1.0, 21526: 1.0, 21554: 1.0, 21566: 1.0, 21597: 1.0, 21658: 3.0, 21681: 1.0, 21685: 1.0, 21758: 1.0, 21799: 1.0, 21935: 1.0, 22042: 1.0, 22077: 1.0, 22079: 2.0, 22115: 1.0, 22141: 1.0, 22167: 1.0, 22280: 1.0, 22385: 1.0, 22444: 1.0, 22449: 1.0, 22502: 1.0, 22514: 1.0, 22531: 1.0, 22539: 1.0, 22578: 1.0, 22620: 2.0, 22641: 1.0, 22642: 1.0, 22701: 1.0, 22708: 1.0, 22761: 1.0, 22948: 1.0, 22980: 1.0, 22985: 2.0, 23009: 1.0, 23019: 1.0, 23039: 1.0, 23237: 2.0, 23257: 2.0, 23338: 1.0, 23379: 1.0, 23442: 1.0, 23561: 2.0, 23589: 1.0, 23610: 1.0, 23651: 2.0, 23764: 1.0, 23871: 1.0, 23924: 1.0, 23930: 1.0, 23979: 1.0, 24058: 1.0, 24066: 1.0, 24092: 2.0, 24130: 1.0, 24164: 1.0, 24236: 2.0, 24273: 1.0, 24303: 2.0, 24335: 2.0, 24386: 1.0, 24411: 1.0, 24437: 1.0, 24518: 1.0, 24659: 2.0, 24710: 1.0, 24891: 1.0, 24971: 1.0, 25055: 1.0, 25195: 2.0, 25267: 1.0, 25269: 1.0, 25291: 1.0, 25336: 1.0, 25397: 1.0, 25443: 1.0, 25578: 1.0, 25579: 1.0, 25589: 1.0, 25590: 1.0, 25662: 1.0, 25681: 1.0, 25750: 2.0, 25763: 1.0, 25852: 1.0, 25933: 1.0, 25943: 1.0, 25999: 2.0, 26009: 1.0, 26129: 1.0, 26350: 1.0, 26357: 1.0, 26382: 1.0, 26469: 1.0, 26599: 1.0, 26601: 1.0, 26666: 1.0, 26677: 1.0, 26705: 1.0, 26711: 1.0, 26760: 1.0, 26979: 1.0, 26989: 1.0, 27145: 1.0, 27181: 1.0, 27232: 1.0, 27309: 1.0, 27342: 3.0, 27343: 1.0, 27439: 1.0, 27442: 2.0, 27601: 1.0, 27653: 1.0, 27727: 2.0, 27762: 1.0, 27803: 1.0, 27807: 1.0, 27942: 3.0, 27956: 2.0, 27959: 1.0, 27993: 1.0, 28007: 2.0, 28225: 1.0, 28310: 1.0, 28433: 1.0, 28589: 1.0, 28605: 1.0, 28624: 1.0, 28646: 1.0, 28714: 1.0, 28816: 1.0, 28862: 1.0, 29026: 1.0, 29091: 1.0, 29123: 1.0, 29189: 1.0, 29289: 1.0, 29312: 1.0, 29432: 1.0, 29657: 2.0, 29665: 2.0, 29722: 2.0, 29752: 1.0, 29859: 1.0, 29971: 1.0, 30132: 1.0, 30146: 1.0, 30157: 1.0, 30209: 4.0, 30218: 2.0, 30225: 1.0, 30246: 1.0, 30375: 2.0, 30460: 1.0, 30498: 1.0, 30513: 1.0, 30595: 3.0, 30979: 1.0, 31073: 1.0, 31169: 1.0, 31216: 2.0, 31232: 1.0, 31395: 1.0, 31439: 2.0, 31504: 1.0, 31569: 1.0, 31583: 1.0, 31628: 1.0, 31747: 1.0, 32129: 2.0, 32167: 1.0, 32201: 2.0, 32234: 1.0, 32339: 1.0, 32507: 1.0, 32567: 1.0, 32693: 2.0, 32707: 1.0, 32750: 1.0, 32901: 1.0, 32919: 1.0, 33047: 1.0, 33089: 1.0, 33121: 1.0, 33173: 1.0, 33181: 1.0, 33191: 1.0, 33196: 1.0, 33305: 1.0, 33425: 2.0, 33462: 1.0, 33570: 1.0, 33672: 1.0, 33702: 1.0, 33719: 1.0, 33756: 1.0, 33762: 1.0, 33876: 1.0, 33918: 1.0, 33970: 1.0, 34011: 1.0, 34497: 1.0, 34516: 1.0, 34534: 1.0, 34560: 1.0, 34843: 1.0, 35187: 1.0, 35829: 1.0, 35908: 1.0, 36028: 1.0, 36074: 3.0, 36081: 1.0, 36195: 1.0, 36234: 2.0, 36292: 1.0, 36420: 1.0, 36499: 1.0, 36606: 1.0, 36629: 1.0, 36685: 1.0, 36871: 1.0, 37251: 1.0, 37301: 1.0, 37419: 1.0, 37447: 2.0, 37499: 1.0, 37722: 1.0, 37921: 1.0, 37925: 1.0, 38083: 1.0, 38363: 2.0, 38569: 1.0, 38745: 1.0, 38786: 1.0, 38805: 1.0, 38898: 1.0, 38902: 1.0, 38930: 1.0, 38973: 1.0, 39029: 1.0, 39156: 1.0, 39344: 1.0, 39686: 1.0, 39840: 1.0, 39884: 1.0, 40282: 1.0, 40660: 1.0, 40777: 1.0, 40937: 1.0, 41009: 1.0, 41034: 1.0, 41116: 1.0, 41151: 1.0, 41283: 1.0, 41612: 1.0, 42503: 1.0, 42652: 1.0, 42787: 1.0, 43020: 1.0, 43067: 1.0, 43252: 1.0, 43582: 1.0, 43637: 1.0, 43761: 1.0, 43855: 1.0, 45350: 1.0, 45594: 1.0, 45603: 1.0, 45628: 1.0, 46167: 1.0, 46306: 1.0, 46775: 1.0, 46795: 1.0, 47023: 1.0, 47221: 1.0, 47245: 1.0, 47562: 1.0, 47763: 1.0, 47769: 1.0, 47771: 1.0, 48342: 1.0, 48414: 1.0, 48607: 1.0, 48920: 1.0, 49496: 1.0, 49551: 1.0, 49560: 1.0, 49651: 1.0, 50032: 2.0, 50321: 1.0, 50597: 1.0, 50954: 1.0, 51226: 1.0, 51276: 1.0, 51337: 1.0, 51463: 1.0, 51843: 1.0, 51867: 2.0, 51980: 1.0, 52006: 1.0, 52103: 1.0, 52155: 2.0, 52656: 1.0, 52781: 1.0, 53517: 2.0, 53673: 1.0, 53861: 1.0, 54155: 1.0, 54580: 1.0, 54837: 1.0, 54889: 4.0, 55066: 1.0, 55281: 1.0, 55519: 1.0, 55602: 1.0, 55607: 1.0, 55717: 1.0, 55912: 1.0, 56146: 1.0, 56670: 1.0, 56684: 1.0, 56810: 1.0, 57170: 1.0, 57294: 1.0, 57316: 2.0, 57639: 1.0, 57648: 1.0, 57736: 1.0, 57857: 1.0, 58648: 1.0, 58901: 1.0, 58920: 1.0, 59105: 1.0, 59584: 1.0, 60184: 1.0, 60800: 2.0, 60816: 1.0, 60923: 1.0, 60964: 6.0, 61376: 1.0, 61454: 1.0, 61711: 1.0, 62403: 1.0, 63089: 1.0, 63129: 1.0, 63598: 1.0, 63685: 1.0, 64498: 1.0, 65094: 1.0, 65723: 1.0, 65996: 2.0, 66009: 2.0, 66532: 1.0, 66940: 1.0, 67201: 1.0, 67314: 1.0, 67556: 1.0, 68012: 1.0, 68161: 1.0, 68311: 1.0, 69108: 1.0, 69405: 1.0, 69695: 1.0, 70521: 1.0, 71687: 1.0, 71745: 1.0, 73000: 1.0, 73046: 1.0, 73086: 1.0, 73287: 2.0, 73578: 2.0, 74312: 1.0, 74899: 1.0, 76077: 1.0, 76867: 1.0, 77700: 1.0, 77813: 1.0, 78210: 1.0, 79153: 1.0, 79903: 1.0, 81460: 1.0, 81505: 1.0, 84910: 1.0, 85261: 1.0, 85338: 2.0, 86544: 1.0, 88686: 1.0, 90893: 1.0, 94048: 1.0, 94781: 1.0, 94844: 1.0, 95622: 2.0, 95676: 1.0, 95741: 1.0, 96240: 2.0}))]"
      ]
     },
     "execution_count": 40,
     "metadata": {},
     "output_type": "execute_result"
    }
   ],
   "source": [
    "vector_rdd.take(5)"
   ]
  },
  {
   "cell_type": "code",
   "execution_count": 41,
   "metadata": {},
   "outputs": [
    {
     "data": {
      "text/plain": [
       "14921"
      ]
     },
     "execution_count": 41,
     "metadata": {},
     "output_type": "execute_result"
    }
   ],
   "source": [
    "# make sure the transformation can be carried out for all elements by using count\n",
    "# this is a good way of catching anomalies in the data\n",
    "vector_rdd.count()"
   ]
  },
  {
   "cell_type": "markdown",
   "metadata": {},
   "source": [
    "## Perform the aggregation\n",
    "\n",
    "We now have the entire Gutenberg English book corpus in the form of sparse vectors encoding the most used 100k words. \n",
    "\n",
    "To get the yearly sums, we will turn the metadata of each document into its publication year (i.e. the key will be the year, the value is the vector) and then do an aggregation by year. \n",
    "\n",
    "We will use the powerful [`treeAggregate`](http://spark.apache.org/docs/latest/api/python/pyspark.html?highlight=values#pyspark.RDD.treeAggregate) method, which requires that we specify three different components:\n",
    "\n",
    "1. the starting aggregate\n",
    "2. a function that adds a new value to the aggregate \n",
    "3. a function that adds together two aggregates\n",
    "\n",
    "The way `treeAggregate` works is that it performs the reduction in a tree pattern in order to minimize the strain on the driver. In a \"normal\" reduction, the workers send their results to the driver, which is tasked with putting it all together -- however, if these partial results are large (as is potentially the case here) then the driver can run into memory issues. Furthermore, most of the cluster is sitting idle while the driver performs the aggregation. `treeAggregate` fixes this by performing partial aggregations on the workers and only sending the final stages to the driver. See this [blog post](https://databricks.com/blog/2014/09/22/spark-1-1-mllib-performance-improvements.html) for a bit more description of this method. \n",
    "\n",
    "The aggregation methods are powerful because the \"aggregate\" can be any object -- we can write a class that gets passed around to do the aggregation, for example. Aggregation methods are more general reduction methods because they allow you to change the type of the variables -- in our case here, we are converting the data `(year, vector)` tuples into a dictionary of arrays. \n",
    "\n",
    "Below, we will use an instance of a dictionary as the aggregation object and define two functions that will do the actual aggregation. "
   ]
  },
  {
   "cell_type": "code",
   "execution_count": 42,
   "metadata": {},
   "outputs": [],
   "source": [
    "def add_vector(d, data_tuple) : \n",
    "    \"\"\"Add a new vector to the aggregation dictionary\n",
    "    \n",
    "    The vectors in the aggregation dictionary are dense since for most years we can expect that \n",
    "    this will be the case anyway. Note that we use 32-bit floats to save a bit on memory. \n",
    "    \n",
    "    Arguments: \n",
    "        d: the aggregation dictionary\n",
    "        \n",
    "        data_tuple: the (year, vec) tuple\n",
    "        \n",
    "    Returns: \n",
    "        the updated aggregation dictionary \n",
    "    \"\"\"\n",
    "    # expand the data tuple\n",
    "    year, vec = data_tuple\n",
    "    \n",
    "    if year in d : \n",
    "        \n",
    "        d[year][vec.indices] += vec.values\n",
    "    else :\n",
    "        # this is the first time we've encountered this year --> make an empty vector \n",
    "        new_vec = np.zeros(vec.size, dtype=np.float32)\n",
    "        \n",
    "        # now put in the contents of the current vector\n",
    "        new_vec[vec.indices] = vec.values\n",
    "        \n",
    "        # create the year in the dictionary\n",
    "        d[year] = new_vec\n",
    "        \n",
    "    return d\n",
    "\n",
    "def add_dicts(d1, d2) : \n",
    "    \"\"\"Add two dictionaries together\n",
    "    \n",
    "    Arguments: \n",
    "        d1: first dictionary\n",
    "        \n",
    "        d2: second dictionary\n",
    "        \n",
    "    Returns: \n",
    "        merged dictionaries\n",
    "    \"\"\"\n",
    "    \n",
    "    # iterate through all the items in the second dictionary\n",
    "    for year, vec in d2.items() : \n",
    "        # if this year is also in d1, add the vectors together\n",
    "        if year in d1 : \n",
    "            d1[year] += vec\n",
    "        # if not, create a new year entry in d1\n",
    "        else : \n",
    "            d1[year] = vec\n",
    "    return d1"
   ]
  },
  {
   "cell_type": "markdown",
   "metadata": {},
   "source": [
    "Now we create an RDD of `(year, vec)` pairs using the `publication_year` function we defined at the top:"
   ]
  },
  {
   "cell_type": "code",
   "execution_count": 43,
   "metadata": {},
   "outputs": [],
   "source": [
    "year_vec = vector_rdd.map(lambda doc: (publication_year(doc[0]), doc[1]))"
   ]
  },
  {
   "cell_type": "markdown",
   "metadata": {},
   "source": [
    "Before we perform the aggregation, we can do one final bit of optimization. Passing around dictionaries full of large arrays can get expensive very quickly. The memory footprint of our partial results will depend on how heterogeneous the years on each partition or group of partitions are: if most of the data on a partition is for the same key (year in this case) then the dictionary we create on that partition will only contain a handful of vectors.  We can control this by first partitioning the RDD in a way that groups data with the same keys onto the same partitions. \n",
    "\n",
    "Spark provides a `partitionBy` method that does exactly this -- by default, it uses a hash function to map the keys to partitions, but you can also pass a custom partitioner if you want. If you look at the Spark UI after executing the next cell, you'll see that the partition step caused some shuffling of data, but that the aggregation itself ran very quickly and with minimal data movement. "
   ]
  },
  {
   "cell_type": "code",
   "execution_count": 44,
   "metadata": {},
   "outputs": [],
   "source": [
    "n_partitions = year_vec.getNumPartitions()"
   ]
  },
  {
   "cell_type": "code",
   "execution_count": 45,
   "metadata": {},
   "outputs": [
    {
     "data": {
      "text/plain": [
       "(1893,\n",
       " SparseVector(100000, {0: 6.0, 1: 5.0, 2: 4.0, 3: 3.0, 4: 6.0, 5: 5.0, 7: 37.0, 8: 12.0, 9: 7.0, 11: 2.0, 12: 8.0, 13: 6.0, 14: 6.0, 15: 6.0, 16: 4.0, 17: 16.0, 18: 9.0, 19: 3.0, 20: 15.0, 21: 6.0, 22: 1.0, 23: 22.0, 24: 7.0, 25: 4.0, 26: 6.0, 27: 5.0, 28: 3.0, 29: 2.0, 30: 1.0, 32: 1.0, 34: 5.0, 35: 1.0, 37: 3.0, 38: 23.0, 39: 3.0, 40: 7.0, 41: 2.0, 43: 3.0, 44: 3.0, 45: 20.0, 46: 3.0, 47: 4.0, 48: 1.0, 49: 16.0, 50: 1.0, 52: 1.0, 53: 1.0, 56: 10.0, 57: 4.0, 58: 1.0, 59: 1.0, 60: 2.0, 61: 5.0, 62: 3.0, 63: 2.0, 64: 2.0, 65: 10.0, 66: 8.0, 67: 1.0, 68: 2.0, 69: 1.0, 70: 3.0, 71: 2.0, 72: 1.0, 73: 1.0, 74: 2.0, 76: 7.0, 77: 1.0, 79: 4.0, 81: 1.0, 83: 4.0, 86: 1.0, 87: 6.0, 90: 19.0, 92: 3.0, 94: 5.0, 96: 3.0, 97: 4.0, 99: 2.0, 101: 3.0, 102: 4.0, 103: 2.0, 105: 1.0, 106: 7.0, 108: 1.0, 112: 1.0, 118: 8.0, 119: 2.0, 120: 3.0, 121: 7.0, 122: 8.0, 123: 2.0, 126: 6.0, 130: 3.0, 132: 10.0, 134: 2.0, 136: 5.0, 137: 1.0, 140: 4.0, 141: 1.0, 142: 1.0, 143: 1.0, 144: 1.0, 145: 3.0, 146: 2.0, 147: 17.0, 148: 7.0, 149: 7.0, 150: 4.0, 151: 1.0, 153: 8.0, 154: 4.0, 155: 1.0, 157: 1.0, 160: 3.0, 161: 3.0, 163: 5.0, 166: 1.0, 168: 3.0, 170: 1.0, 171: 1.0, 172: 2.0, 176: 8.0, 177: 4.0, 178: 1.0, 180: 6.0, 182: 8.0, 184: 1.0, 185: 4.0, 186: 4.0, 187: 1.0, 188: 2.0, 189: 1.0, 191: 1.0, 193: 1.0, 195: 1.0, 196: 2.0, 198: 4.0, 200: 2.0, 202: 2.0, 207: 2.0, 208: 2.0, 209: 2.0, 210: 2.0, 211: 3.0, 213: 2.0, 214: 5.0, 215: 1.0, 219: 9.0, 221: 4.0, 222: 2.0, 223: 1.0, 224: 4.0, 227: 4.0, 228: 1.0, 232: 1.0, 233: 4.0, 234: 2.0, 235: 1.0, 236: 8.0, 237: 1.0, 238: 8.0, 241: 1.0, 242: 1.0, 243: 3.0, 245: 1.0, 246: 9.0, 247: 2.0, 249: 1.0, 250: 1.0, 256: 2.0, 257: 12.0, 258: 5.0, 259: 1.0, 260: 1.0, 261: 2.0, 262: 6.0, 264: 1.0, 265: 2.0, 266: 2.0, 267: 1.0, 269: 6.0, 270: 3.0, 271: 1.0, 272: 1.0, 274: 1.0, 275: 1.0, 280: 1.0, 281: 4.0, 284: 6.0, 285: 2.0, 288: 2.0, 289: 3.0, 295: 3.0, 297: 6.0, 300: 1.0, 301: 1.0, 302: 1.0, 305: 1.0, 307: 1.0, 308: 1.0, 314: 1.0, 318: 1.0, 319: 2.0, 320: 3.0, 321: 2.0, 328: 10.0, 329: 1.0, 330: 2.0, 332: 3.0, 336: 4.0, 338: 7.0, 339: 1.0, 345: 1.0, 346: 7.0, 347: 3.0, 350: 2.0, 353: 2.0, 354: 4.0, 363: 1.0, 364: 3.0, 367: 2.0, 368: 3.0, 369: 8.0, 370: 10.0, 375: 4.0, 377: 3.0, 378: 40.0, 380: 1.0, 381: 1.0, 382: 1.0, 383: 1.0, 385: 10.0, 390: 3.0, 391: 6.0, 392: 3.0, 393: 1.0, 395: 3.0, 397: 2.0, 401: 1.0, 403: 1.0, 404: 1.0, 405: 1.0, 409: 3.0, 413: 7.0, 414: 1.0, 417: 1.0, 418: 13.0, 419: 1.0, 425: 1.0, 426: 1.0, 427: 3.0, 428: 3.0, 429: 1.0, 430: 1.0, 431: 1.0, 432: 1.0, 437: 1.0, 441: 3.0, 442: 2.0, 443: 2.0, 444: 1.0, 447: 1.0, 448: 4.0, 454: 1.0, 456: 1.0, 457: 1.0, 465: 1.0, 471: 5.0, 472: 3.0, 473: 2.0, 475: 6.0, 476: 6.0, 480: 1.0, 484: 1.0, 487: 4.0, 489: 1.0, 490: 1.0, 491: 7.0, 492: 2.0, 494: 6.0, 498: 1.0, 499: 3.0, 502: 3.0, 505: 8.0, 506: 1.0, 507: 2.0, 508: 1.0, 509: 2.0, 511: 1.0, 513: 1.0, 514: 1.0, 517: 2.0, 518: 7.0, 521: 2.0, 525: 1.0, 526: 4.0, 532: 1.0, 538: 1.0, 542: 4.0, 546: 1.0, 547: 2.0, 548: 2.0, 549: 3.0, 552: 3.0, 553: 3.0, 566: 1.0, 567: 1.0, 569: 1.0, 570: 4.0, 572: 1.0, 576: 3.0, 577: 2.0, 579: 1.0, 582: 2.0, 589: 3.0, 590: 2.0, 593: 1.0, 595: 3.0, 600: 1.0, 603: 3.0, 604: 2.0, 605: 1.0, 606: 1.0, 610: 1.0, 618: 2.0, 625: 1.0, 630: 1.0, 635: 1.0, 637: 1.0, 638: 4.0, 640: 6.0, 641: 1.0, 643: 5.0, 645: 2.0, 648: 6.0, 649: 2.0, 651: 1.0, 652: 5.0, 653: 2.0, 654: 3.0, 656: 6.0, 658: 1.0, 659: 1.0, 660: 1.0, 661: 2.0, 670: 1.0, 673: 1.0, 677: 1.0, 679: 1.0, 680: 2.0, 687: 1.0, 690: 2.0, 693: 2.0, 696: 2.0, 697: 2.0, 699: 1.0, 701: 5.0, 702: 4.0, 705: 1.0, 714: 1.0, 715: 2.0, 718: 2.0, 719: 1.0, 721: 1.0, 723: 3.0, 724: 2.0, 726: 1.0, 729: 3.0, 737: 1.0, 741: 2.0, 742: 6.0, 744: 1.0, 746: 2.0, 748: 3.0, 752: 4.0, 754: 2.0, 755: 1.0, 756: 3.0, 757: 5.0, 762: 6.0, 765: 6.0, 767: 1.0, 771: 3.0, 779: 3.0, 782: 1.0, 785: 2.0, 786: 1.0, 787: 3.0, 801: 3.0, 805: 3.0, 809: 1.0, 812: 2.0, 813: 2.0, 820: 2.0, 822: 1.0, 823: 1.0, 824: 1.0, 825: 1.0, 826: 2.0, 828: 1.0, 829: 4.0, 834: 3.0, 835: 2.0, 840: 3.0, 841: 3.0, 844: 3.0, 845: 4.0, 846: 1.0, 847: 3.0, 848: 2.0, 851: 2.0, 853: 2.0, 854: 4.0, 859: 1.0, 861: 4.0, 863: 2.0, 864: 3.0, 865: 1.0, 869: 2.0, 877: 1.0, 878: 1.0, 882: 1.0, 885: 1.0, 888: 3.0, 890: 1.0, 896: 2.0, 898: 2.0, 900: 1.0, 907: 3.0, 909: 1.0, 913: 3.0, 916: 1.0, 918: 1.0, 920: 1.0, 922: 3.0, 929: 2.0, 930: 1.0, 931: 2.0, 932: 1.0, 935: 1.0, 936: 1.0, 940: 3.0, 941: 1.0, 946: 3.0, 948: 1.0, 952: 1.0, 956: 1.0, 958: 1.0, 965: 1.0, 966: 1.0, 967: 5.0, 968: 2.0, 969: 1.0, 970: 1.0, 974: 3.0, 979: 3.0, 980: 1.0, 981: 1.0, 983: 3.0, 992: 2.0, 995: 2.0, 997: 1.0, 998: 2.0, 1001: 2.0, 1006: 1.0, 1008: 1.0, 1013: 1.0, 1018: 3.0, 1027: 4.0, 1029: 1.0, 1043: 4.0, 1045: 1.0, 1049: 1.0, 1051: 1.0, 1053: 1.0, 1054: 1.0, 1055: 2.0, 1056: 2.0, 1057: 3.0, 1059: 1.0, 1068: 1.0, 1069: 2.0, 1071: 4.0, 1077: 2.0, 1078: 1.0, 1082: 1.0, 1083: 3.0, 1084: 1.0, 1085: 2.0, 1086: 2.0, 1094: 1.0, 1097: 1.0, 1101: 2.0, 1105: 4.0, 1108: 5.0, 1110: 1.0, 1119: 2.0, 1122: 1.0, 1123: 2.0, 1124: 4.0, 1135: 1.0, 1136: 1.0, 1141: 2.0, 1146: 1.0, 1153: 4.0, 1158: 2.0, 1160: 1.0, 1161: 3.0, 1163: 2.0, 1173: 1.0, 1180: 3.0, 1183: 3.0, 1188: 1.0, 1191: 2.0, 1192: 1.0, 1196: 2.0, 1199: 1.0, 1200: 2.0, 1210: 1.0, 1211: 2.0, 1214: 2.0, 1215: 1.0, 1222: 1.0, 1223: 1.0, 1226: 3.0, 1228: 1.0, 1229: 2.0, 1233: 1.0, 1238: 2.0, 1242: 2.0, 1243: 3.0, 1246: 2.0, 1247: 1.0, 1249: 4.0, 1254: 2.0, 1255: 1.0, 1262: 1.0, 1264: 1.0, 1268: 1.0, 1286: 1.0, 1301: 1.0, 1311: 1.0, 1315: 1.0, 1320: 1.0, 1322: 2.0, 1323: 1.0, 1325: 2.0, 1327: 2.0, 1329: 1.0, 1331: 3.0, 1334: 1.0, 1336: 1.0, 1343: 1.0, 1346: 2.0, 1349: 4.0, 1357: 1.0, 1358: 2.0, 1361: 1.0, 1367: 1.0, 1371: 2.0, 1379: 1.0, 1385: 1.0, 1390: 1.0, 1399: 1.0, 1408: 1.0, 1416: 1.0, 1418: 3.0, 1431: 2.0, 1433: 1.0, 1438: 1.0, 1442: 1.0, 1447: 1.0, 1448: 1.0, 1457: 1.0, 1460: 1.0, 1463: 1.0, 1465: 2.0, 1467: 1.0, 1472: 1.0, 1482: 2.0, 1489: 2.0, 1492: 1.0, 1494: 1.0, 1495: 1.0, 1503: 1.0, 1507: 1.0, 1511: 1.0, 1517: 2.0, 1529: 1.0, 1536: 1.0, 1537: 1.0, 1545: 1.0, 1548: 1.0, 1551: 2.0, 1554: 4.0, 1558: 1.0, 1560: 1.0, 1565: 1.0, 1574: 2.0, 1576: 1.0, 1578: 1.0, 1580: 2.0, 1581: 1.0, 1582: 1.0, 1584: 1.0, 1588: 7.0, 1597: 1.0, 1601: 1.0, 1602: 1.0, 1603: 1.0, 1605: 2.0, 1606: 1.0, 1607: 1.0, 1609: 3.0, 1612: 1.0, 1616: 1.0, 1618: 1.0, 1620: 1.0, 1623: 1.0, 1627: 1.0, 1630: 1.0, 1632: 1.0, 1633: 3.0, 1635: 3.0, 1638: 1.0, 1639: 1.0, 1642: 2.0, 1649: 3.0, 1650: 1.0, 1657: 1.0, 1661: 1.0, 1665: 2.0, 1670: 1.0, 1672: 1.0, 1674: 1.0, 1686: 1.0, 1688: 1.0, 1690: 4.0, 1700: 3.0, 1701: 1.0, 1702: 1.0, 1706: 3.0, 1707: 1.0, 1710: 2.0, 1712: 1.0, 1715: 1.0, 1718: 4.0, 1719: 2.0, 1726: 1.0, 1729: 1.0, 1735: 1.0, 1739: 1.0, 1746: 2.0, 1754: 2.0, 1756: 1.0, 1767: 5.0, 1773: 1.0, 1777: 3.0, 1783: 1.0, 1787: 2.0, 1795: 1.0, 1800: 1.0, 1801: 1.0, 1808: 1.0, 1813: 2.0, 1819: 5.0, 1821: 3.0, 1822: 1.0, 1827: 3.0, 1834: 6.0, 1836: 1.0, 1842: 1.0, 1845: 3.0, 1849: 2.0, 1859: 1.0, 1862: 2.0, 1864: 1.0, 1873: 1.0, 1876: 1.0, 1877: 4.0, 1879: 1.0, 1884: 1.0, 1890: 1.0, 1891: 2.0, 1904: 1.0, 1905: 2.0, 1909: 1.0, 1911: 1.0, 1913: 1.0, 1917: 3.0, 1918: 2.0, 1922: 1.0, 1936: 3.0, 1938: 3.0, 1939: 2.0, 1941: 2.0, 1942: 1.0, 1943: 2.0, 1953: 2.0, 1956: 1.0, 1961: 2.0, 1962: 1.0, 1963: 1.0, 1964: 2.0, 1965: 1.0, 1973: 2.0, 1979: 1.0, 1988: 2.0, 1991: 1.0, 1998: 1.0, 2000: 1.0, 2002: 2.0, 2005: 1.0, 2010: 1.0, 2019: 1.0, 2022: 1.0, 2026: 2.0, 2027: 1.0, 2032: 1.0, 2051: 1.0, 2052: 1.0, 2059: 1.0, 2065: 1.0, 2072: 1.0, 2080: 2.0, 2083: 1.0, 2086: 1.0, 2091: 2.0, 2098: 1.0, 2104: 1.0, 2107: 2.0, 2109: 1.0, 2110: 1.0, 2119: 1.0, 2122: 1.0, 2126: 1.0, 2128: 2.0, 2137: 1.0, 2142: 1.0, 2143: 1.0, 2154: 2.0, 2163: 1.0, 2165: 1.0, 2166: 1.0, 2177: 1.0, 2178: 1.0, 2179: 2.0, 2180: 3.0, 2181: 1.0, 2184: 1.0, 2195: 1.0, 2211: 1.0, 2212: 1.0, 2219: 2.0, 2228: 1.0, 2234: 2.0, 2240: 2.0, 2244: 1.0, 2245: 2.0, 2247: 1.0, 2253: 1.0, 2280: 1.0, 2283: 1.0, 2289: 1.0, 2298: 1.0, 2303: 2.0, 2308: 1.0, 2310: 1.0, 2311: 1.0, 2319: 1.0, 2322: 1.0, 2332: 4.0, 2333: 1.0, 2345: 1.0, 2350: 2.0, 2368: 1.0, 2370: 1.0, 2372: 2.0, 2380: 2.0, 2384: 3.0, 2403: 1.0, 2410: 1.0, 2415: 2.0, 2416: 1.0, 2418: 1.0, 2425: 1.0, 2427: 1.0, 2432: 2.0, 2436: 1.0, 2443: 1.0, 2447: 2.0, 2455: 2.0, 2466: 2.0, 2467: 2.0, 2471: 2.0, 2479: 2.0, 2480: 1.0, 2485: 1.0, 2489: 1.0, 2498: 1.0, 2499: 1.0, 2500: 1.0, 2509: 2.0, 2510: 2.0, 2514: 2.0, 2517: 1.0, 2519: 1.0, 2521: 1.0, 2535: 1.0, 2542: 2.0, 2550: 2.0, 2559: 1.0, 2566: 2.0, 2571: 1.0, 2574: 1.0, 2599: 1.0, 2601: 1.0, 2604: 2.0, 2612: 1.0, 2614: 1.0, 2615: 1.0, 2616: 2.0, 2617: 1.0, 2618: 4.0, 2621: 2.0, 2622: 3.0, 2642: 1.0, 2650: 1.0, 2652: 1.0, 2656: 1.0, 2661: 1.0, 2662: 1.0, 2669: 1.0, 2673: 2.0, 2683: 1.0, 2684: 1.0, 2686: 1.0, 2688: 2.0, 2691: 1.0, 2700: 1.0, 2710: 1.0, 2711: 1.0, 2730: 1.0, 2733: 1.0, 2741: 1.0, 2747: 2.0, 2751: 1.0, 2759: 1.0, 2773: 1.0, 2780: 2.0, 2788: 1.0, 2791: 1.0, 2797: 1.0, 2799: 1.0, 2805: 1.0, 2809: 2.0, 2822: 1.0, 2825: 1.0, 2852: 1.0, 2854: 1.0, 2858: 1.0, 2861: 1.0, 2877: 2.0, 2880: 1.0, 2894: 1.0, 2902: 1.0, 2909: 1.0, 2918: 1.0, 2923: 1.0, 2926: 1.0, 2930: 1.0, 2947: 1.0, 2962: 1.0, 2966: 1.0, 2974: 1.0, 2977: 2.0, 2978: 1.0, 2982: 1.0, 2988: 1.0, 2999: 1.0, 3000: 3.0, 3010: 1.0, 3019: 3.0, 3021: 1.0, 3043: 1.0, 3048: 2.0, 3058: 1.0, 3064: 1.0, 3065: 1.0, 3066: 1.0, 3067: 3.0, 3085: 1.0, 3093: 2.0, 3102: 1.0, 3105: 1.0, 3116: 1.0, 3132: 1.0, 3138: 1.0, 3155: 2.0, 3156: 1.0, 3167: 2.0, 3174: 1.0, 3177: 1.0, 3197: 1.0, 3223: 3.0, 3235: 2.0, 3238: 2.0, 3243: 1.0, 3247: 1.0, 3252: 2.0, 3254: 1.0, 3258: 1.0, 3283: 1.0, 3288: 1.0, 3296: 3.0, 3300: 1.0, 3301: 1.0, 3311: 1.0, 3312: 1.0, 3315: 1.0, 3340: 1.0, 3341: 1.0, 3345: 1.0, 3349: 1.0, 3352: 1.0, 3368: 1.0, 3371: 1.0, 3372: 1.0, 3375: 1.0, 3387: 1.0, 3389: 1.0, 3396: 1.0, 3401: 1.0, 3412: 1.0, 3432: 1.0, 3433: 1.0, 3439: 1.0, 3443: 1.0, 3457: 1.0, 3465: 1.0, 3468: 1.0, 3470: 1.0, 3478: 1.0, 3497: 1.0, 3499: 1.0, 3511: 1.0, 3520: 2.0, 3535: 1.0, 3557: 5.0, 3565: 1.0, 3577: 1.0, 3590: 1.0, 3595: 1.0, 3612: 1.0, 3623: 1.0, 3645: 1.0, 3647: 1.0, 3655: 1.0, 3658: 1.0, 3662: 1.0, 3673: 2.0, 3682: 1.0, 3695: 1.0, 3697: 1.0, 3701: 1.0, 3709: 1.0, 3712: 1.0, 3715: 1.0, 3741: 1.0, 3749: 1.0, 3753: 2.0, 3760: 1.0, 3766: 2.0, 3767: 1.0, 3776: 1.0, 3785: 1.0, 3797: 1.0, 3804: 1.0, 3807: 1.0, 3811: 1.0, 3813: 1.0, 3835: 1.0, 3852: 2.0, 3856: 1.0, 3859: 1.0, 3863: 4.0, 3869: 1.0, 3875: 1.0, 3876: 1.0, 3878: 1.0, 3905: 1.0, 3907: 1.0, 3910: 1.0, 3912: 1.0, 3915: 1.0, 3963: 1.0, 3977: 1.0, 3984: 2.0, 4028: 1.0, 4036: 1.0, 4040: 2.0, 4042: 1.0, 4046: 1.0, 4049: 1.0, 4062: 3.0, 4064: 1.0, 4065: 8.0, 4076: 1.0, 4101: 1.0, 4116: 1.0, 4131: 1.0, 4132: 1.0, 4156: 1.0, 4159: 1.0, 4160: 1.0, 4163: 1.0, 4178: 1.0, 4192: 1.0, 4193: 1.0, 4194: 1.0, 4241: 1.0, 4246: 3.0, 4256: 1.0, 4264: 1.0, 4268: 1.0, 4291: 1.0, 4295: 1.0, 4303: 1.0, 4307: 1.0, 4350: 1.0, 4357: 1.0, 4363: 1.0, 4368: 1.0, 4381: 1.0, 4392: 1.0, 4410: 1.0, 4424: 1.0, 4441: 1.0, 4465: 1.0, 4477: 1.0, 4478: 1.0, 4483: 1.0, 4484: 1.0, 4490: 2.0, 4519: 1.0, 4531: 1.0, 4537: 1.0, 4557: 1.0, 4562: 1.0, 4567: 1.0, 4580: 1.0, 4588: 1.0, 4599: 1.0, 4603: 1.0, 4616: 1.0, 4618: 1.0, 4641: 1.0, 4643: 1.0, 4662: 1.0, 4665: 1.0, 4673: 1.0, 4678: 1.0, 4687: 1.0, 4695: 1.0, 4696: 1.0, 4703: 1.0, 4706: 1.0, 4713: 1.0, 4717: 1.0, 4725: 1.0, 4729: 1.0, 4736: 1.0, 4746: 3.0, 4759: 1.0, 4777: 1.0, 4780: 1.0, 4782: 1.0, 4785: 1.0, 4786: 1.0, 4805: 1.0, 4820: 1.0, 4841: 1.0, 4842: 1.0, 4844: 1.0, 4868: 1.0, 4878: 1.0, 4881: 1.0, 4882: 1.0, 4913: 1.0, 4915: 1.0, 4924: 1.0, 4926: 1.0, 4935: 1.0, 4952: 1.0, 4954: 1.0, 4957: 1.0, 4958: 1.0, 4978: 1.0, 4998: 1.0, 5004: 1.0, 5019: 1.0, 5032: 1.0, 5039: 2.0, 5100: 1.0, 5105: 1.0, 5141: 1.0, 5149: 1.0, 5180: 1.0, 5187: 1.0, 5191: 1.0, 5206: 1.0, 5220: 2.0, 5262: 1.0, 5263: 1.0, 5266: 1.0, 5271: 1.0, 5274: 1.0, 5314: 1.0, 5320: 2.0, 5363: 1.0, 5411: 1.0, 5426: 2.0, 5457: 1.0, 5459: 1.0, 5504: 1.0, 5509: 1.0, 5513: 1.0, 5558: 1.0, 5572: 1.0, 5580: 1.0, 5590: 1.0, 5594: 1.0, 5628: 1.0, 5645: 1.0, 5674: 1.0, 5675: 2.0, 5697: 1.0, 5700: 1.0, 5774: 1.0, 5781: 1.0, 5807: 1.0, 5856: 1.0, 5858: 1.0, 5864: 1.0, 5898: 1.0, 5901: 1.0, 5906: 1.0, 5945: 1.0, 5971: 1.0, 5975: 1.0, 5986: 1.0, 5990: 1.0, 6005: 7.0, 6044: 1.0, 6070: 2.0, 6087: 1.0, 6112: 1.0, 6152: 2.0, 6191: 1.0, 6192: 2.0, 6195: 1.0, 6197: 1.0, 6200: 1.0, 6201: 1.0, 6257: 2.0, 6280: 1.0, 6295: 1.0, 6296: 1.0, 6316: 1.0, 6386: 1.0, 6390: 1.0, 6460: 1.0, 6469: 1.0, 6481: 7.0, 6495: 1.0, 6500: 1.0, 6509: 1.0, 6519: 1.0, 6545: 1.0, 6555: 1.0, 6556: 2.0, 6630: 1.0, 6637: 8.0, 6640: 1.0, 6644: 1.0, 6649: 1.0, 6675: 1.0, 6687: 1.0, 6694: 1.0, 6725: 1.0, 6757: 1.0, 6801: 1.0, 6918: 1.0, 6961: 2.0, 7042: 1.0, 7044: 1.0, 7186: 2.0, 7243: 1.0, 7275: 1.0, 7307: 1.0, 7332: 1.0, 7351: 1.0, 7361: 1.0, 7364: 1.0, 7381: 1.0, 7386: 1.0, 7388: 1.0, 7424: 1.0, 7434: 1.0, 7503: 1.0, 7546: 1.0, 7561: 1.0, 7575: 1.0, 7611: 1.0, 7655: 1.0, 7716: 1.0, 7727: 1.0, 7733: 1.0, 7756: 1.0, 7806: 1.0, 7829: 1.0, 7872: 1.0, 7956: 1.0, 7967: 1.0, 7972: 1.0, 7979: 1.0, 8020: 2.0, 8063: 1.0, 8147: 1.0, 8202: 1.0, 8207: 1.0, 8308: 1.0, 8350: 1.0, 8352: 1.0, 8400: 1.0, 8441: 2.0, 8457: 1.0, 8494: 2.0, 8503: 2.0, 8575: 1.0, 8672: 1.0, 8693: 1.0, 8708: 1.0, 8735: 1.0, 8780: 1.0, 8833: 1.0, 9004: 1.0, 9045: 2.0, 9101: 1.0, 9132: 1.0, 9146: 1.0, 9197: 1.0, 9218: 1.0, 9300: 1.0, 9315: 1.0, 9503: 1.0, 9537: 1.0, 9545: 1.0, 9560: 1.0, 9632: 1.0, 9673: 1.0, 9678: 1.0, 9757: 1.0, 9793: 1.0, 9835: 1.0, 9848: 1.0, 9871: 1.0, 9965: 1.0, 10002: 1.0, 10031: 1.0, 10105: 1.0, 10135: 1.0, 10264: 1.0, 10273: 1.0, 10379: 1.0, 10523: 1.0, 10606: 1.0, 10676: 1.0, 10722: 1.0, 10726: 2.0, 10985: 1.0, 11232: 1.0, 11245: 1.0, 11272: 1.0, 11298: 1.0, 11305: 1.0, 11392: 1.0, 11557: 1.0, 11572: 1.0, 11687: 1.0, 11730: 1.0, 11741: 1.0, 12016: 1.0, 12075: 1.0, 12101: 1.0, 12141: 1.0, 12317: 1.0, 12337: 1.0, 12346: 1.0, 12388: 1.0, 12520: 1.0, 12522: 1.0, 12896: 1.0, 13076: 2.0, 13078: 2.0, 13110: 2.0, 13182: 2.0, 13193: 1.0, 13279: 1.0, 13488: 1.0, 13511: 1.0, 13543: 1.0, 13646: 2.0, 13684: 1.0, 13854: 1.0, 13925: 1.0, 13929: 3.0, 13955: 1.0, 14106: 1.0, 14171: 1.0, 14459: 1.0, 14589: 4.0, 14636: 2.0, 14676: 1.0, 14695: 1.0, 14796: 1.0, 15049: 4.0, 15198: 1.0, 15222: 1.0, 15347: 1.0, 15366: 1.0, 15651: 1.0, 15678: 1.0, 15703: 1.0, 15729: 1.0, 15931: 1.0, 15932: 1.0, 15976: 1.0, 16011: 1.0, 16110: 1.0, 16539: 1.0, 16582: 1.0, 16635: 1.0, 16654: 1.0, 16676: 1.0, 16711: 1.0, 16733: 1.0, 16895: 1.0, 16963: 1.0, 17089: 1.0, 17221: 1.0, 18027: 1.0, 18192: 3.0, 18256: 1.0, 18345: 1.0, 18433: 1.0, 18459: 1.0, 18496: 1.0, 18505: 1.0, 18716: 1.0, 18856: 1.0, 18899: 1.0, 19177: 1.0, 19281: 1.0, 19301: 1.0, 19550: 1.0, 19651: 1.0, 19677: 1.0, 19779: 1.0, 20038: 1.0, 20229: 1.0, 20610: 1.0, 20964: 1.0, 21532: 1.0, 21753: 1.0, 22134: 1.0, 22610: 1.0, 22756: 1.0, 22823: 1.0, 22864: 1.0, 23064: 1.0, 23123: 1.0, 23209: 1.0, 23306: 1.0, 23704: 1.0, 23811: 1.0, 23962: 1.0, 23968: 1.0, 24991: 1.0, 25565: 1.0, 25640: 1.0, 25681: 1.0, 26077: 1.0, 26082: 1.0, 26093: 1.0, 26151: 1.0, 26408: 1.0, 26726: 1.0, 26942: 1.0, 27218: 1.0, 27276: 1.0, 27954: 1.0, 28379: 1.0, 29266: 1.0, 29849: 1.0, 30327: 1.0, 30386: 1.0, 30736: 1.0, 30967: 1.0, 31266: 1.0, 31829: 1.0, 31903: 1.0, 32314: 1.0, 32743: 1.0, 33399: 1.0, 33406: 1.0, 33752: 1.0, 33753: 1.0, 33995: 1.0, 34120: 1.0, 34194: 1.0, 35380: 1.0, 36103: 1.0, 37954: 1.0, 38297: 1.0, 40528: 1.0, 43037: 1.0, 43204: 1.0, 46557: 1.0, 48578: 1.0, 48707: 1.0, 49928: 1.0, 49954: 1.0, 53984: 1.0, 54806: 1.0, 55743: 1.0, 57551: 1.0, 63018: 1.0, 63129: 1.0, 67337: 1.0, 72540: 1.0, 74912: 1.0, 75081: 1.0, 83117: 1.0, 93351: 1.0, 96240: 1.0}))"
      ]
     },
     "execution_count": 45,
     "metadata": {},
     "output_type": "execute_result"
    }
   ],
   "source": [
    "year_vec.first()"
   ]
  },
  {
   "cell_type": "code",
   "execution_count": 46,
   "metadata": {},
   "outputs": [],
   "source": [
    "# TODO: use an empty dictionary and the two functions defined above as arguments to the treeAggregate method\n",
    "year_sums = (year_vec.partitionBy(n_partitions)\n",
    "                     .treeAggregate({}, add_vector, add_dicts))"
   ]
  },
  {
   "cell_type": "markdown",
   "metadata": {},
   "source": [
    "Note that `year_sums` is a single \"value\", in this case our aggregate dictionary containing years as keys and vectors representing cummulative word counts as values. "
   ]
  },
  {
   "cell_type": "code",
   "execution_count": 47,
   "metadata": {},
   "outputs": [
    {
     "data": {
      "text/plain": [
       "[(1889,\n",
       "  array([ 19048.,  11986.,  11854., ...,      0.,      0.,      0.], dtype=float32)),\n",
       " (713, array([ 118.,  175.,   50., ...,    0.,    0.,    0.], dtype=float32)),\n",
       " (1693, array([ 357.,   68.,  206., ...,    0.,    0.,    0.], dtype=float32)),\n",
       " (1791, array([ 773.,  294.,  396., ...,    0.,    0.,    0.], dtype=float32)),\n",
       " (1898,\n",
       "  array([ 30891.,  19020.,  15751., ...,      0.,      0.,      0.], dtype=float32)),\n",
       " (1800,\n",
       "  array([  467.,  1404.,  1066., ...,     0.,     0.,     0.], dtype=float32)),\n",
       " (1604, array([ 14.,  36.,  28., ...,   0.,   0.,   0.], dtype=float32)),\n",
       " (1907, array([  3.88410000e+04,   2.38610000e+04,   1.83420000e+04, ...,\n",
       "           0.00000000e+00,   1.00000000e+00,   0.00000000e+00], dtype=float32)),\n",
       " (1809, array([ 324.,  309.,  649., ...,    0.,    0.,    0.], dtype=float32)),\n",
       " (1711, array([  23.,  120.,   60., ...,    0.,    0.,    0.], dtype=float32))]"
      ]
     },
     "execution_count": 47,
     "metadata": {},
     "output_type": "execute_result"
    }
   ],
   "source": [
    "list(year_sums.items())[0:10]"
   ]
  },
  {
   "cell_type": "markdown",
   "metadata": {},
   "source": [
    "## Gutenberg Project N-gram viewer\n",
    "\n",
    "Lets plot some results!\n",
    "\n",
    "Below we define a plotting function and then make a plot of some interesting examples -- feel free to change the word list..."
   ]
  },
  {
   "cell_type": "code",
   "execution_count": 48,
   "metadata": {},
   "outputs": [],
   "source": [
    "def plot_usage_frequency(words, year_data, word_lookup, plot_range = [1500,2015]) : \n",
    "    years = sorted(year_data.keys())\n",
    "    tot_count = np.array([year_data[year].sum() for year in years])\n",
    "    \n",
    "    if ',' in words:\n",
    "        words = [word.strip() for word in words.split(',')]\n",
    "    elif type(words) is not list: \n",
    "        words = [words]\n",
    "        \n",
    "    n_words = len(words)\n",
    "    \n",
    "    for i, word in enumerate(words) : \n",
    "        word_ind = word_lookup[word]\n",
    "        w_count = np.array([year_data[year][word_ind] for year in years])\n",
    "        \n",
    "        plt.plot(years, smooth(w_count/(tot_count-w_count)),label=word, color = plt.cm.Set1(1.*i/n_words))\n",
    "    \n",
    "    plt.xlim(plot_range)\n",
    "    plt.xlabel('year')\n",
    "    plt.ylabel('relative frequency')\n",
    "    plt.legend(loc='upper left', fontsize = 'small')\n",
    "    \n",
    "    \n",
    "def smooth(x,window_len=11,window='hanning'):\n",
    "        if x.ndim != 1:\n",
    "                raise ValueError(\"smooth only accepts 1 dimension arrays.\")\n",
    "        if x.size < window_len:\n",
    "                raise ValueError(\"Input vector needs to be bigger than window size.\")\n",
    "        if window_len<3:\n",
    "                return x\n",
    "        if not window in ['flat', 'hanning', 'hamming', 'bartlett', 'blackman']:\n",
    "                raise ValueError(\"Window is on of 'flat', 'hanning', 'hamming', 'bartlett', 'blackman'\")\n",
    "        s=np.r_[2*x[0]-x[window_len-1::-1],x,2*x[-1]-x[-1:-window_len:-1]]\n",
    "        if window == 'flat': #moving average\n",
    "                w=np.ones(window_len,'d')\n",
    "        else:  \n",
    "                w=eval('np.'+window+'(window_len)')\n",
    "        y=np.convolve(w/w.sum(),s,mode='same')\n",
    "        return y[window_len:-window_len+1]\n",
    "    \n",
    "from ipywidgets import interact, interactive, fixed\n",
    "import ipywidgets as widgets\n",
    "\n",
    "plot_partial = lambda words: plot_usage_frequency(words, year_sums, word_lookup)"
   ]
  },
  {
   "cell_type": "markdown",
   "metadata": {},
   "source": [
    "Here are just some illustrative examples -- feel free to try your own..."
   ]
  },
  {
   "cell_type": "code",
   "execution_count": 49,
   "metadata": {
    "scrolled": false
   },
   "outputs": [
    {
     "data": {
      "application/vnd.jupyter.widget-view+json": {
       "model_id": "34b0252fd04b413ea85ca7d4e9fb0434",
       "version_major": 2,
       "version_minor": 0
      },
      "text/plain": [
       "A Jupyter Widget"
      ]
     },
     "metadata": {},
     "output_type": "display_data"
    },
    {
     "data": {
      "text/plain": [
       "<function __main__.<lambda>>"
      ]
     },
     "execution_count": 49,
     "metadata": {},
     "output_type": "execute_result"
    }
   ],
   "source": [
    "interact(plot_partial, words = 'giveth, environment, machine')"
   ]
  },
  {
   "cell_type": "markdown",
   "metadata": {},
   "source": [
    "If you are very motivated, you can adapt the workflow above to work with higher-order n-grams and allow for the lookup of phrases (i.e. \"world war\") instead of just single words. To do this, you have to create a new `word_lookup` table and regenerate the vectors. Since single words (i.e. one-grams) will dominate, it might make sense to build separate list of top N-grams (top two-grams, top three-grams) and then merge them together into a vocabulary map. Beware that the size of the data will increase quickly for N > 1!"
   ]
  },
  {
   "cell_type": "code",
   "execution_count": 50,
   "metadata": {},
   "outputs": [],
   "source": [
    "sc.stop()"
   ]
  }
 ],
 "metadata": {
  "kernelspec": {
   "display_name": "Python 3",
   "language": "python",
   "name": "python3"
  },
  "language_info": {
   "codemirror_mode": {
    "name": "ipython",
    "version": 3
   },
   "file_extension": ".py",
   "mimetype": "text/x-python",
   "name": "python",
   "nbconvert_exporter": "python",
   "pygments_lexer": "ipython3",
   "version": "3.6.3"
  }
 },
 "nbformat": 4,
 "nbformat_minor": 1
}
